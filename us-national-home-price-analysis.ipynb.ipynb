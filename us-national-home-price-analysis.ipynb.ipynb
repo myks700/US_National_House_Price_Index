{
 "cells": [
  {
   "cell_type": "markdown",
   "id": "4a8f0fb7",
   "metadata": {
    "papermill": {
     "duration": 0.010169,
     "end_time": "2023-10-30T15:10:42.638443",
     "exception": false,
     "start_time": "2023-10-30T15:10:42.628274",
     "status": "completed"
    },
    "tags": []
   },
   "source": [
    "<a id=\"11\"></a>\n",
    "# <div style=\"font-size:80px; text-align: center; background-color: royalblue; font-family:Helvetica; color: #ffffff; padding: 14px; line-height: 1;border-radius:20px; border: 4px solid #3f484b;\"><b>US</b> National <br> <b>Home</b> Prices <br></div>"
   ]
  },
  {
   "cell_type": "code",
   "execution_count": 1,
   "id": "cebb1891",
   "metadata": {
    "execution": {
     "iopub.execute_input": "2023-10-30T15:10:42.660498Z",
     "iopub.status.busy": "2023-10-30T15:10:42.660079Z",
     "iopub.status.idle": "2023-10-30T15:10:45.426152Z",
     "shell.execute_reply": "2023-10-30T15:10:45.425093Z"
    },
    "papermill": {
     "duration": 2.78033,
     "end_time": "2023-10-30T15:10:45.428953",
     "exception": false,
     "start_time": "2023-10-30T15:10:42.648623",
     "status": "completed"
    },
    "tags": []
   },
   "outputs": [],
   "source": [
    "import pandas as pd\n",
    "import numpy as np\n",
    "import matplotlib.pyplot as plt\n",
    "import seaborn as sns\n",
    "\n",
    "import plotly.express as px\n",
    "import plotly.graph_objects as go\n",
    "from plotly.offline import init_notebook_mode, iplot\n",
    "import plotly"
   ]
  },
  {
   "cell_type": "code",
   "execution_count": 2,
   "id": "7643fefb",
   "metadata": {
    "execution": {
     "iopub.execute_input": "2023-10-30T15:10:45.450277Z",
     "iopub.status.busy": "2023-10-30T15:10:45.449666Z",
     "iopub.status.idle": "2023-10-30T15:10:45.503535Z",
     "shell.execute_reply": "2023-10-30T15:10:45.502624Z"
    },
    "id": "IAX6zHHK7E4l",
    "papermill": {
     "duration": 0.067488,
     "end_time": "2023-10-30T15:10:45.506129",
     "exception": false,
     "start_time": "2023-10-30T15:10:45.438641",
     "status": "completed"
    },
    "tags": []
   },
   "outputs": [],
   "source": [
    "mortgage_df = pd.read_csv('/kaggle/input/factors-affecting-usa-national-home-prices/Mortgage.csv')\n",
    "unemployed_df = pd.read_csv('/kaggle/input/factors-affecting-usa-national-home-prices/Unemployment-Rate.csv')\n",
    "gdp_df = pd.read_csv('/kaggle/input/factors-affecting-usa-national-home-prices/GDP.csv')\n",
    "housing_df = pd.read_csv('/kaggle/input/factors-affecting-usa-national-home-prices/Home-Price-Index.csv')\n",
    "population_df = pd.read_csv('/kaggle/input/factors-affecting-usa-national-home-prices/Population-Growth.csv')\n",
    "\n",
    "fedfunds_rate_df = pd.read_csv('/kaggle/input/factors-affecting-usa-national-home-prices/FedFunds.csv')\n",
    "cpi_df = pd.read_csv('/kaggle/input/factors-affecting-usa-national-home-prices/Consumer-Price-Index.csv')"
   ]
  },
  {
   "cell_type": "code",
   "execution_count": 3,
   "id": "20961901",
   "metadata": {
    "execution": {
     "iopub.execute_input": "2023-10-30T15:10:45.527841Z",
     "iopub.status.busy": "2023-10-30T15:10:45.527382Z",
     "iopub.status.idle": "2023-10-30T15:10:45.554623Z",
     "shell.execute_reply": "2023-10-30T15:10:45.553433Z"
    },
    "id": "3-DRod2r-FcI",
    "outputId": "950b19cf-2dcc-4e6b-92e2-a27e4310d934",
    "papermill": {
     "duration": 0.041124,
     "end_time": "2023-10-30T15:10:45.557237",
     "exception": false,
     "start_time": "2023-10-30T15:10:45.516113",
     "status": "completed"
    },
    "tags": []
   },
   "outputs": [
    {
     "data": {
      "text/html": [
       "<div>\n",
       "<style scoped>\n",
       "    .dataframe tbody tr th:only-of-type {\n",
       "        vertical-align: middle;\n",
       "    }\n",
       "\n",
       "    .dataframe tbody tr th {\n",
       "        vertical-align: top;\n",
       "    }\n",
       "\n",
       "    .dataframe thead th {\n",
       "        text-align: right;\n",
       "    }\n",
       "</style>\n",
       "<table border=\"1\" class=\"dataframe\">\n",
       "  <thead>\n",
       "    <tr style=\"text-align: right;\">\n",
       "      <th></th>\n",
       "      <th>DATE</th>\n",
       "      <th>CSUSHPISA</th>\n",
       "    </tr>\n",
       "  </thead>\n",
       "  <tbody>\n",
       "    <tr>\n",
       "      <th>0</th>\n",
       "      <td>1987-01-01</td>\n",
       "      <td>63.964</td>\n",
       "    </tr>\n",
       "    <tr>\n",
       "      <th>1</th>\n",
       "      <td>1987-02-01</td>\n",
       "      <td>64.424</td>\n",
       "    </tr>\n",
       "    <tr>\n",
       "      <th>2</th>\n",
       "      <td>1987-03-01</td>\n",
       "      <td>64.736</td>\n",
       "    </tr>\n",
       "    <tr>\n",
       "      <th>3</th>\n",
       "      <td>1987-04-01</td>\n",
       "      <td>65.132</td>\n",
       "    </tr>\n",
       "    <tr>\n",
       "      <th>4</th>\n",
       "      <td>1987-05-01</td>\n",
       "      <td>65.563</td>\n",
       "    </tr>\n",
       "    <tr>\n",
       "      <th>...</th>\n",
       "      <td>...</td>\n",
       "      <td>...</td>\n",
       "    </tr>\n",
       "    <tr>\n",
       "      <th>434</th>\n",
       "      <td>2023-03-01</td>\n",
       "      <td>298.396</td>\n",
       "    </tr>\n",
       "    <tr>\n",
       "      <th>435</th>\n",
       "      <td>2023-04-01</td>\n",
       "      <td>300.208</td>\n",
       "    </tr>\n",
       "    <tr>\n",
       "      <th>436</th>\n",
       "      <td>2023-05-01</td>\n",
       "      <td>302.685</td>\n",
       "    </tr>\n",
       "    <tr>\n",
       "      <th>437</th>\n",
       "      <td>2023-06-01</td>\n",
       "      <td>304.741</td>\n",
       "    </tr>\n",
       "    <tr>\n",
       "      <th>438</th>\n",
       "      <td>2023-07-01</td>\n",
       "      <td>306.720</td>\n",
       "    </tr>\n",
       "  </tbody>\n",
       "</table>\n",
       "<p>439 rows × 2 columns</p>\n",
       "</div>"
      ],
      "text/plain": [
       "           DATE  CSUSHPISA\n",
       "0    1987-01-01     63.964\n",
       "1    1987-02-01     64.424\n",
       "2    1987-03-01     64.736\n",
       "3    1987-04-01     65.132\n",
       "4    1987-05-01     65.563\n",
       "..          ...        ...\n",
       "434  2023-03-01    298.396\n",
       "435  2023-04-01    300.208\n",
       "436  2023-05-01    302.685\n",
       "437  2023-06-01    304.741\n",
       "438  2023-07-01    306.720\n",
       "\n",
       "[439 rows x 2 columns]"
      ]
     },
     "execution_count": 3,
     "metadata": {},
     "output_type": "execute_result"
    }
   ],
   "source": [
    "housing_df"
   ]
  },
  {
   "cell_type": "code",
   "execution_count": 4,
   "id": "19509deb",
   "metadata": {
    "execution": {
     "iopub.execute_input": "2023-10-30T15:10:45.579730Z",
     "iopub.status.busy": "2023-10-30T15:10:45.578953Z",
     "iopub.status.idle": "2023-10-30T15:10:45.600548Z",
     "shell.execute_reply": "2023-10-30T15:10:45.599360Z"
    },
    "id": "gz5TsbruTiRb",
    "papermill": {
     "duration": 0.035922,
     "end_time": "2023-10-30T15:10:45.603177",
     "exception": false,
     "start_time": "2023-10-30T15:10:45.567255",
     "status": "completed"
    },
    "tags": []
   },
   "outputs": [],
   "source": [
    "mortgage_df['DATE'] = pd.to_datetime(mortgage_df['DATE'])\n",
    "unemployed_df['DATE'] = pd.to_datetime(unemployed_df['DATE'])\n",
    "gdp_df['DATE'] = pd.to_datetime(gdp_df['DATE'])\n",
    "housing_df['DATE'] = pd.to_datetime(housing_df['DATE'])\n",
    "population_df['DATE'] = pd.to_datetime(population_df['DATE'])\n",
    "fedfunds_rate_df['DATE'] = pd.to_datetime(fedfunds_rate_df['DATE'])\n",
    "cpi_df['DATE'] = pd.to_datetime(cpi_df['DATE'])"
   ]
  },
  {
   "cell_type": "code",
   "execution_count": 5,
   "id": "7f06a312",
   "metadata": {
    "execution": {
     "iopub.execute_input": "2023-10-30T15:10:45.625693Z",
     "iopub.status.busy": "2023-10-30T15:10:45.624922Z",
     "iopub.status.idle": "2023-10-30T15:10:45.646335Z",
     "shell.execute_reply": "2023-10-30T15:10:45.645192Z"
    },
    "id": "G6gavBvYWED1",
    "papermill": {
     "duration": 0.03577,
     "end_time": "2023-10-30T15:10:45.649114",
     "exception": false,
     "start_time": "2023-10-30T15:10:45.613344",
     "status": "completed"
    },
    "tags": []
   },
   "outputs": [],
   "source": [
    "mortgage_df = mortgage_df[mortgage_df['DATE'].dt.year >= 2000]\n",
    "unemployed_df = unemployed_df[unemployed_df['DATE'].dt.year >= 2000]\n",
    "gdp_df = gdp_df[gdp_df['DATE'].dt.year >= 2000]\n",
    "housing_df = housing_df[housing_df['DATE'].dt.year >= 2000]\n",
    "population_df = population_df[population_df['DATE'].dt.year >= 2000]\n",
    "fedfunds_rate_df = fedfunds_rate_df[fedfunds_rate_df['DATE'].dt.year >= 2000]\n",
    "cpi_df = cpi_df[cpi_df['DATE'].dt.year >= 2000]"
   ]
  },
  {
   "cell_type": "code",
   "execution_count": 6,
   "id": "490bc9ef",
   "metadata": {
    "execution": {
     "iopub.execute_input": "2023-10-30T15:10:45.671348Z",
     "iopub.status.busy": "2023-10-30T15:10:45.670911Z",
     "iopub.status.idle": "2023-10-30T15:10:45.685165Z",
     "shell.execute_reply": "2023-10-30T15:10:45.684096Z"
    },
    "id": "PI1TJfcnU54c",
    "outputId": "87b8fd70-d08d-4822-c06c-eaeffb03c9c1",
    "papermill": {
     "duration": 0.028063,
     "end_time": "2023-10-30T15:10:45.687365",
     "exception": false,
     "start_time": "2023-10-30T15:10:45.659302",
     "status": "completed"
    },
    "tags": []
   },
   "outputs": [
    {
     "data": {
      "text/html": [
       "<div>\n",
       "<style scoped>\n",
       "    .dataframe tbody tr th:only-of-type {\n",
       "        vertical-align: middle;\n",
       "    }\n",
       "\n",
       "    .dataframe tbody tr th {\n",
       "        vertical-align: top;\n",
       "    }\n",
       "\n",
       "    .dataframe thead th {\n",
       "        text-align: right;\n",
       "    }\n",
       "</style>\n",
       "<table border=\"1\" class=\"dataframe\">\n",
       "  <thead>\n",
       "    <tr style=\"text-align: right;\">\n",
       "      <th></th>\n",
       "      <th>DATE</th>\n",
       "      <th>MORTGAGE30US</th>\n",
       "    </tr>\n",
       "  </thead>\n",
       "  <tbody>\n",
       "    <tr>\n",
       "      <th>1501</th>\n",
       "      <td>2000-01-07</td>\n",
       "      <td>8.15</td>\n",
       "    </tr>\n",
       "    <tr>\n",
       "      <th>1502</th>\n",
       "      <td>2000-01-14</td>\n",
       "      <td>8.18</td>\n",
       "    </tr>\n",
       "    <tr>\n",
       "      <th>1503</th>\n",
       "      <td>2000-01-21</td>\n",
       "      <td>8.26</td>\n",
       "    </tr>\n",
       "    <tr>\n",
       "      <th>1504</th>\n",
       "      <td>2000-01-28</td>\n",
       "      <td>8.25</td>\n",
       "    </tr>\n",
       "    <tr>\n",
       "      <th>1505</th>\n",
       "      <td>2000-02-04</td>\n",
       "      <td>8.25</td>\n",
       "    </tr>\n",
       "    <tr>\n",
       "      <th>...</th>\n",
       "      <td>...</td>\n",
       "      <td>...</td>\n",
       "    </tr>\n",
       "    <tr>\n",
       "      <th>2739</th>\n",
       "      <td>2023-09-28</td>\n",
       "      <td>7.31</td>\n",
       "    </tr>\n",
       "    <tr>\n",
       "      <th>2740</th>\n",
       "      <td>2023-10-05</td>\n",
       "      <td>7.49</td>\n",
       "    </tr>\n",
       "    <tr>\n",
       "      <th>2741</th>\n",
       "      <td>2023-10-12</td>\n",
       "      <td>7.57</td>\n",
       "    </tr>\n",
       "    <tr>\n",
       "      <th>2742</th>\n",
       "      <td>2023-10-19</td>\n",
       "      <td>7.63</td>\n",
       "    </tr>\n",
       "    <tr>\n",
       "      <th>2743</th>\n",
       "      <td>2023-10-26</td>\n",
       "      <td>7.79</td>\n",
       "    </tr>\n",
       "  </tbody>\n",
       "</table>\n",
       "<p>1243 rows × 2 columns</p>\n",
       "</div>"
      ],
      "text/plain": [
       "           DATE  MORTGAGE30US\n",
       "1501 2000-01-07          8.15\n",
       "1502 2000-01-14          8.18\n",
       "1503 2000-01-21          8.26\n",
       "1504 2000-01-28          8.25\n",
       "1505 2000-02-04          8.25\n",
       "...         ...           ...\n",
       "2739 2023-09-28          7.31\n",
       "2740 2023-10-05          7.49\n",
       "2741 2023-10-12          7.57\n",
       "2742 2023-10-19          7.63\n",
       "2743 2023-10-26          7.79\n",
       "\n",
       "[1243 rows x 2 columns]"
      ]
     },
     "execution_count": 6,
     "metadata": {},
     "output_type": "execute_result"
    }
   ],
   "source": [
    "mortgage_df"
   ]
  },
  {
   "cell_type": "code",
   "execution_count": 7,
   "id": "39df17d9",
   "metadata": {
    "execution": {
     "iopub.execute_input": "2023-10-30T15:10:45.710171Z",
     "iopub.status.busy": "2023-10-30T15:10:45.709743Z",
     "iopub.status.idle": "2023-10-30T15:10:45.720960Z",
     "shell.execute_reply": "2023-10-30T15:10:45.719790Z"
    },
    "id": "14lXRly9YHGR",
    "papermill": {
     "duration": 0.025897,
     "end_time": "2023-10-30T15:10:45.723780",
     "exception": false,
     "start_time": "2023-10-30T15:10:45.697883",
     "status": "completed"
    },
    "tags": []
   },
   "outputs": [],
   "source": [
    "def plot_line_chart(df, x, y, title):\n",
    "\n",
    "  trace_high = go.Scatter(\n",
    "      x = df[x],\n",
    "      y = df[y],\n",
    "      name = title,\n",
    "      line = dict(color = '#0047AB', width=3),\n",
    "      opacity = 0.8)\n",
    "\n",
    "  data = [trace_high]\n",
    "\n",
    "\n",
    "  layout = dict(\n",
    "      title = title,\n",
    "      xaxis = dict(\n",
    "          rangeselector = dict(\n",
    "              buttons = list([\n",
    "                  dict(count = 6,\n",
    "                      label = '6 months',\n",
    "                      step = 'month',\n",
    "                      stepmode = 'backward'),\n",
    "                  dict(count = 1,\n",
    "                      label = '1 year',\n",
    "                      step = 'year',\n",
    "                      stepmode = 'backward'),\n",
    "                  dict(count = 2,\n",
    "                      label = '2 years',\n",
    "                      step = 'year',\n",
    "                      stepmode = 'backward'),\n",
    "                  dict(count = 5,\n",
    "                      label = '5 years',\n",
    "                      step = 'year',\n",
    "                      stepmode = 'backward'),\n",
    "                  dict(count = 10,\n",
    "                      label = '10 years',\n",
    "                      step = 'year',\n",
    "                      stepmode = 'backward'),\n",
    "                  dict(count = 15,\n",
    "                      label = '15 years',\n",
    "                      step = 'year',\n",
    "                      stepmode = 'backward'),\n",
    "                  dict(step = 'all')\n",
    "              ])\n",
    "          ),\n",
    "          rangeslider = dict(\n",
    "              visible = True\n",
    "          ),\n",
    "          type = 'date'\n",
    "      )\n",
    "  )\n",
    "\n",
    "  fig = dict(data = data, layout = layout)\n",
    "  iplot(fig, filename = title)"
   ]
  },
  {
   "cell_type": "markdown",
   "id": "e83066c2",
   "metadata": {
    "id": "2P9ouAwAVKIC",
    "papermill": {
     "duration": 0.010089,
     "end_time": "2023-10-30T15:10:45.744697",
     "exception": false,
     "start_time": "2023-10-30T15:10:45.734608",
     "status": "completed"
    },
    "tags": []
   },
   "source": [
    "<a id=\"3.1\"></a>\n",
    "<h3 style=\"font-size:25px; text-align: left;background-color:royalblue; font-family:Helvetica; color: #ffffff; padding: 16px; line-height: 1; border-radius:10px; border: 3px solid #3f484b;\"> US National Home Price Index</h3>"
   ]
  },
  {
   "cell_type": "code",
   "execution_count": 8,
   "id": "29cf318f",
   "metadata": {
    "execution": {
     "iopub.execute_input": "2023-10-30T15:10:45.767429Z",
     "iopub.status.busy": "2023-10-30T15:10:45.767043Z",
     "iopub.status.idle": "2023-10-30T15:10:47.353433Z",
     "shell.execute_reply": "2023-10-30T15:10:47.352245Z"
    },
    "id": "lUjiVovtVGl4",
    "outputId": "4d20ca23-d73b-4fc9-8e03-d93141a5c9a1",
    "papermill": {
     "duration": 1.600531,
     "end_time": "2023-10-30T15:10:47.355735",
     "exception": false,
     "start_time": "2023-10-30T15:10:45.755204",
     "status": "completed"
    },
    "tags": []
   },
   "outputs": [
    {
     "data": {
      "text/html": [
       "        <script type=\"text/javascript\">\n",
       "        window.PlotlyConfig = {MathJaxConfig: 'local'};\n",
       "        if (window.MathJax && window.MathJax.Hub && window.MathJax.Hub.Config) {window.MathJax.Hub.Config({SVG: {font: \"STIX-Web\"}});}\n",
       "        if (typeof require !== 'undefined') {\n",
       "        require.undef(\"plotly\");\n",
       "        requirejs.config({\n",
       "            paths: {\n",
       "                'plotly': ['https://cdn.plot.ly/plotly-2.24.1.min']\n",
       "            }\n",
       "        });\n",
       "        require(['plotly'], function(Plotly) {\n",
       "            window._Plotly = Plotly;\n",
       "        });\n",
       "        }\n",
       "        </script>\n",
       "        "
      ]
     },
     "metadata": {},
     "output_type": "display_data"
    },
    {
     "data": {
      "text/html": [
       "<div>                            <div id=\"747baa87-79d3-4d05-b12b-ee7c8578b67f\" class=\"plotly-graph-div\" style=\"height:525px; width:100%;\"></div>            <script type=\"text/javascript\">                require([\"plotly\"], function(Plotly) {                    window.PLOTLYENV=window.PLOTLYENV || {};                                    if (document.getElementById(\"747baa87-79d3-4d05-b12b-ee7c8578b67f\")) {                    Plotly.newPlot(                        \"747baa87-79d3-4d05-b12b-ee7c8578b67f\",                        [{\"line\":{\"color\":\"#0047AB\",\"width\":3},\"name\":\"S&P\\u002fCase-Shiller U.S. National Home Price Index\",\"opacity\":0.8,\"x\":[\"2000-01-01T00:00:00\",\"2000-02-01T00:00:00\",\"2000-03-01T00:00:00\",\"2000-04-01T00:00:00\",\"2000-05-01T00:00:00\",\"2000-06-01T00:00:00\",\"2000-07-01T00:00:00\",\"2000-08-01T00:00:00\",\"2000-09-01T00:00:00\",\"2000-10-01T00:00:00\",\"2000-11-01T00:00:00\",\"2000-12-01T00:00:00\",\"2001-01-01T00:00:00\",\"2001-02-01T00:00:00\",\"2001-03-01T00:00:00\",\"2001-04-01T00:00:00\",\"2001-05-01T00:00:00\",\"2001-06-01T00:00:00\",\"2001-07-01T00:00:00\",\"2001-08-01T00:00:00\",\"2001-09-01T00:00:00\",\"2001-10-01T00:00:00\",\"2001-11-01T00:00:00\",\"2001-12-01T00:00:00\",\"2002-01-01T00:00:00\",\"2002-02-01T00:00:00\",\"2002-03-01T00:00:00\",\"2002-04-01T00:00:00\",\"2002-05-01T00:00:00\",\"2002-06-01T00:00:00\",\"2002-07-01T00:00:00\",\"2002-08-01T00:00:00\",\"2002-09-01T00:00:00\",\"2002-10-01T00:00:00\",\"2002-11-01T00:00:00\",\"2002-12-01T00:00:00\",\"2003-01-01T00:00:00\",\"2003-02-01T00:00:00\",\"2003-03-01T00:00:00\",\"2003-04-01T00:00:00\",\"2003-05-01T00:00:00\",\"2003-06-01T00:00:00\",\"2003-07-01T00:00:00\",\"2003-08-01T00:00:00\",\"2003-09-01T00:00:00\",\"2003-10-01T00:00:00\",\"2003-11-01T00:00:00\",\"2003-12-01T00:00:00\",\"2004-01-01T00:00:00\",\"2004-02-01T00:00:00\",\"2004-03-01T00:00:00\",\"2004-04-01T00:00:00\",\"2004-05-01T00:00:00\",\"2004-06-01T00:00:00\",\"2004-07-01T00:00:00\",\"2004-08-01T00:00:00\",\"2004-09-01T00:00:00\",\"2004-10-01T00:00:00\",\"2004-11-01T00:00:00\",\"2004-12-01T00:00:00\",\"2005-01-01T00:00:00\",\"2005-02-01T00:00:00\",\"2005-03-01T00:00:00\",\"2005-04-01T00:00:00\",\"2005-05-01T00:00:00\",\"2005-06-01T00:00:00\",\"2005-07-01T00:00:00\",\"2005-08-01T00:00:00\",\"2005-09-01T00:00:00\",\"2005-10-01T00:00:00\",\"2005-11-01T00:00:00\",\"2005-12-01T00:00:00\",\"2006-01-01T00:00:00\",\"2006-02-01T00:00:00\",\"2006-03-01T00:00:00\",\"2006-04-01T00:00:00\",\"2006-05-01T00:00:00\",\"2006-06-01T00:00:00\",\"2006-07-01T00:00:00\",\"2006-08-01T00:00:00\",\"2006-09-01T00:00:00\",\"2006-10-01T00:00:00\",\"2006-11-01T00:00:00\",\"2006-12-01T00:00:00\",\"2007-01-01T00:00:00\",\"2007-02-01T00:00:00\",\"2007-03-01T00:00:00\",\"2007-04-01T00:00:00\",\"2007-05-01T00:00:00\",\"2007-06-01T00:00:00\",\"2007-07-01T00:00:00\",\"2007-08-01T00:00:00\",\"2007-09-01T00:00:00\",\"2007-10-01T00:00:00\",\"2007-11-01T00:00:00\",\"2007-12-01T00:00:00\",\"2008-01-01T00:00:00\",\"2008-02-01T00:00:00\",\"2008-03-01T00:00:00\",\"2008-04-01T00:00:00\",\"2008-05-01T00:00:00\",\"2008-06-01T00:00:00\",\"2008-07-01T00:00:00\",\"2008-08-01T00:00:00\",\"2008-09-01T00:00:00\",\"2008-10-01T00:00:00\",\"2008-11-01T00:00:00\",\"2008-12-01T00:00:00\",\"2009-01-01T00:00:00\",\"2009-02-01T00:00:00\",\"2009-03-01T00:00:00\",\"2009-04-01T00:00:00\",\"2009-05-01T00:00:00\",\"2009-06-01T00:00:00\",\"2009-07-01T00:00:00\",\"2009-08-01T00:00:00\",\"2009-09-01T00:00:00\",\"2009-10-01T00:00:00\",\"2009-11-01T00:00:00\",\"2009-12-01T00:00:00\",\"2010-01-01T00:00:00\",\"2010-02-01T00:00:00\",\"2010-03-01T00:00:00\",\"2010-04-01T00:00:00\",\"2010-05-01T00:00:00\",\"2010-06-01T00:00:00\",\"2010-07-01T00:00:00\",\"2010-08-01T00:00:00\",\"2010-09-01T00:00:00\",\"2010-10-01T00:00:00\",\"2010-11-01T00:00:00\",\"2010-12-01T00:00:00\",\"2011-01-01T00:00:00\",\"2011-02-01T00:00:00\",\"2011-03-01T00:00:00\",\"2011-04-01T00:00:00\",\"2011-05-01T00:00:00\",\"2011-06-01T00:00:00\",\"2011-07-01T00:00:00\",\"2011-08-01T00:00:00\",\"2011-09-01T00:00:00\",\"2011-10-01T00:00:00\",\"2011-11-01T00:00:00\",\"2011-12-01T00:00:00\",\"2012-01-01T00:00:00\",\"2012-02-01T00:00:00\",\"2012-03-01T00:00:00\",\"2012-04-01T00:00:00\",\"2012-05-01T00:00:00\",\"2012-06-01T00:00:00\",\"2012-07-01T00:00:00\",\"2012-08-01T00:00:00\",\"2012-09-01T00:00:00\",\"2012-10-01T00:00:00\",\"2012-11-01T00:00:00\",\"2012-12-01T00:00:00\",\"2013-01-01T00:00:00\",\"2013-02-01T00:00:00\",\"2013-03-01T00:00:00\",\"2013-04-01T00:00:00\",\"2013-05-01T00:00:00\",\"2013-06-01T00:00:00\",\"2013-07-01T00:00:00\",\"2013-08-01T00:00:00\",\"2013-09-01T00:00:00\",\"2013-10-01T00:00:00\",\"2013-11-01T00:00:00\",\"2013-12-01T00:00:00\",\"2014-01-01T00:00:00\",\"2014-02-01T00:00:00\",\"2014-03-01T00:00:00\",\"2014-04-01T00:00:00\",\"2014-05-01T00:00:00\",\"2014-06-01T00:00:00\",\"2014-07-01T00:00:00\",\"2014-08-01T00:00:00\",\"2014-09-01T00:00:00\",\"2014-10-01T00:00:00\",\"2014-11-01T00:00:00\",\"2014-12-01T00:00:00\",\"2015-01-01T00:00:00\",\"2015-02-01T00:00:00\",\"2015-03-01T00:00:00\",\"2015-04-01T00:00:00\",\"2015-05-01T00:00:00\",\"2015-06-01T00:00:00\",\"2015-07-01T00:00:00\",\"2015-08-01T00:00:00\",\"2015-09-01T00:00:00\",\"2015-10-01T00:00:00\",\"2015-11-01T00:00:00\",\"2015-12-01T00:00:00\",\"2016-01-01T00:00:00\",\"2016-02-01T00:00:00\",\"2016-03-01T00:00:00\",\"2016-04-01T00:00:00\",\"2016-05-01T00:00:00\",\"2016-06-01T00:00:00\",\"2016-07-01T00:00:00\",\"2016-08-01T00:00:00\",\"2016-09-01T00:00:00\",\"2016-10-01T00:00:00\",\"2016-11-01T00:00:00\",\"2016-12-01T00:00:00\",\"2017-01-01T00:00:00\",\"2017-02-01T00:00:00\",\"2017-03-01T00:00:00\",\"2017-04-01T00:00:00\",\"2017-05-01T00:00:00\",\"2017-06-01T00:00:00\",\"2017-07-01T00:00:00\",\"2017-08-01T00:00:00\",\"2017-09-01T00:00:00\",\"2017-10-01T00:00:00\",\"2017-11-01T00:00:00\",\"2017-12-01T00:00:00\",\"2018-01-01T00:00:00\",\"2018-02-01T00:00:00\",\"2018-03-01T00:00:00\",\"2018-04-01T00:00:00\",\"2018-05-01T00:00:00\",\"2018-06-01T00:00:00\",\"2018-07-01T00:00:00\",\"2018-08-01T00:00:00\",\"2018-09-01T00:00:00\",\"2018-10-01T00:00:00\",\"2018-11-01T00:00:00\",\"2018-12-01T00:00:00\",\"2019-01-01T00:00:00\",\"2019-02-01T00:00:00\",\"2019-03-01T00:00:00\",\"2019-04-01T00:00:00\",\"2019-05-01T00:00:00\",\"2019-06-01T00:00:00\",\"2019-07-01T00:00:00\",\"2019-08-01T00:00:00\",\"2019-09-01T00:00:00\",\"2019-10-01T00:00:00\",\"2019-11-01T00:00:00\",\"2019-12-01T00:00:00\",\"2020-01-01T00:00:00\",\"2020-02-01T00:00:00\",\"2020-03-01T00:00:00\",\"2020-04-01T00:00:00\",\"2020-05-01T00:00:00\",\"2020-06-01T00:00:00\",\"2020-07-01T00:00:00\",\"2020-08-01T00:00:00\",\"2020-09-01T00:00:00\",\"2020-10-01T00:00:00\",\"2020-11-01T00:00:00\",\"2020-12-01T00:00:00\",\"2021-01-01T00:00:00\",\"2021-02-01T00:00:00\",\"2021-03-01T00:00:00\",\"2021-04-01T00:00:00\",\"2021-05-01T00:00:00\",\"2021-06-01T00:00:00\",\"2021-07-01T00:00:00\",\"2021-08-01T00:00:00\",\"2021-09-01T00:00:00\",\"2021-10-01T00:00:00\",\"2021-11-01T00:00:00\",\"2021-12-01T00:00:00\",\"2022-01-01T00:00:00\",\"2022-02-01T00:00:00\",\"2022-03-01T00:00:00\",\"2022-04-01T00:00:00\",\"2022-05-01T00:00:00\",\"2022-06-01T00:00:00\",\"2022-07-01T00:00:00\",\"2022-08-01T00:00:00\",\"2022-09-01T00:00:00\",\"2022-10-01T00:00:00\",\"2022-11-01T00:00:00\",\"2022-12-01T00:00:00\",\"2023-01-01T00:00:00\",\"2023-02-01T00:00:00\",\"2023-03-01T00:00:00\",\"2023-04-01T00:00:00\",\"2023-05-01T00:00:00\",\"2023-06-01T00:00:00\",\"2023-07-01T00:00:00\"],\"y\":[100.551,101.339,102.127,102.923,103.678,104.424,105.054,105.768,106.538,107.382,108.302,109.14,109.846,110.501,111.109,111.652,112.164,112.796,113.491,114.167,114.812,115.31,115.858,116.455,117.143,117.845,118.687,119.611,120.724,121.813,122.888,123.83,124.78,125.735,126.67,127.624,128.461,129.355,130.148,130.884,131.734,132.649,133.77700000000002,134.969,136.29399999999998,137.532,138.79399999999998,140.179,141.64600000000002,143.192,145.059,146.593,148.186,149.85,151.338,152.63299999999998,154.179,155.75,157.52700000000002,159.33,161.28799999999998,163.344,165.812,167.50099999999998,169.351,171.19,172.86,174.442,176.438,178.028,179.68,180.91,182.321,183.287,184.364,184.329,184.156,183.507,183.068,182.594,182.798,183.198,183.609,184.139,184.517,184.598,184.15,183.01,181.6,180.254,179.111,178.116,177.558,176.62400000000002,175.14700000000002,174.342,173.132,171.541,170.053,168.338,166.65900000000002,165.017,163.566,161.987,160.308,158.327,156.142,153.619,151.507,150.015,148.66,147.94899999999998,147.694,148.09,148.41,148.278,148.025,147.85,148.134,147.929,147.39600000000002,145.631,145.859,146.403,146.394,145.721,144.991,143.916,143.019,142.531,142.173,142.06,141.52100000000002,140.35,139.981,140.01,139.905,139.862,139.73,139.309,138.668,137.952,137.15200000000002,136.674,136.607,136.533,137.904,139.154,140.155,141.029,141.66899999999998,142.279,142.908,143.6,144.585,145.503,146.827,147.785,149.963,151.519,152.85,154.19899999999998,155.60399999999998,156.965,158.227,159.24200000000002,160.075,160.994,161.92700000000002,162.525,163.086,163.393,163.66,164.062,164.578,165.215,165.905,166.642,167.335,168.051,168.634,169.13,169.8,170.298,170.88099999999997,171.468,172.13099999999997,172.93599999999998,173.828,174.792,175.738,176.545,177.273,177.649,178.165,178.767,179.43,180.08,180.832,181.852,182.824,183.752,184.76,185.725,186.801,187.312,187.991,188.724,189.617,190.51,191.451,192.667,193.763,194.811,195.962,197.176,198.303,199.217,199.954,200.654,201.428,202.238,202.912,203.697,204.365,205.138,205.685,206.161,206.517,206.817,207.024,207.506,208.148,208.67,209.277,210.12,210.93400000000003,211.844,212.817,213.938,214.954,215.773,216.317,216.803,217.009,217.656,219.352,222.449,225.885,229.84,233.254,236.491,239.497,242.215,245.319,249.063,253.465,258.42900000000003,262.763,266.955,270.447,273.855,277.28,281.348,285.829,290.92400000000004,296.228,300.569,303.863,304.832,303.8,301.637,299.44,299.033,298.35,297.425,296.922,297.273,298.396,300.208,302.685,304.741,306.72],\"type\":\"scatter\"}],                        {\"template\":{\"data\":{\"barpolar\":[{\"marker\":{\"line\":{\"color\":\"#E5ECF6\",\"width\":0.5},\"pattern\":{\"fillmode\":\"overlay\",\"size\":10,\"solidity\":0.2}},\"type\":\"barpolar\"}],\"bar\":[{\"error_x\":{\"color\":\"#2a3f5f\"},\"error_y\":{\"color\":\"#2a3f5f\"},\"marker\":{\"line\":{\"color\":\"#E5ECF6\",\"width\":0.5},\"pattern\":{\"fillmode\":\"overlay\",\"size\":10,\"solidity\":0.2}},\"type\":\"bar\"}],\"carpet\":[{\"aaxis\":{\"endlinecolor\":\"#2a3f5f\",\"gridcolor\":\"white\",\"linecolor\":\"white\",\"minorgridcolor\":\"white\",\"startlinecolor\":\"#2a3f5f\"},\"baxis\":{\"endlinecolor\":\"#2a3f5f\",\"gridcolor\":\"white\",\"linecolor\":\"white\",\"minorgridcolor\":\"white\",\"startlinecolor\":\"#2a3f5f\"},\"type\":\"carpet\"}],\"choropleth\":[{\"colorbar\":{\"outlinewidth\":0,\"ticks\":\"\"},\"type\":\"choropleth\"}],\"contourcarpet\":[{\"colorbar\":{\"outlinewidth\":0,\"ticks\":\"\"},\"type\":\"contourcarpet\"}],\"contour\":[{\"colorbar\":{\"outlinewidth\":0,\"ticks\":\"\"},\"colorscale\":[[0.0,\"#0d0887\"],[0.1111111111111111,\"#46039f\"],[0.2222222222222222,\"#7201a8\"],[0.3333333333333333,\"#9c179e\"],[0.4444444444444444,\"#bd3786\"],[0.5555555555555556,\"#d8576b\"],[0.6666666666666666,\"#ed7953\"],[0.7777777777777778,\"#fb9f3a\"],[0.8888888888888888,\"#fdca26\"],[1.0,\"#f0f921\"]],\"type\":\"contour\"}],\"heatmapgl\":[{\"colorbar\":{\"outlinewidth\":0,\"ticks\":\"\"},\"colorscale\":[[0.0,\"#0d0887\"],[0.1111111111111111,\"#46039f\"],[0.2222222222222222,\"#7201a8\"],[0.3333333333333333,\"#9c179e\"],[0.4444444444444444,\"#bd3786\"],[0.5555555555555556,\"#d8576b\"],[0.6666666666666666,\"#ed7953\"],[0.7777777777777778,\"#fb9f3a\"],[0.8888888888888888,\"#fdca26\"],[1.0,\"#f0f921\"]],\"type\":\"heatmapgl\"}],\"heatmap\":[{\"colorbar\":{\"outlinewidth\":0,\"ticks\":\"\"},\"colorscale\":[[0.0,\"#0d0887\"],[0.1111111111111111,\"#46039f\"],[0.2222222222222222,\"#7201a8\"],[0.3333333333333333,\"#9c179e\"],[0.4444444444444444,\"#bd3786\"],[0.5555555555555556,\"#d8576b\"],[0.6666666666666666,\"#ed7953\"],[0.7777777777777778,\"#fb9f3a\"],[0.8888888888888888,\"#fdca26\"],[1.0,\"#f0f921\"]],\"type\":\"heatmap\"}],\"histogram2dcontour\":[{\"colorbar\":{\"outlinewidth\":0,\"ticks\":\"\"},\"colorscale\":[[0.0,\"#0d0887\"],[0.1111111111111111,\"#46039f\"],[0.2222222222222222,\"#7201a8\"],[0.3333333333333333,\"#9c179e\"],[0.4444444444444444,\"#bd3786\"],[0.5555555555555556,\"#d8576b\"],[0.6666666666666666,\"#ed7953\"],[0.7777777777777778,\"#fb9f3a\"],[0.8888888888888888,\"#fdca26\"],[1.0,\"#f0f921\"]],\"type\":\"histogram2dcontour\"}],\"histogram2d\":[{\"colorbar\":{\"outlinewidth\":0,\"ticks\":\"\"},\"colorscale\":[[0.0,\"#0d0887\"],[0.1111111111111111,\"#46039f\"],[0.2222222222222222,\"#7201a8\"],[0.3333333333333333,\"#9c179e\"],[0.4444444444444444,\"#bd3786\"],[0.5555555555555556,\"#d8576b\"],[0.6666666666666666,\"#ed7953\"],[0.7777777777777778,\"#fb9f3a\"],[0.8888888888888888,\"#fdca26\"],[1.0,\"#f0f921\"]],\"type\":\"histogram2d\"}],\"histogram\":[{\"marker\":{\"pattern\":{\"fillmode\":\"overlay\",\"size\":10,\"solidity\":0.2}},\"type\":\"histogram\"}],\"mesh3d\":[{\"colorbar\":{\"outlinewidth\":0,\"ticks\":\"\"},\"type\":\"mesh3d\"}],\"parcoords\":[{\"line\":{\"colorbar\":{\"outlinewidth\":0,\"ticks\":\"\"}},\"type\":\"parcoords\"}],\"pie\":[{\"automargin\":true,\"type\":\"pie\"}],\"scatter3d\":[{\"line\":{\"colorbar\":{\"outlinewidth\":0,\"ticks\":\"\"}},\"marker\":{\"colorbar\":{\"outlinewidth\":0,\"ticks\":\"\"}},\"type\":\"scatter3d\"}],\"scattercarpet\":[{\"marker\":{\"colorbar\":{\"outlinewidth\":0,\"ticks\":\"\"}},\"type\":\"scattercarpet\"}],\"scattergeo\":[{\"marker\":{\"colorbar\":{\"outlinewidth\":0,\"ticks\":\"\"}},\"type\":\"scattergeo\"}],\"scattergl\":[{\"marker\":{\"colorbar\":{\"outlinewidth\":0,\"ticks\":\"\"}},\"type\":\"scattergl\"}],\"scattermapbox\":[{\"marker\":{\"colorbar\":{\"outlinewidth\":0,\"ticks\":\"\"}},\"type\":\"scattermapbox\"}],\"scatterpolargl\":[{\"marker\":{\"colorbar\":{\"outlinewidth\":0,\"ticks\":\"\"}},\"type\":\"scatterpolargl\"}],\"scatterpolar\":[{\"marker\":{\"colorbar\":{\"outlinewidth\":0,\"ticks\":\"\"}},\"type\":\"scatterpolar\"}],\"scatter\":[{\"fillpattern\":{\"fillmode\":\"overlay\",\"size\":10,\"solidity\":0.2},\"type\":\"scatter\"}],\"scatterternary\":[{\"marker\":{\"colorbar\":{\"outlinewidth\":0,\"ticks\":\"\"}},\"type\":\"scatterternary\"}],\"surface\":[{\"colorbar\":{\"outlinewidth\":0,\"ticks\":\"\"},\"colorscale\":[[0.0,\"#0d0887\"],[0.1111111111111111,\"#46039f\"],[0.2222222222222222,\"#7201a8\"],[0.3333333333333333,\"#9c179e\"],[0.4444444444444444,\"#bd3786\"],[0.5555555555555556,\"#d8576b\"],[0.6666666666666666,\"#ed7953\"],[0.7777777777777778,\"#fb9f3a\"],[0.8888888888888888,\"#fdca26\"],[1.0,\"#f0f921\"]],\"type\":\"surface\"}],\"table\":[{\"cells\":{\"fill\":{\"color\":\"#EBF0F8\"},\"line\":{\"color\":\"white\"}},\"header\":{\"fill\":{\"color\":\"#C8D4E3\"},\"line\":{\"color\":\"white\"}},\"type\":\"table\"}]},\"layout\":{\"annotationdefaults\":{\"arrowcolor\":\"#2a3f5f\",\"arrowhead\":0,\"arrowwidth\":1},\"autotypenumbers\":\"strict\",\"coloraxis\":{\"colorbar\":{\"outlinewidth\":0,\"ticks\":\"\"}},\"colorscale\":{\"diverging\":[[0,\"#8e0152\"],[0.1,\"#c51b7d\"],[0.2,\"#de77ae\"],[0.3,\"#f1b6da\"],[0.4,\"#fde0ef\"],[0.5,\"#f7f7f7\"],[0.6,\"#e6f5d0\"],[0.7,\"#b8e186\"],[0.8,\"#7fbc41\"],[0.9,\"#4d9221\"],[1,\"#276419\"]],\"sequential\":[[0.0,\"#0d0887\"],[0.1111111111111111,\"#46039f\"],[0.2222222222222222,\"#7201a8\"],[0.3333333333333333,\"#9c179e\"],[0.4444444444444444,\"#bd3786\"],[0.5555555555555556,\"#d8576b\"],[0.6666666666666666,\"#ed7953\"],[0.7777777777777778,\"#fb9f3a\"],[0.8888888888888888,\"#fdca26\"],[1.0,\"#f0f921\"]],\"sequentialminus\":[[0.0,\"#0d0887\"],[0.1111111111111111,\"#46039f\"],[0.2222222222222222,\"#7201a8\"],[0.3333333333333333,\"#9c179e\"],[0.4444444444444444,\"#bd3786\"],[0.5555555555555556,\"#d8576b\"],[0.6666666666666666,\"#ed7953\"],[0.7777777777777778,\"#fb9f3a\"],[0.8888888888888888,\"#fdca26\"],[1.0,\"#f0f921\"]]},\"colorway\":[\"#636efa\",\"#EF553B\",\"#00cc96\",\"#ab63fa\",\"#FFA15A\",\"#19d3f3\",\"#FF6692\",\"#B6E880\",\"#FF97FF\",\"#FECB52\"],\"font\":{\"color\":\"#2a3f5f\"},\"geo\":{\"bgcolor\":\"white\",\"lakecolor\":\"white\",\"landcolor\":\"#E5ECF6\",\"showlakes\":true,\"showland\":true,\"subunitcolor\":\"white\"},\"hoverlabel\":{\"align\":\"left\"},\"hovermode\":\"closest\",\"mapbox\":{\"style\":\"light\"},\"paper_bgcolor\":\"white\",\"plot_bgcolor\":\"#E5ECF6\",\"polar\":{\"angularaxis\":{\"gridcolor\":\"white\",\"linecolor\":\"white\",\"ticks\":\"\"},\"bgcolor\":\"#E5ECF6\",\"radialaxis\":{\"gridcolor\":\"white\",\"linecolor\":\"white\",\"ticks\":\"\"}},\"scene\":{\"xaxis\":{\"backgroundcolor\":\"#E5ECF6\",\"gridcolor\":\"white\",\"gridwidth\":2,\"linecolor\":\"white\",\"showbackground\":true,\"ticks\":\"\",\"zerolinecolor\":\"white\"},\"yaxis\":{\"backgroundcolor\":\"#E5ECF6\",\"gridcolor\":\"white\",\"gridwidth\":2,\"linecolor\":\"white\",\"showbackground\":true,\"ticks\":\"\",\"zerolinecolor\":\"white\"},\"zaxis\":{\"backgroundcolor\":\"#E5ECF6\",\"gridcolor\":\"white\",\"gridwidth\":2,\"linecolor\":\"white\",\"showbackground\":true,\"ticks\":\"\",\"zerolinecolor\":\"white\"}},\"shapedefaults\":{\"line\":{\"color\":\"#2a3f5f\"}},\"ternary\":{\"aaxis\":{\"gridcolor\":\"white\",\"linecolor\":\"white\",\"ticks\":\"\"},\"baxis\":{\"gridcolor\":\"white\",\"linecolor\":\"white\",\"ticks\":\"\"},\"bgcolor\":\"#E5ECF6\",\"caxis\":{\"gridcolor\":\"white\",\"linecolor\":\"white\",\"ticks\":\"\"}},\"title\":{\"x\":0.05},\"xaxis\":{\"automargin\":true,\"gridcolor\":\"white\",\"linecolor\":\"white\",\"ticks\":\"\",\"title\":{\"standoff\":15},\"zerolinecolor\":\"white\",\"zerolinewidth\":2},\"yaxis\":{\"automargin\":true,\"gridcolor\":\"white\",\"linecolor\":\"white\",\"ticks\":\"\",\"title\":{\"standoff\":15},\"zerolinecolor\":\"white\",\"zerolinewidth\":2}}},\"title\":{\"text\":\"S&P\\u002fCase-Shiller U.S. National Home Price Index\"},\"xaxis\":{\"rangeselector\":{\"buttons\":[{\"count\":6,\"label\":\"6 months\",\"step\":\"month\",\"stepmode\":\"backward\"},{\"count\":1,\"label\":\"1 year\",\"step\":\"year\",\"stepmode\":\"backward\"},{\"count\":2,\"label\":\"2 years\",\"step\":\"year\",\"stepmode\":\"backward\"},{\"count\":5,\"label\":\"5 years\",\"step\":\"year\",\"stepmode\":\"backward\"},{\"count\":10,\"label\":\"10 years\",\"step\":\"year\",\"stepmode\":\"backward\"},{\"count\":15,\"label\":\"15 years\",\"step\":\"year\",\"stepmode\":\"backward\"},{\"step\":\"all\"}]},\"rangeslider\":{\"visible\":true},\"type\":\"date\"}},                        {\"responsive\": true}                    ).then(function(){\n",
       "                            \n",
       "var gd = document.getElementById('747baa87-79d3-4d05-b12b-ee7c8578b67f');\n",
       "var x = new MutationObserver(function (mutations, observer) {{\n",
       "        var display = window.getComputedStyle(gd).display;\n",
       "        if (!display || display === 'none') {{\n",
       "            console.log([gd, 'removed!']);\n",
       "            Plotly.purge(gd);\n",
       "            observer.disconnect();\n",
       "        }}\n",
       "}});\n",
       "\n",
       "// Listen for the removal of the full notebook cells\n",
       "var notebookContainer = gd.closest('#notebook-container');\n",
       "if (notebookContainer) {{\n",
       "    x.observe(notebookContainer, {childList: true});\n",
       "}}\n",
       "\n",
       "// Listen for the clearing of the current output cell\n",
       "var outputEl = gd.closest('.output');\n",
       "if (outputEl) {{\n",
       "    x.observe(outputEl, {childList: true});\n",
       "}}\n",
       "\n",
       "                        })                };                });            </script>        </div>"
      ]
     },
     "metadata": {},
     "output_type": "display_data"
    }
   ],
   "source": [
    "plot_line_chart(housing_df, x='DATE', y='CSUSHPISA', title='S&P/Case-Shiller U.S. National Home Price Index')"
   ]
  },
  {
   "cell_type": "markdown",
   "id": "3959b5af",
   "metadata": {
    "papermill": {
     "duration": 0.010668,
     "end_time": "2023-10-30T15:10:47.377504",
     "exception": false,
     "start_time": "2023-10-30T15:10:47.366836",
     "status": "completed"
    },
    "tags": []
   },
   "source": [
    "<a id=\"11\"></a>\n",
    "# <div style=\"font-size:40px; text-align: left; background-color: royalblue; font-family:Helvetica; color: #ffffff; padding: 14px; line-height: 1;border-radius:20px; border: 4px solid #3f484b;\">Economic Indicators</div>"
   ]
  },
  {
   "cell_type": "markdown",
   "id": "f8b989a3",
   "metadata": {
    "papermill": {
     "duration": 0.010661,
     "end_time": "2023-10-30T15:10:47.399081",
     "exception": false,
     "start_time": "2023-10-30T15:10:47.388420",
     "status": "completed"
    },
    "tags": []
   },
   "source": [
    "<a id=\"3.1\"></a>\n",
    "<h3 style=\"font-size:25px; text-align: left;background-color:royalblue; font-family:Helvetica; color: #ffffff; padding: 16px; line-height: 1; border-radius:10px; border: 3px solid #3f484b;\"> USA Unemployment Rate</h3>"
   ]
  },
  {
   "cell_type": "code",
   "execution_count": 9,
   "id": "c80035c1",
   "metadata": {
    "execution": {
     "iopub.execute_input": "2023-10-30T15:10:47.428550Z",
     "iopub.status.busy": "2023-10-30T15:10:47.427924Z",
     "iopub.status.idle": "2023-10-30T15:10:47.477924Z",
     "shell.execute_reply": "2023-10-30T15:10:47.476817Z"
    },
    "id": "aHx--OHeodf6",
    "outputId": "a4faa972-4278-4b41-d357-bcd59970a37d",
    "papermill": {
     "duration": 0.070204,
     "end_time": "2023-10-30T15:10:47.480375",
     "exception": false,
     "start_time": "2023-10-30T15:10:47.410171",
     "status": "completed"
    },
    "tags": []
   },
   "outputs": [
    {
     "data": {
      "text/html": [
       "<div>                            <div id=\"5dc6606f-69eb-42f7-b5e7-a7b4a8f44972\" class=\"plotly-graph-div\" style=\"height:525px; width:100%;\"></div>            <script type=\"text/javascript\">                require([\"plotly\"], function(Plotly) {                    window.PLOTLYENV=window.PLOTLYENV || {};                                    if (document.getElementById(\"5dc6606f-69eb-42f7-b5e7-a7b4a8f44972\")) {                    Plotly.newPlot(                        \"5dc6606f-69eb-42f7-b5e7-a7b4a8f44972\",                        [{\"line\":{\"color\":\"#0047AB\",\"width\":3},\"name\":\"USA Unemployment Rate over the years\",\"opacity\":0.8,\"x\":[\"2000-01-01T00:00:00\",\"2000-02-01T00:00:00\",\"2000-03-01T00:00:00\",\"2000-04-01T00:00:00\",\"2000-05-01T00:00:00\",\"2000-06-01T00:00:00\",\"2000-07-01T00:00:00\",\"2000-08-01T00:00:00\",\"2000-09-01T00:00:00\",\"2000-10-01T00:00:00\",\"2000-11-01T00:00:00\",\"2000-12-01T00:00:00\",\"2001-01-01T00:00:00\",\"2001-02-01T00:00:00\",\"2001-03-01T00:00:00\",\"2001-04-01T00:00:00\",\"2001-05-01T00:00:00\",\"2001-06-01T00:00:00\",\"2001-07-01T00:00:00\",\"2001-08-01T00:00:00\",\"2001-09-01T00:00:00\",\"2001-10-01T00:00:00\",\"2001-11-01T00:00:00\",\"2001-12-01T00:00:00\",\"2002-01-01T00:00:00\",\"2002-02-01T00:00:00\",\"2002-03-01T00:00:00\",\"2002-04-01T00:00:00\",\"2002-05-01T00:00:00\",\"2002-06-01T00:00:00\",\"2002-07-01T00:00:00\",\"2002-08-01T00:00:00\",\"2002-09-01T00:00:00\",\"2002-10-01T00:00:00\",\"2002-11-01T00:00:00\",\"2002-12-01T00:00:00\",\"2003-01-01T00:00:00\",\"2003-02-01T00:00:00\",\"2003-03-01T00:00:00\",\"2003-04-01T00:00:00\",\"2003-05-01T00:00:00\",\"2003-06-01T00:00:00\",\"2003-07-01T00:00:00\",\"2003-08-01T00:00:00\",\"2003-09-01T00:00:00\",\"2003-10-01T00:00:00\",\"2003-11-01T00:00:00\",\"2003-12-01T00:00:00\",\"2004-01-01T00:00:00\",\"2004-02-01T00:00:00\",\"2004-03-01T00:00:00\",\"2004-04-01T00:00:00\",\"2004-05-01T00:00:00\",\"2004-06-01T00:00:00\",\"2004-07-01T00:00:00\",\"2004-08-01T00:00:00\",\"2004-09-01T00:00:00\",\"2004-10-01T00:00:00\",\"2004-11-01T00:00:00\",\"2004-12-01T00:00:00\",\"2005-01-01T00:00:00\",\"2005-02-01T00:00:00\",\"2005-03-01T00:00:00\",\"2005-04-01T00:00:00\",\"2005-05-01T00:00:00\",\"2005-06-01T00:00:00\",\"2005-07-01T00:00:00\",\"2005-08-01T00:00:00\",\"2005-09-01T00:00:00\",\"2005-10-01T00:00:00\",\"2005-11-01T00:00:00\",\"2005-12-01T00:00:00\",\"2006-01-01T00:00:00\",\"2006-02-01T00:00:00\",\"2006-03-01T00:00:00\",\"2006-04-01T00:00:00\",\"2006-05-01T00:00:00\",\"2006-06-01T00:00:00\",\"2006-07-01T00:00:00\",\"2006-08-01T00:00:00\",\"2006-09-01T00:00:00\",\"2006-10-01T00:00:00\",\"2006-11-01T00:00:00\",\"2006-12-01T00:00:00\",\"2007-01-01T00:00:00\",\"2007-02-01T00:00:00\",\"2007-03-01T00:00:00\",\"2007-04-01T00:00:00\",\"2007-05-01T00:00:00\",\"2007-06-01T00:00:00\",\"2007-07-01T00:00:00\",\"2007-08-01T00:00:00\",\"2007-09-01T00:00:00\",\"2007-10-01T00:00:00\",\"2007-11-01T00:00:00\",\"2007-12-01T00:00:00\",\"2008-01-01T00:00:00\",\"2008-02-01T00:00:00\",\"2008-03-01T00:00:00\",\"2008-04-01T00:00:00\",\"2008-05-01T00:00:00\",\"2008-06-01T00:00:00\",\"2008-07-01T00:00:00\",\"2008-08-01T00:00:00\",\"2008-09-01T00:00:00\",\"2008-10-01T00:00:00\",\"2008-11-01T00:00:00\",\"2008-12-01T00:00:00\",\"2009-01-01T00:00:00\",\"2009-02-01T00:00:00\",\"2009-03-01T00:00:00\",\"2009-04-01T00:00:00\",\"2009-05-01T00:00:00\",\"2009-06-01T00:00:00\",\"2009-07-01T00:00:00\",\"2009-08-01T00:00:00\",\"2009-09-01T00:00:00\",\"2009-10-01T00:00:00\",\"2009-11-01T00:00:00\",\"2009-12-01T00:00:00\",\"2010-01-01T00:00:00\",\"2010-02-01T00:00:00\",\"2010-03-01T00:00:00\",\"2010-04-01T00:00:00\",\"2010-05-01T00:00:00\",\"2010-06-01T00:00:00\",\"2010-07-01T00:00:00\",\"2010-08-01T00:00:00\",\"2010-09-01T00:00:00\",\"2010-10-01T00:00:00\",\"2010-11-01T00:00:00\",\"2010-12-01T00:00:00\",\"2011-01-01T00:00:00\",\"2011-02-01T00:00:00\",\"2011-03-01T00:00:00\",\"2011-04-01T00:00:00\",\"2011-05-01T00:00:00\",\"2011-06-01T00:00:00\",\"2011-07-01T00:00:00\",\"2011-08-01T00:00:00\",\"2011-09-01T00:00:00\",\"2011-10-01T00:00:00\",\"2011-11-01T00:00:00\",\"2011-12-01T00:00:00\",\"2012-01-01T00:00:00\",\"2012-02-01T00:00:00\",\"2012-03-01T00:00:00\",\"2012-04-01T00:00:00\",\"2012-05-01T00:00:00\",\"2012-06-01T00:00:00\",\"2012-07-01T00:00:00\",\"2012-08-01T00:00:00\",\"2012-09-01T00:00:00\",\"2012-10-01T00:00:00\",\"2012-11-01T00:00:00\",\"2012-12-01T00:00:00\",\"2013-01-01T00:00:00\",\"2013-02-01T00:00:00\",\"2013-03-01T00:00:00\",\"2013-04-01T00:00:00\",\"2013-05-01T00:00:00\",\"2013-06-01T00:00:00\",\"2013-07-01T00:00:00\",\"2013-08-01T00:00:00\",\"2013-09-01T00:00:00\",\"2013-10-01T00:00:00\",\"2013-11-01T00:00:00\",\"2013-12-01T00:00:00\",\"2014-01-01T00:00:00\",\"2014-02-01T00:00:00\",\"2014-03-01T00:00:00\",\"2014-04-01T00:00:00\",\"2014-05-01T00:00:00\",\"2014-06-01T00:00:00\",\"2014-07-01T00:00:00\",\"2014-08-01T00:00:00\",\"2014-09-01T00:00:00\",\"2014-10-01T00:00:00\",\"2014-11-01T00:00:00\",\"2014-12-01T00:00:00\",\"2015-01-01T00:00:00\",\"2015-02-01T00:00:00\",\"2015-03-01T00:00:00\",\"2015-04-01T00:00:00\",\"2015-05-01T00:00:00\",\"2015-06-01T00:00:00\",\"2015-07-01T00:00:00\",\"2015-08-01T00:00:00\",\"2015-09-01T00:00:00\",\"2015-10-01T00:00:00\",\"2015-11-01T00:00:00\",\"2015-12-01T00:00:00\",\"2016-01-01T00:00:00\",\"2016-02-01T00:00:00\",\"2016-03-01T00:00:00\",\"2016-04-01T00:00:00\",\"2016-05-01T00:00:00\",\"2016-06-01T00:00:00\",\"2016-07-01T00:00:00\",\"2016-08-01T00:00:00\",\"2016-09-01T00:00:00\",\"2016-10-01T00:00:00\",\"2016-11-01T00:00:00\",\"2016-12-01T00:00:00\",\"2017-01-01T00:00:00\",\"2017-02-01T00:00:00\",\"2017-03-01T00:00:00\",\"2017-04-01T00:00:00\",\"2017-05-01T00:00:00\",\"2017-06-01T00:00:00\",\"2017-07-01T00:00:00\",\"2017-08-01T00:00:00\",\"2017-09-01T00:00:00\",\"2017-10-01T00:00:00\",\"2017-11-01T00:00:00\",\"2017-12-01T00:00:00\",\"2018-01-01T00:00:00\",\"2018-02-01T00:00:00\",\"2018-03-01T00:00:00\",\"2018-04-01T00:00:00\",\"2018-05-01T00:00:00\",\"2018-06-01T00:00:00\",\"2018-07-01T00:00:00\",\"2018-08-01T00:00:00\",\"2018-09-01T00:00:00\",\"2018-10-01T00:00:00\",\"2018-11-01T00:00:00\",\"2018-12-01T00:00:00\",\"2019-01-01T00:00:00\",\"2019-02-01T00:00:00\",\"2019-03-01T00:00:00\",\"2019-04-01T00:00:00\",\"2019-05-01T00:00:00\",\"2019-06-01T00:00:00\",\"2019-07-01T00:00:00\",\"2019-08-01T00:00:00\",\"2019-09-01T00:00:00\",\"2019-10-01T00:00:00\",\"2019-11-01T00:00:00\",\"2019-12-01T00:00:00\",\"2020-01-01T00:00:00\",\"2020-02-01T00:00:00\",\"2020-03-01T00:00:00\",\"2020-04-01T00:00:00\",\"2020-05-01T00:00:00\",\"2020-06-01T00:00:00\",\"2020-07-01T00:00:00\",\"2020-08-01T00:00:00\",\"2020-09-01T00:00:00\",\"2020-10-01T00:00:00\",\"2020-11-01T00:00:00\",\"2020-12-01T00:00:00\",\"2021-01-01T00:00:00\",\"2021-02-01T00:00:00\",\"2021-03-01T00:00:00\",\"2021-04-01T00:00:00\",\"2021-05-01T00:00:00\",\"2021-06-01T00:00:00\",\"2021-07-01T00:00:00\",\"2021-08-01T00:00:00\",\"2021-09-01T00:00:00\",\"2021-10-01T00:00:00\",\"2021-11-01T00:00:00\",\"2021-12-01T00:00:00\",\"2022-01-01T00:00:00\",\"2022-02-01T00:00:00\",\"2022-03-01T00:00:00\",\"2022-04-01T00:00:00\",\"2022-05-01T00:00:00\",\"2022-06-01T00:00:00\",\"2022-07-01T00:00:00\",\"2022-08-01T00:00:00\",\"2022-09-01T00:00:00\",\"2022-10-01T00:00:00\",\"2022-11-01T00:00:00\",\"2022-12-01T00:00:00\",\"2023-01-01T00:00:00\",\"2023-02-01T00:00:00\",\"2023-03-01T00:00:00\",\"2023-04-01T00:00:00\",\"2023-05-01T00:00:00\",\"2023-06-01T00:00:00\",\"2023-07-01T00:00:00\",\"2023-08-01T00:00:00\",\"2023-09-01T00:00:00\"],\"y\":[4.0,4.1,4.0,3.8,4.0,4.0,4.0,4.1,3.9,3.9,3.9,3.9,4.2,4.2,4.3,4.4,4.3,4.5,4.6,4.9,5.0,5.3,5.5,5.7,5.7,5.7,5.7,5.9,5.8,5.8,5.8,5.7,5.7,5.7,5.9,6.0,5.8,5.9,5.9,6.0,6.1,6.3,6.2,6.1,6.1,6.0,5.8,5.7,5.7,5.6,5.8,5.6,5.6,5.6,5.5,5.4,5.4,5.5,5.4,5.4,5.3,5.4,5.2,5.2,5.1,5.0,5.0,4.9,5.0,5.0,5.0,4.9,4.7,4.8,4.7,4.7,4.6,4.6,4.7,4.7,4.5,4.4,4.5,4.4,4.6,4.5,4.4,4.5,4.4,4.6,4.7,4.6,4.7,4.7,4.7,5.0,5.0,4.9,5.1,5.0,5.4,5.6,5.8,6.1,6.1,6.5,6.8,7.3,7.8,8.3,8.7,9.0,9.4,9.5,9.5,9.6,9.8,10.0,9.9,9.9,9.8,9.8,9.9,9.9,9.6,9.4,9.4,9.5,9.5,9.4,9.8,9.3,9.1,9.0,9.0,9.1,9.0,9.1,9.0,9.0,9.0,8.8,8.6,8.5,8.3,8.3,8.2,8.2,8.2,8.2,8.2,8.1,7.8,7.8,7.7,7.9,8.0,7.7,7.5,7.6,7.5,7.5,7.3,7.2,7.2,7.2,6.9,6.7,6.6,6.7,6.7,6.2,6.3,6.1,6.2,6.1,5.9,5.7,5.8,5.6,5.7,5.5,5.4,5.4,5.6,5.3,5.2,5.1,5.0,5.0,5.1,5.0,4.8,4.9,5.0,5.1,4.8,4.9,4.8,4.9,5.0,4.9,4.7,4.7,4.7,4.6,4.4,4.4,4.4,4.3,4.3,4.4,4.3,4.2,4.2,4.1,4.0,4.1,4.0,4.0,3.8,4.0,3.8,3.8,3.7,3.8,3.8,3.9,4.0,3.8,3.8,3.6,3.7,3.6,3.7,3.7,3.5,3.6,3.6,3.6,3.5,3.5,4.4,14.7,13.2,11.0,10.2,8.4,7.9,6.9,6.7,6.7,6.3,6.2,6.1,6.1,5.8,5.9,5.4,5.2,4.8,4.5,4.2,3.9,4.0,3.8,3.6,3.6,3.6,3.6,3.5,3.7,3.5,3.7,3.6,3.5,3.4,3.6,3.5,3.4,3.7,3.6,3.5,3.8,3.8],\"type\":\"scatter\"}],                        {\"template\":{\"data\":{\"barpolar\":[{\"marker\":{\"line\":{\"color\":\"#E5ECF6\",\"width\":0.5},\"pattern\":{\"fillmode\":\"overlay\",\"size\":10,\"solidity\":0.2}},\"type\":\"barpolar\"}],\"bar\":[{\"error_x\":{\"color\":\"#2a3f5f\"},\"error_y\":{\"color\":\"#2a3f5f\"},\"marker\":{\"line\":{\"color\":\"#E5ECF6\",\"width\":0.5},\"pattern\":{\"fillmode\":\"overlay\",\"size\":10,\"solidity\":0.2}},\"type\":\"bar\"}],\"carpet\":[{\"aaxis\":{\"endlinecolor\":\"#2a3f5f\",\"gridcolor\":\"white\",\"linecolor\":\"white\",\"minorgridcolor\":\"white\",\"startlinecolor\":\"#2a3f5f\"},\"baxis\":{\"endlinecolor\":\"#2a3f5f\",\"gridcolor\":\"white\",\"linecolor\":\"white\",\"minorgridcolor\":\"white\",\"startlinecolor\":\"#2a3f5f\"},\"type\":\"carpet\"}],\"choropleth\":[{\"colorbar\":{\"outlinewidth\":0,\"ticks\":\"\"},\"type\":\"choropleth\"}],\"contourcarpet\":[{\"colorbar\":{\"outlinewidth\":0,\"ticks\":\"\"},\"type\":\"contourcarpet\"}],\"contour\":[{\"colorbar\":{\"outlinewidth\":0,\"ticks\":\"\"},\"colorscale\":[[0.0,\"#0d0887\"],[0.1111111111111111,\"#46039f\"],[0.2222222222222222,\"#7201a8\"],[0.3333333333333333,\"#9c179e\"],[0.4444444444444444,\"#bd3786\"],[0.5555555555555556,\"#d8576b\"],[0.6666666666666666,\"#ed7953\"],[0.7777777777777778,\"#fb9f3a\"],[0.8888888888888888,\"#fdca26\"],[1.0,\"#f0f921\"]],\"type\":\"contour\"}],\"heatmapgl\":[{\"colorbar\":{\"outlinewidth\":0,\"ticks\":\"\"},\"colorscale\":[[0.0,\"#0d0887\"],[0.1111111111111111,\"#46039f\"],[0.2222222222222222,\"#7201a8\"],[0.3333333333333333,\"#9c179e\"],[0.4444444444444444,\"#bd3786\"],[0.5555555555555556,\"#d8576b\"],[0.6666666666666666,\"#ed7953\"],[0.7777777777777778,\"#fb9f3a\"],[0.8888888888888888,\"#fdca26\"],[1.0,\"#f0f921\"]],\"type\":\"heatmapgl\"}],\"heatmap\":[{\"colorbar\":{\"outlinewidth\":0,\"ticks\":\"\"},\"colorscale\":[[0.0,\"#0d0887\"],[0.1111111111111111,\"#46039f\"],[0.2222222222222222,\"#7201a8\"],[0.3333333333333333,\"#9c179e\"],[0.4444444444444444,\"#bd3786\"],[0.5555555555555556,\"#d8576b\"],[0.6666666666666666,\"#ed7953\"],[0.7777777777777778,\"#fb9f3a\"],[0.8888888888888888,\"#fdca26\"],[1.0,\"#f0f921\"]],\"type\":\"heatmap\"}],\"histogram2dcontour\":[{\"colorbar\":{\"outlinewidth\":0,\"ticks\":\"\"},\"colorscale\":[[0.0,\"#0d0887\"],[0.1111111111111111,\"#46039f\"],[0.2222222222222222,\"#7201a8\"],[0.3333333333333333,\"#9c179e\"],[0.4444444444444444,\"#bd3786\"],[0.5555555555555556,\"#d8576b\"],[0.6666666666666666,\"#ed7953\"],[0.7777777777777778,\"#fb9f3a\"],[0.8888888888888888,\"#fdca26\"],[1.0,\"#f0f921\"]],\"type\":\"histogram2dcontour\"}],\"histogram2d\":[{\"colorbar\":{\"outlinewidth\":0,\"ticks\":\"\"},\"colorscale\":[[0.0,\"#0d0887\"],[0.1111111111111111,\"#46039f\"],[0.2222222222222222,\"#7201a8\"],[0.3333333333333333,\"#9c179e\"],[0.4444444444444444,\"#bd3786\"],[0.5555555555555556,\"#d8576b\"],[0.6666666666666666,\"#ed7953\"],[0.7777777777777778,\"#fb9f3a\"],[0.8888888888888888,\"#fdca26\"],[1.0,\"#f0f921\"]],\"type\":\"histogram2d\"}],\"histogram\":[{\"marker\":{\"pattern\":{\"fillmode\":\"overlay\",\"size\":10,\"solidity\":0.2}},\"type\":\"histogram\"}],\"mesh3d\":[{\"colorbar\":{\"outlinewidth\":0,\"ticks\":\"\"},\"type\":\"mesh3d\"}],\"parcoords\":[{\"line\":{\"colorbar\":{\"outlinewidth\":0,\"ticks\":\"\"}},\"type\":\"parcoords\"}],\"pie\":[{\"automargin\":true,\"type\":\"pie\"}],\"scatter3d\":[{\"line\":{\"colorbar\":{\"outlinewidth\":0,\"ticks\":\"\"}},\"marker\":{\"colorbar\":{\"outlinewidth\":0,\"ticks\":\"\"}},\"type\":\"scatter3d\"}],\"scattercarpet\":[{\"marker\":{\"colorbar\":{\"outlinewidth\":0,\"ticks\":\"\"}},\"type\":\"scattercarpet\"}],\"scattergeo\":[{\"marker\":{\"colorbar\":{\"outlinewidth\":0,\"ticks\":\"\"}},\"type\":\"scattergeo\"}],\"scattergl\":[{\"marker\":{\"colorbar\":{\"outlinewidth\":0,\"ticks\":\"\"}},\"type\":\"scattergl\"}],\"scattermapbox\":[{\"marker\":{\"colorbar\":{\"outlinewidth\":0,\"ticks\":\"\"}},\"type\":\"scattermapbox\"}],\"scatterpolargl\":[{\"marker\":{\"colorbar\":{\"outlinewidth\":0,\"ticks\":\"\"}},\"type\":\"scatterpolargl\"}],\"scatterpolar\":[{\"marker\":{\"colorbar\":{\"outlinewidth\":0,\"ticks\":\"\"}},\"type\":\"scatterpolar\"}],\"scatter\":[{\"fillpattern\":{\"fillmode\":\"overlay\",\"size\":10,\"solidity\":0.2},\"type\":\"scatter\"}],\"scatterternary\":[{\"marker\":{\"colorbar\":{\"outlinewidth\":0,\"ticks\":\"\"}},\"type\":\"scatterternary\"}],\"surface\":[{\"colorbar\":{\"outlinewidth\":0,\"ticks\":\"\"},\"colorscale\":[[0.0,\"#0d0887\"],[0.1111111111111111,\"#46039f\"],[0.2222222222222222,\"#7201a8\"],[0.3333333333333333,\"#9c179e\"],[0.4444444444444444,\"#bd3786\"],[0.5555555555555556,\"#d8576b\"],[0.6666666666666666,\"#ed7953\"],[0.7777777777777778,\"#fb9f3a\"],[0.8888888888888888,\"#fdca26\"],[1.0,\"#f0f921\"]],\"type\":\"surface\"}],\"table\":[{\"cells\":{\"fill\":{\"color\":\"#EBF0F8\"},\"line\":{\"color\":\"white\"}},\"header\":{\"fill\":{\"color\":\"#C8D4E3\"},\"line\":{\"color\":\"white\"}},\"type\":\"table\"}]},\"layout\":{\"annotationdefaults\":{\"arrowcolor\":\"#2a3f5f\",\"arrowhead\":0,\"arrowwidth\":1},\"autotypenumbers\":\"strict\",\"coloraxis\":{\"colorbar\":{\"outlinewidth\":0,\"ticks\":\"\"}},\"colorscale\":{\"diverging\":[[0,\"#8e0152\"],[0.1,\"#c51b7d\"],[0.2,\"#de77ae\"],[0.3,\"#f1b6da\"],[0.4,\"#fde0ef\"],[0.5,\"#f7f7f7\"],[0.6,\"#e6f5d0\"],[0.7,\"#b8e186\"],[0.8,\"#7fbc41\"],[0.9,\"#4d9221\"],[1,\"#276419\"]],\"sequential\":[[0.0,\"#0d0887\"],[0.1111111111111111,\"#46039f\"],[0.2222222222222222,\"#7201a8\"],[0.3333333333333333,\"#9c179e\"],[0.4444444444444444,\"#bd3786\"],[0.5555555555555556,\"#d8576b\"],[0.6666666666666666,\"#ed7953\"],[0.7777777777777778,\"#fb9f3a\"],[0.8888888888888888,\"#fdca26\"],[1.0,\"#f0f921\"]],\"sequentialminus\":[[0.0,\"#0d0887\"],[0.1111111111111111,\"#46039f\"],[0.2222222222222222,\"#7201a8\"],[0.3333333333333333,\"#9c179e\"],[0.4444444444444444,\"#bd3786\"],[0.5555555555555556,\"#d8576b\"],[0.6666666666666666,\"#ed7953\"],[0.7777777777777778,\"#fb9f3a\"],[0.8888888888888888,\"#fdca26\"],[1.0,\"#f0f921\"]]},\"colorway\":[\"#636efa\",\"#EF553B\",\"#00cc96\",\"#ab63fa\",\"#FFA15A\",\"#19d3f3\",\"#FF6692\",\"#B6E880\",\"#FF97FF\",\"#FECB52\"],\"font\":{\"color\":\"#2a3f5f\"},\"geo\":{\"bgcolor\":\"white\",\"lakecolor\":\"white\",\"landcolor\":\"#E5ECF6\",\"showlakes\":true,\"showland\":true,\"subunitcolor\":\"white\"},\"hoverlabel\":{\"align\":\"left\"},\"hovermode\":\"closest\",\"mapbox\":{\"style\":\"light\"},\"paper_bgcolor\":\"white\",\"plot_bgcolor\":\"#E5ECF6\",\"polar\":{\"angularaxis\":{\"gridcolor\":\"white\",\"linecolor\":\"white\",\"ticks\":\"\"},\"bgcolor\":\"#E5ECF6\",\"radialaxis\":{\"gridcolor\":\"white\",\"linecolor\":\"white\",\"ticks\":\"\"}},\"scene\":{\"xaxis\":{\"backgroundcolor\":\"#E5ECF6\",\"gridcolor\":\"white\",\"gridwidth\":2,\"linecolor\":\"white\",\"showbackground\":true,\"ticks\":\"\",\"zerolinecolor\":\"white\"},\"yaxis\":{\"backgroundcolor\":\"#E5ECF6\",\"gridcolor\":\"white\",\"gridwidth\":2,\"linecolor\":\"white\",\"showbackground\":true,\"ticks\":\"\",\"zerolinecolor\":\"white\"},\"zaxis\":{\"backgroundcolor\":\"#E5ECF6\",\"gridcolor\":\"white\",\"gridwidth\":2,\"linecolor\":\"white\",\"showbackground\":true,\"ticks\":\"\",\"zerolinecolor\":\"white\"}},\"shapedefaults\":{\"line\":{\"color\":\"#2a3f5f\"}},\"ternary\":{\"aaxis\":{\"gridcolor\":\"white\",\"linecolor\":\"white\",\"ticks\":\"\"},\"baxis\":{\"gridcolor\":\"white\",\"linecolor\":\"white\",\"ticks\":\"\"},\"bgcolor\":\"#E5ECF6\",\"caxis\":{\"gridcolor\":\"white\",\"linecolor\":\"white\",\"ticks\":\"\"}},\"title\":{\"x\":0.05},\"xaxis\":{\"automargin\":true,\"gridcolor\":\"white\",\"linecolor\":\"white\",\"ticks\":\"\",\"title\":{\"standoff\":15},\"zerolinecolor\":\"white\",\"zerolinewidth\":2},\"yaxis\":{\"automargin\":true,\"gridcolor\":\"white\",\"linecolor\":\"white\",\"ticks\":\"\",\"title\":{\"standoff\":15},\"zerolinecolor\":\"white\",\"zerolinewidth\":2}}},\"title\":{\"text\":\"USA Unemployment Rate over the years\"},\"xaxis\":{\"rangeselector\":{\"buttons\":[{\"count\":6,\"label\":\"6 months\",\"step\":\"month\",\"stepmode\":\"backward\"},{\"count\":1,\"label\":\"1 year\",\"step\":\"year\",\"stepmode\":\"backward\"},{\"count\":2,\"label\":\"2 years\",\"step\":\"year\",\"stepmode\":\"backward\"},{\"count\":5,\"label\":\"5 years\",\"step\":\"year\",\"stepmode\":\"backward\"},{\"count\":10,\"label\":\"10 years\",\"step\":\"year\",\"stepmode\":\"backward\"},{\"count\":15,\"label\":\"15 years\",\"step\":\"year\",\"stepmode\":\"backward\"},{\"step\":\"all\"}]},\"rangeslider\":{\"visible\":true},\"type\":\"date\"}},                        {\"responsive\": true}                    ).then(function(){\n",
       "                            \n",
       "var gd = document.getElementById('5dc6606f-69eb-42f7-b5e7-a7b4a8f44972');\n",
       "var x = new MutationObserver(function (mutations, observer) {{\n",
       "        var display = window.getComputedStyle(gd).display;\n",
       "        if (!display || display === 'none') {{\n",
       "            console.log([gd, 'removed!']);\n",
       "            Plotly.purge(gd);\n",
       "            observer.disconnect();\n",
       "        }}\n",
       "}});\n",
       "\n",
       "// Listen for the removal of the full notebook cells\n",
       "var notebookContainer = gd.closest('#notebook-container');\n",
       "if (notebookContainer) {{\n",
       "    x.observe(notebookContainer, {childList: true});\n",
       "}}\n",
       "\n",
       "// Listen for the clearing of the current output cell\n",
       "var outputEl = gd.closest('.output');\n",
       "if (outputEl) {{\n",
       "    x.observe(outputEl, {childList: true});\n",
       "}}\n",
       "\n",
       "                        })                };                });            </script>        </div>"
      ]
     },
     "metadata": {},
     "output_type": "display_data"
    }
   ],
   "source": [
    "plot_line_chart(unemployed_df, x='DATE', y='UNRATE', title='USA Unemployment Rate over the years')"
   ]
  },
  {
   "cell_type": "markdown",
   "id": "8607a3a6",
   "metadata": {
    "id": "SqFcUTjJ7_J5",
    "papermill": {
     "duration": 0.011156,
     "end_time": "2023-10-30T15:10:47.503369",
     "exception": false,
     "start_time": "2023-10-30T15:10:47.492213",
     "status": "completed"
    },
    "tags": []
   },
   "source": [
    "\n",
    "### Effects of Unemployment on the US Home prices\n",
    "\n",
    "*   **Economic Uncertainty**: High unemployment rates can create economic uncertainty and reduce consumer confidence, leading to a slowdown in the housing market and potentially putting downward pressure on home prices.\n",
    "\n",
    "*   **Shift to Renting**: Individuals and families may shift from homeownership to renting during periods of high unemployment. This can increase demand for rental properties, potentially driving up rents and making renting more attractive than buying.\n",
    "\n"
   ]
  },
  {
   "cell_type": "markdown",
   "id": "e04b28f3",
   "metadata": {
    "id": "QvQcKUBH4Ig6",
    "papermill": {
     "duration": 0.010988,
     "end_time": "2023-10-30T15:10:47.525561",
     "exception": false,
     "start_time": "2023-10-30T15:10:47.514573",
     "status": "completed"
    },
    "tags": []
   },
   "source": [
    "<a id=\"3.1\"></a>\n",
    "<h3 style=\"font-size:25px; text-align: left;background-color:royalblue; font-family:Helvetica; color: #ffffff; padding: 16px; line-height: 1; border-radius:10px; border: 3px solid #3f484b;\"> GDP</h3>"
   ]
  },
  {
   "cell_type": "code",
   "execution_count": 10,
   "id": "f8d0a2df",
   "metadata": {
    "execution": {
     "iopub.execute_input": "2023-10-30T15:10:47.550311Z",
     "iopub.status.busy": "2023-10-30T15:10:47.549570Z",
     "iopub.status.idle": "2023-10-30T15:10:47.592960Z",
     "shell.execute_reply": "2023-10-30T15:10:47.591837Z"
    },
    "id": "XbxwJebqoz4g",
    "outputId": "9882f06f-77f5-4bff-e1bd-75e884bb2328",
    "papermill": {
     "duration": 0.058545,
     "end_time": "2023-10-30T15:10:47.595438",
     "exception": false,
     "start_time": "2023-10-30T15:10:47.536893",
     "status": "completed"
    },
    "tags": []
   },
   "outputs": [
    {
     "data": {
      "text/html": [
       "<div>                            <div id=\"ad794f75-5290-42d1-a3e7-357bc0090101\" class=\"plotly-graph-div\" style=\"height:525px; width:100%;\"></div>            <script type=\"text/javascript\">                require([\"plotly\"], function(Plotly) {                    window.PLOTLYENV=window.PLOTLYENV || {};                                    if (document.getElementById(\"ad794f75-5290-42d1-a3e7-357bc0090101\")) {                    Plotly.newPlot(                        \"ad794f75-5290-42d1-a3e7-357bc0090101\",                        [{\"line\":{\"color\":\"#0047AB\",\"width\":3},\"name\":\"USA GDP (in Billion Dollars) over the years\",\"opacity\":0.8,\"x\":[\"2000-01-01T00:00:00\",\"2000-04-01T00:00:00\",\"2000-07-01T00:00:00\",\"2000-10-01T00:00:00\",\"2001-01-01T00:00:00\",\"2001-04-01T00:00:00\",\"2001-07-01T00:00:00\",\"2001-10-01T00:00:00\",\"2002-01-01T00:00:00\",\"2002-04-01T00:00:00\",\"2002-07-01T00:00:00\",\"2002-10-01T00:00:00\",\"2003-01-01T00:00:00\",\"2003-04-01T00:00:00\",\"2003-07-01T00:00:00\",\"2003-10-01T00:00:00\",\"2004-01-01T00:00:00\",\"2004-04-01T00:00:00\",\"2004-07-01T00:00:00\",\"2004-10-01T00:00:00\",\"2005-01-01T00:00:00\",\"2005-04-01T00:00:00\",\"2005-07-01T00:00:00\",\"2005-10-01T00:00:00\",\"2006-01-01T00:00:00\",\"2006-04-01T00:00:00\",\"2006-07-01T00:00:00\",\"2006-10-01T00:00:00\",\"2007-01-01T00:00:00\",\"2007-04-01T00:00:00\",\"2007-07-01T00:00:00\",\"2007-10-01T00:00:00\",\"2008-01-01T00:00:00\",\"2008-04-01T00:00:00\",\"2008-07-01T00:00:00\",\"2008-10-01T00:00:00\",\"2009-01-01T00:00:00\",\"2009-04-01T00:00:00\",\"2009-07-01T00:00:00\",\"2009-10-01T00:00:00\",\"2010-01-01T00:00:00\",\"2010-04-01T00:00:00\",\"2010-07-01T00:00:00\",\"2010-10-01T00:00:00\",\"2011-01-01T00:00:00\",\"2011-04-01T00:00:00\",\"2011-07-01T00:00:00\",\"2011-10-01T00:00:00\",\"2012-01-01T00:00:00\",\"2012-04-01T00:00:00\",\"2012-07-01T00:00:00\",\"2012-10-01T00:00:00\",\"2013-01-01T00:00:00\",\"2013-04-01T00:00:00\",\"2013-07-01T00:00:00\",\"2013-10-01T00:00:00\",\"2014-01-01T00:00:00\",\"2014-04-01T00:00:00\",\"2014-07-01T00:00:00\",\"2014-10-01T00:00:00\",\"2015-01-01T00:00:00\",\"2015-04-01T00:00:00\",\"2015-07-01T00:00:00\",\"2015-10-01T00:00:00\",\"2016-01-01T00:00:00\",\"2016-04-01T00:00:00\",\"2016-07-01T00:00:00\",\"2016-10-01T00:00:00\",\"2017-01-01T00:00:00\",\"2017-04-01T00:00:00\",\"2017-07-01T00:00:00\",\"2017-10-01T00:00:00\",\"2018-01-01T00:00:00\",\"2018-04-01T00:00:00\",\"2018-07-01T00:00:00\",\"2018-10-01T00:00:00\",\"2019-01-01T00:00:00\",\"2019-04-01T00:00:00\",\"2019-07-01T00:00:00\",\"2019-10-01T00:00:00\",\"2020-01-01T00:00:00\",\"2020-04-01T00:00:00\",\"2020-07-01T00:00:00\",\"2020-10-01T00:00:00\",\"2021-01-01T00:00:00\",\"2021-04-01T00:00:00\",\"2021-07-01T00:00:00\",\"2021-10-01T00:00:00\",\"2022-01-01T00:00:00\",\"2022-04-01T00:00:00\",\"2022-07-01T00:00:00\",\"2022-10-01T00:00:00\",\"2023-01-01T00:00:00\",\"2023-04-01T00:00:00\",\"2023-07-01T00:00:00\"],\"y\":[10002.179,10247.72,10318.165,10435.744,10470.231,10599.0,10598.02,10660.465,10783.5,10887.46,10984.04,11061.433,11174.129,11312.766,11566.669,11772.234,11923.447,12112.815,12305.307,12527.214,12767.286,12922.656,13142.642,13324.204,13599.16,13753.424,13870.188,14039.56,14215.651,14402.082,14564.117,14715.058,14706.538,14865.701,14898.999,14608.209,14430.902,14381.236,14448.882,14651.249,14764.61,14980.193,15141.607,15309.474,15351.448,15557.539,15647.68,15842.259,16068.805,16207.115,16319.541,16420.419,16648.189,16728.687,16953.838,17192.019,17197.738,17518.508,17804.228,17912.079,18063.529,18279.784,18401.626,18435.137,18525.933,18711.702,18892.639,19089.379,19280.084,19438.643,19692.595,20037.088,20328.553,20580.912,20798.73,20917.867,21104.133,21384.775,21694.282,21902.39,21706.513,19913.143,21647.64,22024.502,22600.185,23292.362,23828.973,24654.603,25029.116,25544.273,25994.639,26408.405,26813.601,27063.012,27623.543],\"type\":\"scatter\"}],                        {\"template\":{\"data\":{\"barpolar\":[{\"marker\":{\"line\":{\"color\":\"#E5ECF6\",\"width\":0.5},\"pattern\":{\"fillmode\":\"overlay\",\"size\":10,\"solidity\":0.2}},\"type\":\"barpolar\"}],\"bar\":[{\"error_x\":{\"color\":\"#2a3f5f\"},\"error_y\":{\"color\":\"#2a3f5f\"},\"marker\":{\"line\":{\"color\":\"#E5ECF6\",\"width\":0.5},\"pattern\":{\"fillmode\":\"overlay\",\"size\":10,\"solidity\":0.2}},\"type\":\"bar\"}],\"carpet\":[{\"aaxis\":{\"endlinecolor\":\"#2a3f5f\",\"gridcolor\":\"white\",\"linecolor\":\"white\",\"minorgridcolor\":\"white\",\"startlinecolor\":\"#2a3f5f\"},\"baxis\":{\"endlinecolor\":\"#2a3f5f\",\"gridcolor\":\"white\",\"linecolor\":\"white\",\"minorgridcolor\":\"white\",\"startlinecolor\":\"#2a3f5f\"},\"type\":\"carpet\"}],\"choropleth\":[{\"colorbar\":{\"outlinewidth\":0,\"ticks\":\"\"},\"type\":\"choropleth\"}],\"contourcarpet\":[{\"colorbar\":{\"outlinewidth\":0,\"ticks\":\"\"},\"type\":\"contourcarpet\"}],\"contour\":[{\"colorbar\":{\"outlinewidth\":0,\"ticks\":\"\"},\"colorscale\":[[0.0,\"#0d0887\"],[0.1111111111111111,\"#46039f\"],[0.2222222222222222,\"#7201a8\"],[0.3333333333333333,\"#9c179e\"],[0.4444444444444444,\"#bd3786\"],[0.5555555555555556,\"#d8576b\"],[0.6666666666666666,\"#ed7953\"],[0.7777777777777778,\"#fb9f3a\"],[0.8888888888888888,\"#fdca26\"],[1.0,\"#f0f921\"]],\"type\":\"contour\"}],\"heatmapgl\":[{\"colorbar\":{\"outlinewidth\":0,\"ticks\":\"\"},\"colorscale\":[[0.0,\"#0d0887\"],[0.1111111111111111,\"#46039f\"],[0.2222222222222222,\"#7201a8\"],[0.3333333333333333,\"#9c179e\"],[0.4444444444444444,\"#bd3786\"],[0.5555555555555556,\"#d8576b\"],[0.6666666666666666,\"#ed7953\"],[0.7777777777777778,\"#fb9f3a\"],[0.8888888888888888,\"#fdca26\"],[1.0,\"#f0f921\"]],\"type\":\"heatmapgl\"}],\"heatmap\":[{\"colorbar\":{\"outlinewidth\":0,\"ticks\":\"\"},\"colorscale\":[[0.0,\"#0d0887\"],[0.1111111111111111,\"#46039f\"],[0.2222222222222222,\"#7201a8\"],[0.3333333333333333,\"#9c179e\"],[0.4444444444444444,\"#bd3786\"],[0.5555555555555556,\"#d8576b\"],[0.6666666666666666,\"#ed7953\"],[0.7777777777777778,\"#fb9f3a\"],[0.8888888888888888,\"#fdca26\"],[1.0,\"#f0f921\"]],\"type\":\"heatmap\"}],\"histogram2dcontour\":[{\"colorbar\":{\"outlinewidth\":0,\"ticks\":\"\"},\"colorscale\":[[0.0,\"#0d0887\"],[0.1111111111111111,\"#46039f\"],[0.2222222222222222,\"#7201a8\"],[0.3333333333333333,\"#9c179e\"],[0.4444444444444444,\"#bd3786\"],[0.5555555555555556,\"#d8576b\"],[0.6666666666666666,\"#ed7953\"],[0.7777777777777778,\"#fb9f3a\"],[0.8888888888888888,\"#fdca26\"],[1.0,\"#f0f921\"]],\"type\":\"histogram2dcontour\"}],\"histogram2d\":[{\"colorbar\":{\"outlinewidth\":0,\"ticks\":\"\"},\"colorscale\":[[0.0,\"#0d0887\"],[0.1111111111111111,\"#46039f\"],[0.2222222222222222,\"#7201a8\"],[0.3333333333333333,\"#9c179e\"],[0.4444444444444444,\"#bd3786\"],[0.5555555555555556,\"#d8576b\"],[0.6666666666666666,\"#ed7953\"],[0.7777777777777778,\"#fb9f3a\"],[0.8888888888888888,\"#fdca26\"],[1.0,\"#f0f921\"]],\"type\":\"histogram2d\"}],\"histogram\":[{\"marker\":{\"pattern\":{\"fillmode\":\"overlay\",\"size\":10,\"solidity\":0.2}},\"type\":\"histogram\"}],\"mesh3d\":[{\"colorbar\":{\"outlinewidth\":0,\"ticks\":\"\"},\"type\":\"mesh3d\"}],\"parcoords\":[{\"line\":{\"colorbar\":{\"outlinewidth\":0,\"ticks\":\"\"}},\"type\":\"parcoords\"}],\"pie\":[{\"automargin\":true,\"type\":\"pie\"}],\"scatter3d\":[{\"line\":{\"colorbar\":{\"outlinewidth\":0,\"ticks\":\"\"}},\"marker\":{\"colorbar\":{\"outlinewidth\":0,\"ticks\":\"\"}},\"type\":\"scatter3d\"}],\"scattercarpet\":[{\"marker\":{\"colorbar\":{\"outlinewidth\":0,\"ticks\":\"\"}},\"type\":\"scattercarpet\"}],\"scattergeo\":[{\"marker\":{\"colorbar\":{\"outlinewidth\":0,\"ticks\":\"\"}},\"type\":\"scattergeo\"}],\"scattergl\":[{\"marker\":{\"colorbar\":{\"outlinewidth\":0,\"ticks\":\"\"}},\"type\":\"scattergl\"}],\"scattermapbox\":[{\"marker\":{\"colorbar\":{\"outlinewidth\":0,\"ticks\":\"\"}},\"type\":\"scattermapbox\"}],\"scatterpolargl\":[{\"marker\":{\"colorbar\":{\"outlinewidth\":0,\"ticks\":\"\"}},\"type\":\"scatterpolargl\"}],\"scatterpolar\":[{\"marker\":{\"colorbar\":{\"outlinewidth\":0,\"ticks\":\"\"}},\"type\":\"scatterpolar\"}],\"scatter\":[{\"fillpattern\":{\"fillmode\":\"overlay\",\"size\":10,\"solidity\":0.2},\"type\":\"scatter\"}],\"scatterternary\":[{\"marker\":{\"colorbar\":{\"outlinewidth\":0,\"ticks\":\"\"}},\"type\":\"scatterternary\"}],\"surface\":[{\"colorbar\":{\"outlinewidth\":0,\"ticks\":\"\"},\"colorscale\":[[0.0,\"#0d0887\"],[0.1111111111111111,\"#46039f\"],[0.2222222222222222,\"#7201a8\"],[0.3333333333333333,\"#9c179e\"],[0.4444444444444444,\"#bd3786\"],[0.5555555555555556,\"#d8576b\"],[0.6666666666666666,\"#ed7953\"],[0.7777777777777778,\"#fb9f3a\"],[0.8888888888888888,\"#fdca26\"],[1.0,\"#f0f921\"]],\"type\":\"surface\"}],\"table\":[{\"cells\":{\"fill\":{\"color\":\"#EBF0F8\"},\"line\":{\"color\":\"white\"}},\"header\":{\"fill\":{\"color\":\"#C8D4E3\"},\"line\":{\"color\":\"white\"}},\"type\":\"table\"}]},\"layout\":{\"annotationdefaults\":{\"arrowcolor\":\"#2a3f5f\",\"arrowhead\":0,\"arrowwidth\":1},\"autotypenumbers\":\"strict\",\"coloraxis\":{\"colorbar\":{\"outlinewidth\":0,\"ticks\":\"\"}},\"colorscale\":{\"diverging\":[[0,\"#8e0152\"],[0.1,\"#c51b7d\"],[0.2,\"#de77ae\"],[0.3,\"#f1b6da\"],[0.4,\"#fde0ef\"],[0.5,\"#f7f7f7\"],[0.6,\"#e6f5d0\"],[0.7,\"#b8e186\"],[0.8,\"#7fbc41\"],[0.9,\"#4d9221\"],[1,\"#276419\"]],\"sequential\":[[0.0,\"#0d0887\"],[0.1111111111111111,\"#46039f\"],[0.2222222222222222,\"#7201a8\"],[0.3333333333333333,\"#9c179e\"],[0.4444444444444444,\"#bd3786\"],[0.5555555555555556,\"#d8576b\"],[0.6666666666666666,\"#ed7953\"],[0.7777777777777778,\"#fb9f3a\"],[0.8888888888888888,\"#fdca26\"],[1.0,\"#f0f921\"]],\"sequentialminus\":[[0.0,\"#0d0887\"],[0.1111111111111111,\"#46039f\"],[0.2222222222222222,\"#7201a8\"],[0.3333333333333333,\"#9c179e\"],[0.4444444444444444,\"#bd3786\"],[0.5555555555555556,\"#d8576b\"],[0.6666666666666666,\"#ed7953\"],[0.7777777777777778,\"#fb9f3a\"],[0.8888888888888888,\"#fdca26\"],[1.0,\"#f0f921\"]]},\"colorway\":[\"#636efa\",\"#EF553B\",\"#00cc96\",\"#ab63fa\",\"#FFA15A\",\"#19d3f3\",\"#FF6692\",\"#B6E880\",\"#FF97FF\",\"#FECB52\"],\"font\":{\"color\":\"#2a3f5f\"},\"geo\":{\"bgcolor\":\"white\",\"lakecolor\":\"white\",\"landcolor\":\"#E5ECF6\",\"showlakes\":true,\"showland\":true,\"subunitcolor\":\"white\"},\"hoverlabel\":{\"align\":\"left\"},\"hovermode\":\"closest\",\"mapbox\":{\"style\":\"light\"},\"paper_bgcolor\":\"white\",\"plot_bgcolor\":\"#E5ECF6\",\"polar\":{\"angularaxis\":{\"gridcolor\":\"white\",\"linecolor\":\"white\",\"ticks\":\"\"},\"bgcolor\":\"#E5ECF6\",\"radialaxis\":{\"gridcolor\":\"white\",\"linecolor\":\"white\",\"ticks\":\"\"}},\"scene\":{\"xaxis\":{\"backgroundcolor\":\"#E5ECF6\",\"gridcolor\":\"white\",\"gridwidth\":2,\"linecolor\":\"white\",\"showbackground\":true,\"ticks\":\"\",\"zerolinecolor\":\"white\"},\"yaxis\":{\"backgroundcolor\":\"#E5ECF6\",\"gridcolor\":\"white\",\"gridwidth\":2,\"linecolor\":\"white\",\"showbackground\":true,\"ticks\":\"\",\"zerolinecolor\":\"white\"},\"zaxis\":{\"backgroundcolor\":\"#E5ECF6\",\"gridcolor\":\"white\",\"gridwidth\":2,\"linecolor\":\"white\",\"showbackground\":true,\"ticks\":\"\",\"zerolinecolor\":\"white\"}},\"shapedefaults\":{\"line\":{\"color\":\"#2a3f5f\"}},\"ternary\":{\"aaxis\":{\"gridcolor\":\"white\",\"linecolor\":\"white\",\"ticks\":\"\"},\"baxis\":{\"gridcolor\":\"white\",\"linecolor\":\"white\",\"ticks\":\"\"},\"bgcolor\":\"#E5ECF6\",\"caxis\":{\"gridcolor\":\"white\",\"linecolor\":\"white\",\"ticks\":\"\"}},\"title\":{\"x\":0.05},\"xaxis\":{\"automargin\":true,\"gridcolor\":\"white\",\"linecolor\":\"white\",\"ticks\":\"\",\"title\":{\"standoff\":15},\"zerolinecolor\":\"white\",\"zerolinewidth\":2},\"yaxis\":{\"automargin\":true,\"gridcolor\":\"white\",\"linecolor\":\"white\",\"ticks\":\"\",\"title\":{\"standoff\":15},\"zerolinecolor\":\"white\",\"zerolinewidth\":2}}},\"title\":{\"text\":\"USA GDP (in Billion Dollars) over the years\"},\"xaxis\":{\"rangeselector\":{\"buttons\":[{\"count\":6,\"label\":\"6 months\",\"step\":\"month\",\"stepmode\":\"backward\"},{\"count\":1,\"label\":\"1 year\",\"step\":\"year\",\"stepmode\":\"backward\"},{\"count\":2,\"label\":\"2 years\",\"step\":\"year\",\"stepmode\":\"backward\"},{\"count\":5,\"label\":\"5 years\",\"step\":\"year\",\"stepmode\":\"backward\"},{\"count\":10,\"label\":\"10 years\",\"step\":\"year\",\"stepmode\":\"backward\"},{\"count\":15,\"label\":\"15 years\",\"step\":\"year\",\"stepmode\":\"backward\"},{\"step\":\"all\"}]},\"rangeslider\":{\"visible\":true},\"type\":\"date\"}},                        {\"responsive\": true}                    ).then(function(){\n",
       "                            \n",
       "var gd = document.getElementById('ad794f75-5290-42d1-a3e7-357bc0090101');\n",
       "var x = new MutationObserver(function (mutations, observer) {{\n",
       "        var display = window.getComputedStyle(gd).display;\n",
       "        if (!display || display === 'none') {{\n",
       "            console.log([gd, 'removed!']);\n",
       "            Plotly.purge(gd);\n",
       "            observer.disconnect();\n",
       "        }}\n",
       "}});\n",
       "\n",
       "// Listen for the removal of the full notebook cells\n",
       "var notebookContainer = gd.closest('#notebook-container');\n",
       "if (notebookContainer) {{\n",
       "    x.observe(notebookContainer, {childList: true});\n",
       "}}\n",
       "\n",
       "// Listen for the clearing of the current output cell\n",
       "var outputEl = gd.closest('.output');\n",
       "if (outputEl) {{\n",
       "    x.observe(outputEl, {childList: true});\n",
       "}}\n",
       "\n",
       "                        })                };                });            </script>        </div>"
      ]
     },
     "metadata": {},
     "output_type": "display_data"
    }
   ],
   "source": [
    "plot_line_chart(gdp_df, x='DATE', y='GDP', title='USA GDP (in Billion Dollars) over the years')"
   ]
  },
  {
   "cell_type": "markdown",
   "id": "a01e9146",
   "metadata": {
    "id": "_H3Cq5v8BjP6",
    "papermill": {
     "duration": 0.011494,
     "end_time": "2023-10-30T15:10:47.618546",
     "exception": false,
     "start_time": "2023-10-30T15:10:47.607052",
     "status": "completed"
    },
    "tags": []
   },
   "source": [
    "### Effects of GDP on US Home prices\n",
    "\n",
    "*   When GDP is growing too rapidly and inflation becomes a concern, central banks may raise interest rates to cool down the economy.\n",
    "*     Conversely, during periods of slow GDP growth or recession, central banks may lower interest rates to stimulate economic activity.\n",
    "\n"
   ]
  },
  {
   "cell_type": "markdown",
   "id": "1135159b",
   "metadata": {
    "id": "aJu9_ZEOv5k5",
    "papermill": {
     "duration": 0.011312,
     "end_time": "2023-10-30T15:10:47.641653",
     "exception": false,
     "start_time": "2023-10-30T15:10:47.630341",
     "status": "completed"
    },
    "tags": []
   },
   "source": [
    "<a id=\"11\"></a>\n",
    "# <div style=\"font-size:40px; text-align: left; background-color: royalblue; font-family:Helvetica; color: #ffffff; padding: 14px; line-height: 1;border-radius:20px; border: 4px solid #3f484b;\">Demographic Indicators</div>"
   ]
  },
  {
   "cell_type": "markdown",
   "id": "b3b2de5c",
   "metadata": {
    "id": "lS6xb7b-v-dP",
    "papermill": {
     "duration": 0.011253,
     "end_time": "2023-10-30T15:10:47.664534",
     "exception": false,
     "start_time": "2023-10-30T15:10:47.653281",
     "status": "completed"
    },
    "tags": []
   },
   "source": [
    "<a id=\"3.1\"></a>\n",
    "<h3 style=\"font-size:25px; text-align: left;background-color:royalblue; font-family:Helvetica; color: #ffffff; padding: 16px; line-height: 1; border-radius:10px; border: 3px solid #3f484b;\"> Population Growth</h3>"
   ]
  },
  {
   "cell_type": "code",
   "execution_count": 11,
   "id": "bb3985c5",
   "metadata": {
    "execution": {
     "iopub.execute_input": "2023-10-30T15:10:47.689438Z",
     "iopub.status.busy": "2023-10-30T15:10:47.689024Z",
     "iopub.status.idle": "2023-10-30T15:10:47.732012Z",
     "shell.execute_reply": "2023-10-30T15:10:47.730920Z"
    },
    "id": "I3LBG_v76pKq",
    "outputId": "2a6c23c7-bdff-4207-a2e1-ba5cbeca4c35",
    "papermill": {
     "duration": 0.058525,
     "end_time": "2023-10-30T15:10:47.734594",
     "exception": false,
     "start_time": "2023-10-30T15:10:47.676069",
     "status": "completed"
    },
    "tags": []
   },
   "outputs": [
    {
     "data": {
      "text/html": [
       "<div>                            <div id=\"f50d4a9a-bff8-4655-a7fb-602d6d3bdfd3\" class=\"plotly-graph-div\" style=\"height:525px; width:100%;\"></div>            <script type=\"text/javascript\">                require([\"plotly\"], function(Plotly) {                    window.PLOTLYENV=window.PLOTLYENV || {};                                    if (document.getElementById(\"f50d4a9a-bff8-4655-a7fb-602d6d3bdfd3\")) {                    Plotly.newPlot(                        \"f50d4a9a-bff8-4655-a7fb-602d6d3bdfd3\",                        [{\"line\":{\"color\":\"#0047AB\",\"width\":3},\"name\":\"Population Growth for the United States\",\"opacity\":0.8,\"x\":[\"2000-01-01T00:00:00\",\"2001-01-01T00:00:00\",\"2002-01-01T00:00:00\",\"2003-01-01T00:00:00\",\"2004-01-01T00:00:00\",\"2005-01-01T00:00:00\",\"2006-01-01T00:00:00\",\"2007-01-01T00:00:00\",\"2008-01-01T00:00:00\",\"2009-01-01T00:00:00\",\"2010-01-01T00:00:00\",\"2011-01-01T00:00:00\",\"2012-01-01T00:00:00\",\"2013-01-01T00:00:00\",\"2014-01-01T00:00:00\",\"2015-01-01T00:00:00\",\"2016-01-01T00:00:00\",\"2017-01-01T00:00:00\",\"2018-01-01T00:00:00\",\"2019-01-01T00:00:00\",\"2020-01-01T00:00:00\",\"2021-01-01T00:00:00\",\"2022-01-01T00:00:00\"],\"y\":[1.11276899679534,0.989741382223669,0.927797485710314,0.859481712840946,0.925483968943482,0.921713167161207,0.964253917136075,0.951055242772428,0.945865287282592,0.876651298802912,0.829616674709795,0.726786704810745,0.733599941250847,0.692860276624581,0.733361519937424,0.73621730882542,0.724676067451429,0.63264399508256,0.526435395564053,0.455381285963537,0.964347900193196,0.156747054750178,0.377564531459432],\"type\":\"scatter\"}],                        {\"template\":{\"data\":{\"barpolar\":[{\"marker\":{\"line\":{\"color\":\"#E5ECF6\",\"width\":0.5},\"pattern\":{\"fillmode\":\"overlay\",\"size\":10,\"solidity\":0.2}},\"type\":\"barpolar\"}],\"bar\":[{\"error_x\":{\"color\":\"#2a3f5f\"},\"error_y\":{\"color\":\"#2a3f5f\"},\"marker\":{\"line\":{\"color\":\"#E5ECF6\",\"width\":0.5},\"pattern\":{\"fillmode\":\"overlay\",\"size\":10,\"solidity\":0.2}},\"type\":\"bar\"}],\"carpet\":[{\"aaxis\":{\"endlinecolor\":\"#2a3f5f\",\"gridcolor\":\"white\",\"linecolor\":\"white\",\"minorgridcolor\":\"white\",\"startlinecolor\":\"#2a3f5f\"},\"baxis\":{\"endlinecolor\":\"#2a3f5f\",\"gridcolor\":\"white\",\"linecolor\":\"white\",\"minorgridcolor\":\"white\",\"startlinecolor\":\"#2a3f5f\"},\"type\":\"carpet\"}],\"choropleth\":[{\"colorbar\":{\"outlinewidth\":0,\"ticks\":\"\"},\"type\":\"choropleth\"}],\"contourcarpet\":[{\"colorbar\":{\"outlinewidth\":0,\"ticks\":\"\"},\"type\":\"contourcarpet\"}],\"contour\":[{\"colorbar\":{\"outlinewidth\":0,\"ticks\":\"\"},\"colorscale\":[[0.0,\"#0d0887\"],[0.1111111111111111,\"#46039f\"],[0.2222222222222222,\"#7201a8\"],[0.3333333333333333,\"#9c179e\"],[0.4444444444444444,\"#bd3786\"],[0.5555555555555556,\"#d8576b\"],[0.6666666666666666,\"#ed7953\"],[0.7777777777777778,\"#fb9f3a\"],[0.8888888888888888,\"#fdca26\"],[1.0,\"#f0f921\"]],\"type\":\"contour\"}],\"heatmapgl\":[{\"colorbar\":{\"outlinewidth\":0,\"ticks\":\"\"},\"colorscale\":[[0.0,\"#0d0887\"],[0.1111111111111111,\"#46039f\"],[0.2222222222222222,\"#7201a8\"],[0.3333333333333333,\"#9c179e\"],[0.4444444444444444,\"#bd3786\"],[0.5555555555555556,\"#d8576b\"],[0.6666666666666666,\"#ed7953\"],[0.7777777777777778,\"#fb9f3a\"],[0.8888888888888888,\"#fdca26\"],[1.0,\"#f0f921\"]],\"type\":\"heatmapgl\"}],\"heatmap\":[{\"colorbar\":{\"outlinewidth\":0,\"ticks\":\"\"},\"colorscale\":[[0.0,\"#0d0887\"],[0.1111111111111111,\"#46039f\"],[0.2222222222222222,\"#7201a8\"],[0.3333333333333333,\"#9c179e\"],[0.4444444444444444,\"#bd3786\"],[0.5555555555555556,\"#d8576b\"],[0.6666666666666666,\"#ed7953\"],[0.7777777777777778,\"#fb9f3a\"],[0.8888888888888888,\"#fdca26\"],[1.0,\"#f0f921\"]],\"type\":\"heatmap\"}],\"histogram2dcontour\":[{\"colorbar\":{\"outlinewidth\":0,\"ticks\":\"\"},\"colorscale\":[[0.0,\"#0d0887\"],[0.1111111111111111,\"#46039f\"],[0.2222222222222222,\"#7201a8\"],[0.3333333333333333,\"#9c179e\"],[0.4444444444444444,\"#bd3786\"],[0.5555555555555556,\"#d8576b\"],[0.6666666666666666,\"#ed7953\"],[0.7777777777777778,\"#fb9f3a\"],[0.8888888888888888,\"#fdca26\"],[1.0,\"#f0f921\"]],\"type\":\"histogram2dcontour\"}],\"histogram2d\":[{\"colorbar\":{\"outlinewidth\":0,\"ticks\":\"\"},\"colorscale\":[[0.0,\"#0d0887\"],[0.1111111111111111,\"#46039f\"],[0.2222222222222222,\"#7201a8\"],[0.3333333333333333,\"#9c179e\"],[0.4444444444444444,\"#bd3786\"],[0.5555555555555556,\"#d8576b\"],[0.6666666666666666,\"#ed7953\"],[0.7777777777777778,\"#fb9f3a\"],[0.8888888888888888,\"#fdca26\"],[1.0,\"#f0f921\"]],\"type\":\"histogram2d\"}],\"histogram\":[{\"marker\":{\"pattern\":{\"fillmode\":\"overlay\",\"size\":10,\"solidity\":0.2}},\"type\":\"histogram\"}],\"mesh3d\":[{\"colorbar\":{\"outlinewidth\":0,\"ticks\":\"\"},\"type\":\"mesh3d\"}],\"parcoords\":[{\"line\":{\"colorbar\":{\"outlinewidth\":0,\"ticks\":\"\"}},\"type\":\"parcoords\"}],\"pie\":[{\"automargin\":true,\"type\":\"pie\"}],\"scatter3d\":[{\"line\":{\"colorbar\":{\"outlinewidth\":0,\"ticks\":\"\"}},\"marker\":{\"colorbar\":{\"outlinewidth\":0,\"ticks\":\"\"}},\"type\":\"scatter3d\"}],\"scattercarpet\":[{\"marker\":{\"colorbar\":{\"outlinewidth\":0,\"ticks\":\"\"}},\"type\":\"scattercarpet\"}],\"scattergeo\":[{\"marker\":{\"colorbar\":{\"outlinewidth\":0,\"ticks\":\"\"}},\"type\":\"scattergeo\"}],\"scattergl\":[{\"marker\":{\"colorbar\":{\"outlinewidth\":0,\"ticks\":\"\"}},\"type\":\"scattergl\"}],\"scattermapbox\":[{\"marker\":{\"colorbar\":{\"outlinewidth\":0,\"ticks\":\"\"}},\"type\":\"scattermapbox\"}],\"scatterpolargl\":[{\"marker\":{\"colorbar\":{\"outlinewidth\":0,\"ticks\":\"\"}},\"type\":\"scatterpolargl\"}],\"scatterpolar\":[{\"marker\":{\"colorbar\":{\"outlinewidth\":0,\"ticks\":\"\"}},\"type\":\"scatterpolar\"}],\"scatter\":[{\"fillpattern\":{\"fillmode\":\"overlay\",\"size\":10,\"solidity\":0.2},\"type\":\"scatter\"}],\"scatterternary\":[{\"marker\":{\"colorbar\":{\"outlinewidth\":0,\"ticks\":\"\"}},\"type\":\"scatterternary\"}],\"surface\":[{\"colorbar\":{\"outlinewidth\":0,\"ticks\":\"\"},\"colorscale\":[[0.0,\"#0d0887\"],[0.1111111111111111,\"#46039f\"],[0.2222222222222222,\"#7201a8\"],[0.3333333333333333,\"#9c179e\"],[0.4444444444444444,\"#bd3786\"],[0.5555555555555556,\"#d8576b\"],[0.6666666666666666,\"#ed7953\"],[0.7777777777777778,\"#fb9f3a\"],[0.8888888888888888,\"#fdca26\"],[1.0,\"#f0f921\"]],\"type\":\"surface\"}],\"table\":[{\"cells\":{\"fill\":{\"color\":\"#EBF0F8\"},\"line\":{\"color\":\"white\"}},\"header\":{\"fill\":{\"color\":\"#C8D4E3\"},\"line\":{\"color\":\"white\"}},\"type\":\"table\"}]},\"layout\":{\"annotationdefaults\":{\"arrowcolor\":\"#2a3f5f\",\"arrowhead\":0,\"arrowwidth\":1},\"autotypenumbers\":\"strict\",\"coloraxis\":{\"colorbar\":{\"outlinewidth\":0,\"ticks\":\"\"}},\"colorscale\":{\"diverging\":[[0,\"#8e0152\"],[0.1,\"#c51b7d\"],[0.2,\"#de77ae\"],[0.3,\"#f1b6da\"],[0.4,\"#fde0ef\"],[0.5,\"#f7f7f7\"],[0.6,\"#e6f5d0\"],[0.7,\"#b8e186\"],[0.8,\"#7fbc41\"],[0.9,\"#4d9221\"],[1,\"#276419\"]],\"sequential\":[[0.0,\"#0d0887\"],[0.1111111111111111,\"#46039f\"],[0.2222222222222222,\"#7201a8\"],[0.3333333333333333,\"#9c179e\"],[0.4444444444444444,\"#bd3786\"],[0.5555555555555556,\"#d8576b\"],[0.6666666666666666,\"#ed7953\"],[0.7777777777777778,\"#fb9f3a\"],[0.8888888888888888,\"#fdca26\"],[1.0,\"#f0f921\"]],\"sequentialminus\":[[0.0,\"#0d0887\"],[0.1111111111111111,\"#46039f\"],[0.2222222222222222,\"#7201a8\"],[0.3333333333333333,\"#9c179e\"],[0.4444444444444444,\"#bd3786\"],[0.5555555555555556,\"#d8576b\"],[0.6666666666666666,\"#ed7953\"],[0.7777777777777778,\"#fb9f3a\"],[0.8888888888888888,\"#fdca26\"],[1.0,\"#f0f921\"]]},\"colorway\":[\"#636efa\",\"#EF553B\",\"#00cc96\",\"#ab63fa\",\"#FFA15A\",\"#19d3f3\",\"#FF6692\",\"#B6E880\",\"#FF97FF\",\"#FECB52\"],\"font\":{\"color\":\"#2a3f5f\"},\"geo\":{\"bgcolor\":\"white\",\"lakecolor\":\"white\",\"landcolor\":\"#E5ECF6\",\"showlakes\":true,\"showland\":true,\"subunitcolor\":\"white\"},\"hoverlabel\":{\"align\":\"left\"},\"hovermode\":\"closest\",\"mapbox\":{\"style\":\"light\"},\"paper_bgcolor\":\"white\",\"plot_bgcolor\":\"#E5ECF6\",\"polar\":{\"angularaxis\":{\"gridcolor\":\"white\",\"linecolor\":\"white\",\"ticks\":\"\"},\"bgcolor\":\"#E5ECF6\",\"radialaxis\":{\"gridcolor\":\"white\",\"linecolor\":\"white\",\"ticks\":\"\"}},\"scene\":{\"xaxis\":{\"backgroundcolor\":\"#E5ECF6\",\"gridcolor\":\"white\",\"gridwidth\":2,\"linecolor\":\"white\",\"showbackground\":true,\"ticks\":\"\",\"zerolinecolor\":\"white\"},\"yaxis\":{\"backgroundcolor\":\"#E5ECF6\",\"gridcolor\":\"white\",\"gridwidth\":2,\"linecolor\":\"white\",\"showbackground\":true,\"ticks\":\"\",\"zerolinecolor\":\"white\"},\"zaxis\":{\"backgroundcolor\":\"#E5ECF6\",\"gridcolor\":\"white\",\"gridwidth\":2,\"linecolor\":\"white\",\"showbackground\":true,\"ticks\":\"\",\"zerolinecolor\":\"white\"}},\"shapedefaults\":{\"line\":{\"color\":\"#2a3f5f\"}},\"ternary\":{\"aaxis\":{\"gridcolor\":\"white\",\"linecolor\":\"white\",\"ticks\":\"\"},\"baxis\":{\"gridcolor\":\"white\",\"linecolor\":\"white\",\"ticks\":\"\"},\"bgcolor\":\"#E5ECF6\",\"caxis\":{\"gridcolor\":\"white\",\"linecolor\":\"white\",\"ticks\":\"\"}},\"title\":{\"x\":0.05},\"xaxis\":{\"automargin\":true,\"gridcolor\":\"white\",\"linecolor\":\"white\",\"ticks\":\"\",\"title\":{\"standoff\":15},\"zerolinecolor\":\"white\",\"zerolinewidth\":2},\"yaxis\":{\"automargin\":true,\"gridcolor\":\"white\",\"linecolor\":\"white\",\"ticks\":\"\",\"title\":{\"standoff\":15},\"zerolinecolor\":\"white\",\"zerolinewidth\":2}}},\"title\":{\"text\":\"Population Growth for the United States\"},\"xaxis\":{\"rangeselector\":{\"buttons\":[{\"count\":6,\"label\":\"6 months\",\"step\":\"month\",\"stepmode\":\"backward\"},{\"count\":1,\"label\":\"1 year\",\"step\":\"year\",\"stepmode\":\"backward\"},{\"count\":2,\"label\":\"2 years\",\"step\":\"year\",\"stepmode\":\"backward\"},{\"count\":5,\"label\":\"5 years\",\"step\":\"year\",\"stepmode\":\"backward\"},{\"count\":10,\"label\":\"10 years\",\"step\":\"year\",\"stepmode\":\"backward\"},{\"count\":15,\"label\":\"15 years\",\"step\":\"year\",\"stepmode\":\"backward\"},{\"step\":\"all\"}]},\"rangeslider\":{\"visible\":true},\"type\":\"date\"}},                        {\"responsive\": true}                    ).then(function(){\n",
       "                            \n",
       "var gd = document.getElementById('f50d4a9a-bff8-4655-a7fb-602d6d3bdfd3');\n",
       "var x = new MutationObserver(function (mutations, observer) {{\n",
       "        var display = window.getComputedStyle(gd).display;\n",
       "        if (!display || display === 'none') {{\n",
       "            console.log([gd, 'removed!']);\n",
       "            Plotly.purge(gd);\n",
       "            observer.disconnect();\n",
       "        }}\n",
       "}});\n",
       "\n",
       "// Listen for the removal of the full notebook cells\n",
       "var notebookContainer = gd.closest('#notebook-container');\n",
       "if (notebookContainer) {{\n",
       "    x.observe(notebookContainer, {childList: true});\n",
       "}}\n",
       "\n",
       "// Listen for the clearing of the current output cell\n",
       "var outputEl = gd.closest('.output');\n",
       "if (outputEl) {{\n",
       "    x.observe(outputEl, {childList: true});\n",
       "}}\n",
       "\n",
       "                        })                };                });            </script>        </div>"
      ]
     },
     "metadata": {},
     "output_type": "display_data"
    }
   ],
   "source": [
    "plot_line_chart(population_df, x='DATE', y='SPPOPGROWUSA', title='Population Growth for the United States')"
   ]
  },
  {
   "cell_type": "markdown",
   "id": "243b3871",
   "metadata": {
    "id": "E_33eBXJWHvS",
    "papermill": {
     "duration": 0.011805,
     "end_time": "2023-10-30T15:10:47.758447",
     "exception": false,
     "start_time": "2023-10-30T15:10:47.746642",
     "status": "completed"
    },
    "tags": []
   },
   "source": [
    "### Population Effects on the housing market\n",
    "\n",
    "*   **Higher Demand for Housing**\n",
    "*   **Supply Constraints**:  When demand outstrips supply, home prices tend to rise.\n",
    "\n",
    "\n",
    "*   **Price Appreciation**: The increased competition for homes can drive up prices.\n",
    "\n",
    "\n",
    "*   **Rental Demand**: Strong rental demand can lead to higher rents, making homeownership a more attractive option for some.\n",
    "\n",
    "*   **Specific Regional Impact**: Population growth is not uniform across the country but tends to be concentrated in specific regions and metropolitan areas. These areas experience significant rise in the home prices.\n",
    "\n",
    "\n",
    "*   **Consumer Confidence**: Economic growth and a growing population can boost consumer confidence, making individuals more willing to make long-term investments, including homeownership.\n",
    "\n",
    "\n",
    "\n",
    "*   **Investor Interest**: Population growth often attracts real estate investors looking for opportunities in growing markets. Investor activity can increase demand for homes, particularly in rental markets, and influence price trends.\n",
    "\n",
    "\n",
    "\n"
   ]
  },
  {
   "cell_type": "markdown",
   "id": "5e3211b3",
   "metadata": {
    "id": "4Brs8I2BwgA2",
    "papermill": {
     "duration": 0.011548,
     "end_time": "2023-10-30T15:10:47.782082",
     "exception": false,
     "start_time": "2023-10-30T15:10:47.770534",
     "status": "completed"
    },
    "tags": []
   },
   "source": [
    "<a id=\"11\"></a>\n",
    "# <div style=\"font-size:40px; text-align: left; background-color: royalblue; font-family:Helvetica; color: #ffffff; padding: 14px; line-height: 1;border-radius:20px; border: 4px solid #3f484b;\">Interest Rates and Financing</div>"
   ]
  },
  {
   "cell_type": "markdown",
   "id": "ee54f557",
   "metadata": {
    "papermill": {
     "duration": 0.011503,
     "end_time": "2023-10-30T15:10:47.805227",
     "exception": false,
     "start_time": "2023-10-30T15:10:47.793724",
     "status": "completed"
    },
    "tags": []
   },
   "source": [
    "<a id=\"3.1\"></a>\n",
    "<h3 style=\"font-size:25px; text-align: left;background-color:royalblue; font-family:Helvetica; color: #ffffff; padding: 16px; line-height: 1; border-radius:10px; border: 3px solid #3f484b;\"> Federal Funds Rate</h3>"
   ]
  },
  {
   "cell_type": "code",
   "execution_count": 12,
   "id": "8cf63063",
   "metadata": {
    "execution": {
     "iopub.execute_input": "2023-10-30T15:10:47.830847Z",
     "iopub.status.busy": "2023-10-30T15:10:47.829876Z",
     "iopub.status.idle": "2023-10-30T15:10:47.879550Z",
     "shell.execute_reply": "2023-10-30T15:10:47.878010Z"
    },
    "id": "R6iEjltp_JA3",
    "outputId": "b89a2728-0b8e-4a27-bd9f-05673d21124d",
    "papermill": {
     "duration": 0.065062,
     "end_time": "2023-10-30T15:10:47.882026",
     "exception": false,
     "start_time": "2023-10-30T15:10:47.816964",
     "status": "completed"
    },
    "tags": []
   },
   "outputs": [
    {
     "data": {
      "text/html": [
       "<div>                            <div id=\"e38d4331-7fec-47a9-9136-7954d779809e\" class=\"plotly-graph-div\" style=\"height:525px; width:100%;\"></div>            <script type=\"text/javascript\">                require([\"plotly\"], function(Plotly) {                    window.PLOTLYENV=window.PLOTLYENV || {};                                    if (document.getElementById(\"e38d4331-7fec-47a9-9136-7954d779809e\")) {                    Plotly.newPlot(                        \"e38d4331-7fec-47a9-9136-7954d779809e\",                        [{\"line\":{\"color\":\"#0047AB\",\"width\":3},\"name\":\"Federal Funds Effective Rate\",\"opacity\":0.8,\"x\":[\"2000-01-01T00:00:00\",\"2000-02-01T00:00:00\",\"2000-03-01T00:00:00\",\"2000-04-01T00:00:00\",\"2000-05-01T00:00:00\",\"2000-06-01T00:00:00\",\"2000-07-01T00:00:00\",\"2000-08-01T00:00:00\",\"2000-09-01T00:00:00\",\"2000-10-01T00:00:00\",\"2000-11-01T00:00:00\",\"2000-12-01T00:00:00\",\"2001-01-01T00:00:00\",\"2001-02-01T00:00:00\",\"2001-03-01T00:00:00\",\"2001-04-01T00:00:00\",\"2001-05-01T00:00:00\",\"2001-06-01T00:00:00\",\"2001-07-01T00:00:00\",\"2001-08-01T00:00:00\",\"2001-09-01T00:00:00\",\"2001-10-01T00:00:00\",\"2001-11-01T00:00:00\",\"2001-12-01T00:00:00\",\"2002-01-01T00:00:00\",\"2002-02-01T00:00:00\",\"2002-03-01T00:00:00\",\"2002-04-01T00:00:00\",\"2002-05-01T00:00:00\",\"2002-06-01T00:00:00\",\"2002-07-01T00:00:00\",\"2002-08-01T00:00:00\",\"2002-09-01T00:00:00\",\"2002-10-01T00:00:00\",\"2002-11-01T00:00:00\",\"2002-12-01T00:00:00\",\"2003-01-01T00:00:00\",\"2003-02-01T00:00:00\",\"2003-03-01T00:00:00\",\"2003-04-01T00:00:00\",\"2003-05-01T00:00:00\",\"2003-06-01T00:00:00\",\"2003-07-01T00:00:00\",\"2003-08-01T00:00:00\",\"2003-09-01T00:00:00\",\"2003-10-01T00:00:00\",\"2003-11-01T00:00:00\",\"2003-12-01T00:00:00\",\"2004-01-01T00:00:00\",\"2004-02-01T00:00:00\",\"2004-03-01T00:00:00\",\"2004-04-01T00:00:00\",\"2004-05-01T00:00:00\",\"2004-06-01T00:00:00\",\"2004-07-01T00:00:00\",\"2004-08-01T00:00:00\",\"2004-09-01T00:00:00\",\"2004-10-01T00:00:00\",\"2004-11-01T00:00:00\",\"2004-12-01T00:00:00\",\"2005-01-01T00:00:00\",\"2005-02-01T00:00:00\",\"2005-03-01T00:00:00\",\"2005-04-01T00:00:00\",\"2005-05-01T00:00:00\",\"2005-06-01T00:00:00\",\"2005-07-01T00:00:00\",\"2005-08-01T00:00:00\",\"2005-09-01T00:00:00\",\"2005-10-01T00:00:00\",\"2005-11-01T00:00:00\",\"2005-12-01T00:00:00\",\"2006-01-01T00:00:00\",\"2006-02-01T00:00:00\",\"2006-03-01T00:00:00\",\"2006-04-01T00:00:00\",\"2006-05-01T00:00:00\",\"2006-06-01T00:00:00\",\"2006-07-01T00:00:00\",\"2006-08-01T00:00:00\",\"2006-09-01T00:00:00\",\"2006-10-01T00:00:00\",\"2006-11-01T00:00:00\",\"2006-12-01T00:00:00\",\"2007-01-01T00:00:00\",\"2007-02-01T00:00:00\",\"2007-03-01T00:00:00\",\"2007-04-01T00:00:00\",\"2007-05-01T00:00:00\",\"2007-06-01T00:00:00\",\"2007-07-01T00:00:00\",\"2007-08-01T00:00:00\",\"2007-09-01T00:00:00\",\"2007-10-01T00:00:00\",\"2007-11-01T00:00:00\",\"2007-12-01T00:00:00\",\"2008-01-01T00:00:00\",\"2008-02-01T00:00:00\",\"2008-03-01T00:00:00\",\"2008-04-01T00:00:00\",\"2008-05-01T00:00:00\",\"2008-06-01T00:00:00\",\"2008-07-01T00:00:00\",\"2008-08-01T00:00:00\",\"2008-09-01T00:00:00\",\"2008-10-01T00:00:00\",\"2008-11-01T00:00:00\",\"2008-12-01T00:00:00\",\"2009-01-01T00:00:00\",\"2009-02-01T00:00:00\",\"2009-03-01T00:00:00\",\"2009-04-01T00:00:00\",\"2009-05-01T00:00:00\",\"2009-06-01T00:00:00\",\"2009-07-01T00:00:00\",\"2009-08-01T00:00:00\",\"2009-09-01T00:00:00\",\"2009-10-01T00:00:00\",\"2009-11-01T00:00:00\",\"2009-12-01T00:00:00\",\"2010-01-01T00:00:00\",\"2010-02-01T00:00:00\",\"2010-03-01T00:00:00\",\"2010-04-01T00:00:00\",\"2010-05-01T00:00:00\",\"2010-06-01T00:00:00\",\"2010-07-01T00:00:00\",\"2010-08-01T00:00:00\",\"2010-09-01T00:00:00\",\"2010-10-01T00:00:00\",\"2010-11-01T00:00:00\",\"2010-12-01T00:00:00\",\"2011-01-01T00:00:00\",\"2011-02-01T00:00:00\",\"2011-03-01T00:00:00\",\"2011-04-01T00:00:00\",\"2011-05-01T00:00:00\",\"2011-06-01T00:00:00\",\"2011-07-01T00:00:00\",\"2011-08-01T00:00:00\",\"2011-09-01T00:00:00\",\"2011-10-01T00:00:00\",\"2011-11-01T00:00:00\",\"2011-12-01T00:00:00\",\"2012-01-01T00:00:00\",\"2012-02-01T00:00:00\",\"2012-03-01T00:00:00\",\"2012-04-01T00:00:00\",\"2012-05-01T00:00:00\",\"2012-06-01T00:00:00\",\"2012-07-01T00:00:00\",\"2012-08-01T00:00:00\",\"2012-09-01T00:00:00\",\"2012-10-01T00:00:00\",\"2012-11-01T00:00:00\",\"2012-12-01T00:00:00\",\"2013-01-01T00:00:00\",\"2013-02-01T00:00:00\",\"2013-03-01T00:00:00\",\"2013-04-01T00:00:00\",\"2013-05-01T00:00:00\",\"2013-06-01T00:00:00\",\"2013-07-01T00:00:00\",\"2013-08-01T00:00:00\",\"2013-09-01T00:00:00\",\"2013-10-01T00:00:00\",\"2013-11-01T00:00:00\",\"2013-12-01T00:00:00\",\"2014-01-01T00:00:00\",\"2014-02-01T00:00:00\",\"2014-03-01T00:00:00\",\"2014-04-01T00:00:00\",\"2014-05-01T00:00:00\",\"2014-06-01T00:00:00\",\"2014-07-01T00:00:00\",\"2014-08-01T00:00:00\",\"2014-09-01T00:00:00\",\"2014-10-01T00:00:00\",\"2014-11-01T00:00:00\",\"2014-12-01T00:00:00\",\"2015-01-01T00:00:00\",\"2015-02-01T00:00:00\",\"2015-03-01T00:00:00\",\"2015-04-01T00:00:00\",\"2015-05-01T00:00:00\",\"2015-06-01T00:00:00\",\"2015-07-01T00:00:00\",\"2015-08-01T00:00:00\",\"2015-09-01T00:00:00\",\"2015-10-01T00:00:00\",\"2015-11-01T00:00:00\",\"2015-12-01T00:00:00\",\"2016-01-01T00:00:00\",\"2016-02-01T00:00:00\",\"2016-03-01T00:00:00\",\"2016-04-01T00:00:00\",\"2016-05-01T00:00:00\",\"2016-06-01T00:00:00\",\"2016-07-01T00:00:00\",\"2016-08-01T00:00:00\",\"2016-09-01T00:00:00\",\"2016-10-01T00:00:00\",\"2016-11-01T00:00:00\",\"2016-12-01T00:00:00\",\"2017-01-01T00:00:00\",\"2017-02-01T00:00:00\",\"2017-03-01T00:00:00\",\"2017-04-01T00:00:00\",\"2017-05-01T00:00:00\",\"2017-06-01T00:00:00\",\"2017-07-01T00:00:00\",\"2017-08-01T00:00:00\",\"2017-09-01T00:00:00\",\"2017-10-01T00:00:00\",\"2017-11-01T00:00:00\",\"2017-12-01T00:00:00\",\"2018-01-01T00:00:00\",\"2018-02-01T00:00:00\",\"2018-03-01T00:00:00\",\"2018-04-01T00:00:00\",\"2018-05-01T00:00:00\",\"2018-06-01T00:00:00\",\"2018-07-01T00:00:00\",\"2018-08-01T00:00:00\",\"2018-09-01T00:00:00\",\"2018-10-01T00:00:00\",\"2018-11-01T00:00:00\",\"2018-12-01T00:00:00\",\"2019-01-01T00:00:00\",\"2019-02-01T00:00:00\",\"2019-03-01T00:00:00\",\"2019-04-01T00:00:00\",\"2019-05-01T00:00:00\",\"2019-06-01T00:00:00\",\"2019-07-01T00:00:00\",\"2019-08-01T00:00:00\",\"2019-09-01T00:00:00\",\"2019-10-01T00:00:00\",\"2019-11-01T00:00:00\",\"2019-12-01T00:00:00\",\"2020-01-01T00:00:00\",\"2020-02-01T00:00:00\",\"2020-03-01T00:00:00\",\"2020-04-01T00:00:00\",\"2020-05-01T00:00:00\",\"2020-06-01T00:00:00\",\"2020-07-01T00:00:00\",\"2020-08-01T00:00:00\",\"2020-09-01T00:00:00\",\"2020-10-01T00:00:00\",\"2020-11-01T00:00:00\",\"2020-12-01T00:00:00\",\"2021-01-01T00:00:00\",\"2021-02-01T00:00:00\",\"2021-03-01T00:00:00\",\"2021-04-01T00:00:00\",\"2021-05-01T00:00:00\",\"2021-06-01T00:00:00\",\"2021-07-01T00:00:00\",\"2021-08-01T00:00:00\",\"2021-09-01T00:00:00\",\"2021-10-01T00:00:00\",\"2021-11-01T00:00:00\",\"2021-12-01T00:00:00\",\"2022-01-01T00:00:00\",\"2022-02-01T00:00:00\",\"2022-03-01T00:00:00\",\"2022-04-01T00:00:00\",\"2022-05-01T00:00:00\",\"2022-06-01T00:00:00\",\"2022-07-01T00:00:00\",\"2022-08-01T00:00:00\",\"2022-09-01T00:00:00\",\"2022-10-01T00:00:00\",\"2022-11-01T00:00:00\",\"2022-12-01T00:00:00\",\"2023-01-01T00:00:00\",\"2023-02-01T00:00:00\",\"2023-03-01T00:00:00\",\"2023-04-01T00:00:00\",\"2023-05-01T00:00:00\",\"2023-06-01T00:00:00\",\"2023-07-01T00:00:00\",\"2023-08-01T00:00:00\",\"2023-09-01T00:00:00\"],\"y\":[5.45,5.73,5.85,6.02,6.27,6.53,6.54,6.5,6.52,6.51,6.51,6.4,5.98,5.49,5.31,4.8,4.21,3.97,3.77,3.65,3.07,2.49,2.09,1.82,1.73,1.74,1.73,1.75,1.75,1.75,1.73,1.74,1.75,1.75,1.34,1.24,1.24,1.26,1.25,1.26,1.26,1.22,1.01,1.03,1.01,1.01,1.0,0.98,1.0,1.01,1.0,1.0,1.0,1.03,1.26,1.43,1.61,1.76,1.93,2.16,2.28,2.5,2.63,2.79,3.0,3.04,3.26,3.5,3.62,3.78,4.0,4.16,4.29,4.49,4.59,4.79,4.94,4.99,5.24,5.25,5.25,5.25,5.25,5.24,5.25,5.26,5.26,5.25,5.25,5.25,5.26,5.02,4.94,4.76,4.49,4.24,3.94,2.98,2.61,2.28,1.98,2.0,2.01,2.0,1.81,0.97,0.39,0.16,0.15,0.22,0.18,0.15,0.18,0.21,0.16,0.16,0.15,0.12,0.12,0.12,0.11,0.13,0.16,0.2,0.2,0.18,0.18,0.19,0.19,0.19,0.19,0.18,0.17,0.16,0.14,0.1,0.09,0.09,0.07,0.1,0.08,0.07,0.08,0.07,0.08,0.1,0.13,0.14,0.16,0.16,0.16,0.13,0.14,0.16,0.16,0.16,0.14,0.15,0.14,0.15,0.11,0.09,0.09,0.08,0.08,0.09,0.08,0.09,0.07,0.07,0.08,0.09,0.09,0.1,0.09,0.09,0.09,0.09,0.09,0.12,0.11,0.11,0.11,0.12,0.12,0.13,0.13,0.14,0.14,0.12,0.12,0.24,0.34,0.38,0.36,0.37,0.37,0.38,0.39,0.4,0.4,0.4,0.41,0.54,0.65,0.66,0.79,0.9,0.91,1.04,1.15,1.16,1.15,1.15,1.16,1.3,1.41,1.42,1.51,1.69,1.7,1.82,1.91,1.91,1.95,2.19,2.2,2.27,2.4,2.4,2.41,2.42,2.39,2.38,2.4,2.13,2.04,1.83,1.55,1.55,1.55,1.58,0.65,0.05,0.05,0.08,0.09,0.1,0.09,0.09,0.09,0.09,0.09,0.08,0.07,0.07,0.06,0.08,0.1,0.09,0.08,0.08,0.08,0.08,0.08,0.08,0.2,0.33,0.77,1.21,1.68,2.33,2.56,3.08,3.78,4.1,4.33,4.57,4.65,4.83,5.06,5.08,5.12,5.33,5.33],\"type\":\"scatter\"}],                        {\"template\":{\"data\":{\"barpolar\":[{\"marker\":{\"line\":{\"color\":\"#E5ECF6\",\"width\":0.5},\"pattern\":{\"fillmode\":\"overlay\",\"size\":10,\"solidity\":0.2}},\"type\":\"barpolar\"}],\"bar\":[{\"error_x\":{\"color\":\"#2a3f5f\"},\"error_y\":{\"color\":\"#2a3f5f\"},\"marker\":{\"line\":{\"color\":\"#E5ECF6\",\"width\":0.5},\"pattern\":{\"fillmode\":\"overlay\",\"size\":10,\"solidity\":0.2}},\"type\":\"bar\"}],\"carpet\":[{\"aaxis\":{\"endlinecolor\":\"#2a3f5f\",\"gridcolor\":\"white\",\"linecolor\":\"white\",\"minorgridcolor\":\"white\",\"startlinecolor\":\"#2a3f5f\"},\"baxis\":{\"endlinecolor\":\"#2a3f5f\",\"gridcolor\":\"white\",\"linecolor\":\"white\",\"minorgridcolor\":\"white\",\"startlinecolor\":\"#2a3f5f\"},\"type\":\"carpet\"}],\"choropleth\":[{\"colorbar\":{\"outlinewidth\":0,\"ticks\":\"\"},\"type\":\"choropleth\"}],\"contourcarpet\":[{\"colorbar\":{\"outlinewidth\":0,\"ticks\":\"\"},\"type\":\"contourcarpet\"}],\"contour\":[{\"colorbar\":{\"outlinewidth\":0,\"ticks\":\"\"},\"colorscale\":[[0.0,\"#0d0887\"],[0.1111111111111111,\"#46039f\"],[0.2222222222222222,\"#7201a8\"],[0.3333333333333333,\"#9c179e\"],[0.4444444444444444,\"#bd3786\"],[0.5555555555555556,\"#d8576b\"],[0.6666666666666666,\"#ed7953\"],[0.7777777777777778,\"#fb9f3a\"],[0.8888888888888888,\"#fdca26\"],[1.0,\"#f0f921\"]],\"type\":\"contour\"}],\"heatmapgl\":[{\"colorbar\":{\"outlinewidth\":0,\"ticks\":\"\"},\"colorscale\":[[0.0,\"#0d0887\"],[0.1111111111111111,\"#46039f\"],[0.2222222222222222,\"#7201a8\"],[0.3333333333333333,\"#9c179e\"],[0.4444444444444444,\"#bd3786\"],[0.5555555555555556,\"#d8576b\"],[0.6666666666666666,\"#ed7953\"],[0.7777777777777778,\"#fb9f3a\"],[0.8888888888888888,\"#fdca26\"],[1.0,\"#f0f921\"]],\"type\":\"heatmapgl\"}],\"heatmap\":[{\"colorbar\":{\"outlinewidth\":0,\"ticks\":\"\"},\"colorscale\":[[0.0,\"#0d0887\"],[0.1111111111111111,\"#46039f\"],[0.2222222222222222,\"#7201a8\"],[0.3333333333333333,\"#9c179e\"],[0.4444444444444444,\"#bd3786\"],[0.5555555555555556,\"#d8576b\"],[0.6666666666666666,\"#ed7953\"],[0.7777777777777778,\"#fb9f3a\"],[0.8888888888888888,\"#fdca26\"],[1.0,\"#f0f921\"]],\"type\":\"heatmap\"}],\"histogram2dcontour\":[{\"colorbar\":{\"outlinewidth\":0,\"ticks\":\"\"},\"colorscale\":[[0.0,\"#0d0887\"],[0.1111111111111111,\"#46039f\"],[0.2222222222222222,\"#7201a8\"],[0.3333333333333333,\"#9c179e\"],[0.4444444444444444,\"#bd3786\"],[0.5555555555555556,\"#d8576b\"],[0.6666666666666666,\"#ed7953\"],[0.7777777777777778,\"#fb9f3a\"],[0.8888888888888888,\"#fdca26\"],[1.0,\"#f0f921\"]],\"type\":\"histogram2dcontour\"}],\"histogram2d\":[{\"colorbar\":{\"outlinewidth\":0,\"ticks\":\"\"},\"colorscale\":[[0.0,\"#0d0887\"],[0.1111111111111111,\"#46039f\"],[0.2222222222222222,\"#7201a8\"],[0.3333333333333333,\"#9c179e\"],[0.4444444444444444,\"#bd3786\"],[0.5555555555555556,\"#d8576b\"],[0.6666666666666666,\"#ed7953\"],[0.7777777777777778,\"#fb9f3a\"],[0.8888888888888888,\"#fdca26\"],[1.0,\"#f0f921\"]],\"type\":\"histogram2d\"}],\"histogram\":[{\"marker\":{\"pattern\":{\"fillmode\":\"overlay\",\"size\":10,\"solidity\":0.2}},\"type\":\"histogram\"}],\"mesh3d\":[{\"colorbar\":{\"outlinewidth\":0,\"ticks\":\"\"},\"type\":\"mesh3d\"}],\"parcoords\":[{\"line\":{\"colorbar\":{\"outlinewidth\":0,\"ticks\":\"\"}},\"type\":\"parcoords\"}],\"pie\":[{\"automargin\":true,\"type\":\"pie\"}],\"scatter3d\":[{\"line\":{\"colorbar\":{\"outlinewidth\":0,\"ticks\":\"\"}},\"marker\":{\"colorbar\":{\"outlinewidth\":0,\"ticks\":\"\"}},\"type\":\"scatter3d\"}],\"scattercarpet\":[{\"marker\":{\"colorbar\":{\"outlinewidth\":0,\"ticks\":\"\"}},\"type\":\"scattercarpet\"}],\"scattergeo\":[{\"marker\":{\"colorbar\":{\"outlinewidth\":0,\"ticks\":\"\"}},\"type\":\"scattergeo\"}],\"scattergl\":[{\"marker\":{\"colorbar\":{\"outlinewidth\":0,\"ticks\":\"\"}},\"type\":\"scattergl\"}],\"scattermapbox\":[{\"marker\":{\"colorbar\":{\"outlinewidth\":0,\"ticks\":\"\"}},\"type\":\"scattermapbox\"}],\"scatterpolargl\":[{\"marker\":{\"colorbar\":{\"outlinewidth\":0,\"ticks\":\"\"}},\"type\":\"scatterpolargl\"}],\"scatterpolar\":[{\"marker\":{\"colorbar\":{\"outlinewidth\":0,\"ticks\":\"\"}},\"type\":\"scatterpolar\"}],\"scatter\":[{\"fillpattern\":{\"fillmode\":\"overlay\",\"size\":10,\"solidity\":0.2},\"type\":\"scatter\"}],\"scatterternary\":[{\"marker\":{\"colorbar\":{\"outlinewidth\":0,\"ticks\":\"\"}},\"type\":\"scatterternary\"}],\"surface\":[{\"colorbar\":{\"outlinewidth\":0,\"ticks\":\"\"},\"colorscale\":[[0.0,\"#0d0887\"],[0.1111111111111111,\"#46039f\"],[0.2222222222222222,\"#7201a8\"],[0.3333333333333333,\"#9c179e\"],[0.4444444444444444,\"#bd3786\"],[0.5555555555555556,\"#d8576b\"],[0.6666666666666666,\"#ed7953\"],[0.7777777777777778,\"#fb9f3a\"],[0.8888888888888888,\"#fdca26\"],[1.0,\"#f0f921\"]],\"type\":\"surface\"}],\"table\":[{\"cells\":{\"fill\":{\"color\":\"#EBF0F8\"},\"line\":{\"color\":\"white\"}},\"header\":{\"fill\":{\"color\":\"#C8D4E3\"},\"line\":{\"color\":\"white\"}},\"type\":\"table\"}]},\"layout\":{\"annotationdefaults\":{\"arrowcolor\":\"#2a3f5f\",\"arrowhead\":0,\"arrowwidth\":1},\"autotypenumbers\":\"strict\",\"coloraxis\":{\"colorbar\":{\"outlinewidth\":0,\"ticks\":\"\"}},\"colorscale\":{\"diverging\":[[0,\"#8e0152\"],[0.1,\"#c51b7d\"],[0.2,\"#de77ae\"],[0.3,\"#f1b6da\"],[0.4,\"#fde0ef\"],[0.5,\"#f7f7f7\"],[0.6,\"#e6f5d0\"],[0.7,\"#b8e186\"],[0.8,\"#7fbc41\"],[0.9,\"#4d9221\"],[1,\"#276419\"]],\"sequential\":[[0.0,\"#0d0887\"],[0.1111111111111111,\"#46039f\"],[0.2222222222222222,\"#7201a8\"],[0.3333333333333333,\"#9c179e\"],[0.4444444444444444,\"#bd3786\"],[0.5555555555555556,\"#d8576b\"],[0.6666666666666666,\"#ed7953\"],[0.7777777777777778,\"#fb9f3a\"],[0.8888888888888888,\"#fdca26\"],[1.0,\"#f0f921\"]],\"sequentialminus\":[[0.0,\"#0d0887\"],[0.1111111111111111,\"#46039f\"],[0.2222222222222222,\"#7201a8\"],[0.3333333333333333,\"#9c179e\"],[0.4444444444444444,\"#bd3786\"],[0.5555555555555556,\"#d8576b\"],[0.6666666666666666,\"#ed7953\"],[0.7777777777777778,\"#fb9f3a\"],[0.8888888888888888,\"#fdca26\"],[1.0,\"#f0f921\"]]},\"colorway\":[\"#636efa\",\"#EF553B\",\"#00cc96\",\"#ab63fa\",\"#FFA15A\",\"#19d3f3\",\"#FF6692\",\"#B6E880\",\"#FF97FF\",\"#FECB52\"],\"font\":{\"color\":\"#2a3f5f\"},\"geo\":{\"bgcolor\":\"white\",\"lakecolor\":\"white\",\"landcolor\":\"#E5ECF6\",\"showlakes\":true,\"showland\":true,\"subunitcolor\":\"white\"},\"hoverlabel\":{\"align\":\"left\"},\"hovermode\":\"closest\",\"mapbox\":{\"style\":\"light\"},\"paper_bgcolor\":\"white\",\"plot_bgcolor\":\"#E5ECF6\",\"polar\":{\"angularaxis\":{\"gridcolor\":\"white\",\"linecolor\":\"white\",\"ticks\":\"\"},\"bgcolor\":\"#E5ECF6\",\"radialaxis\":{\"gridcolor\":\"white\",\"linecolor\":\"white\",\"ticks\":\"\"}},\"scene\":{\"xaxis\":{\"backgroundcolor\":\"#E5ECF6\",\"gridcolor\":\"white\",\"gridwidth\":2,\"linecolor\":\"white\",\"showbackground\":true,\"ticks\":\"\",\"zerolinecolor\":\"white\"},\"yaxis\":{\"backgroundcolor\":\"#E5ECF6\",\"gridcolor\":\"white\",\"gridwidth\":2,\"linecolor\":\"white\",\"showbackground\":true,\"ticks\":\"\",\"zerolinecolor\":\"white\"},\"zaxis\":{\"backgroundcolor\":\"#E5ECF6\",\"gridcolor\":\"white\",\"gridwidth\":2,\"linecolor\":\"white\",\"showbackground\":true,\"ticks\":\"\",\"zerolinecolor\":\"white\"}},\"shapedefaults\":{\"line\":{\"color\":\"#2a3f5f\"}},\"ternary\":{\"aaxis\":{\"gridcolor\":\"white\",\"linecolor\":\"white\",\"ticks\":\"\"},\"baxis\":{\"gridcolor\":\"white\",\"linecolor\":\"white\",\"ticks\":\"\"},\"bgcolor\":\"#E5ECF6\",\"caxis\":{\"gridcolor\":\"white\",\"linecolor\":\"white\",\"ticks\":\"\"}},\"title\":{\"x\":0.05},\"xaxis\":{\"automargin\":true,\"gridcolor\":\"white\",\"linecolor\":\"white\",\"ticks\":\"\",\"title\":{\"standoff\":15},\"zerolinecolor\":\"white\",\"zerolinewidth\":2},\"yaxis\":{\"automargin\":true,\"gridcolor\":\"white\",\"linecolor\":\"white\",\"ticks\":\"\",\"title\":{\"standoff\":15},\"zerolinecolor\":\"white\",\"zerolinewidth\":2}}},\"title\":{\"text\":\"Federal Funds Effective Rate\"},\"xaxis\":{\"rangeselector\":{\"buttons\":[{\"count\":6,\"label\":\"6 months\",\"step\":\"month\",\"stepmode\":\"backward\"},{\"count\":1,\"label\":\"1 year\",\"step\":\"year\",\"stepmode\":\"backward\"},{\"count\":2,\"label\":\"2 years\",\"step\":\"year\",\"stepmode\":\"backward\"},{\"count\":5,\"label\":\"5 years\",\"step\":\"year\",\"stepmode\":\"backward\"},{\"count\":10,\"label\":\"10 years\",\"step\":\"year\",\"stepmode\":\"backward\"},{\"count\":15,\"label\":\"15 years\",\"step\":\"year\",\"stepmode\":\"backward\"},{\"step\":\"all\"}]},\"rangeslider\":{\"visible\":true},\"type\":\"date\"}},                        {\"responsive\": true}                    ).then(function(){\n",
       "                            \n",
       "var gd = document.getElementById('e38d4331-7fec-47a9-9136-7954d779809e');\n",
       "var x = new MutationObserver(function (mutations, observer) {{\n",
       "        var display = window.getComputedStyle(gd).display;\n",
       "        if (!display || display === 'none') {{\n",
       "            console.log([gd, 'removed!']);\n",
       "            Plotly.purge(gd);\n",
       "            observer.disconnect();\n",
       "        }}\n",
       "}});\n",
       "\n",
       "// Listen for the removal of the full notebook cells\n",
       "var notebookContainer = gd.closest('#notebook-container');\n",
       "if (notebookContainer) {{\n",
       "    x.observe(notebookContainer, {childList: true});\n",
       "}}\n",
       "\n",
       "// Listen for the clearing of the current output cell\n",
       "var outputEl = gd.closest('.output');\n",
       "if (outputEl) {{\n",
       "    x.observe(outputEl, {childList: true});\n",
       "}}\n",
       "\n",
       "                        })                };                });            </script>        </div>"
      ]
     },
     "metadata": {},
     "output_type": "display_data"
    }
   ],
   "source": [
    "plot_line_chart(fedfunds_rate_df, x='DATE', y='FEDFUNDS', title='Federal Funds Effective Rate')"
   ]
  },
  {
   "cell_type": "markdown",
   "id": "d5390bb9",
   "metadata": {
    "id": "dIZqCU3H0rbH",
    "papermill": {
     "duration": 0.011878,
     "end_time": "2023-10-30T15:10:47.906320",
     "exception": false,
     "start_time": "2023-10-30T15:10:47.894442",
     "status": "completed"
    },
    "tags": []
   },
   "source": [
    "### Federal Funds Effective Rate Effects on the US home prices:\n",
    "\n",
    "\n",
    "\n",
    "*   **Mortgage Costs**: When the Fed raises the Fed Funds Rate, banks often raise the prime rate, making borrowing more expensive, hence reducing the price.\n",
    "*   **Economic Conditions**: A rising Fed Funds Rate may signal that the central bank is trying to cool down an overheated economy and control inflation.\n",
    "\n"
   ]
  },
  {
   "cell_type": "markdown",
   "id": "e75cead1",
   "metadata": {
    "papermill": {
     "duration": 0.012236,
     "end_time": "2023-10-30T15:10:47.930616",
     "exception": false,
     "start_time": "2023-10-30T15:10:47.918380",
     "status": "completed"
    },
    "tags": []
   },
   "source": [
    "<a id=\"3.1\"></a>\n",
    "<h3 style=\"font-size:25px; text-align: left;background-color:royalblue; font-family:Helvetica; color: #ffffff; padding: 16px; line-height: 1; border-radius:10px; border: 3px solid #3f484b;\"> Consumer Price Index</h3>"
   ]
  },
  {
   "cell_type": "markdown",
   "id": "cc0d0fe8",
   "metadata": {
    "id": "3B0H0BJ12TzY",
    "papermill": {
     "duration": 0.011692,
     "end_time": "2023-10-30T15:10:47.954522",
     "exception": false,
     "start_time": "2023-10-30T15:10:47.942830",
     "status": "completed"
    },
    "tags": []
   },
   "source": [
    "\n",
    "\n",
    "1.   The Consumer Price Index (CPI) in the United States measures changes in the average prices paid by urban consumers for a basket of goods and services over time.\n",
    "2.   CPI is a widely used economic indicator to assess inflation, and it can indirectly influence home prices through various mechanisms\n",
    "\n"
   ]
  },
  {
   "cell_type": "code",
   "execution_count": 13,
   "id": "93cb4d29",
   "metadata": {
    "execution": {
     "iopub.execute_input": "2023-10-30T15:10:47.981660Z",
     "iopub.status.busy": "2023-10-30T15:10:47.981221Z",
     "iopub.status.idle": "2023-10-30T15:10:48.031060Z",
     "shell.execute_reply": "2023-10-30T15:10:48.029937Z"
    },
    "id": "hDnr96w7dBNE",
    "outputId": "6d322396-ebcc-4753-9e6b-aa517967b345",
    "papermill": {
     "duration": 0.066352,
     "end_time": "2023-10-30T15:10:48.033644",
     "exception": false,
     "start_time": "2023-10-30T15:10:47.967292",
     "status": "completed"
    },
    "tags": []
   },
   "outputs": [
    {
     "data": {
      "text/html": [
       "<div>                            <div id=\"edee82ca-7912-40bc-b3a2-3123c09bafbb\" class=\"plotly-graph-div\" style=\"height:525px; width:100%;\"></div>            <script type=\"text/javascript\">                require([\"plotly\"], function(Plotly) {                    window.PLOTLYENV=window.PLOTLYENV || {};                                    if (document.getElementById(\"edee82ca-7912-40bc-b3a2-3123c09bafbb\")) {                    Plotly.newPlot(                        \"edee82ca-7912-40bc-b3a2-3123c09bafbb\",                        [{\"line\":{\"color\":\"#0047AB\",\"width\":3},\"name\":\"Consumer Price Index\",\"opacity\":0.8,\"x\":[\"2000-01-01T00:00:00\",\"2000-02-01T00:00:00\",\"2000-03-01T00:00:00\",\"2000-04-01T00:00:00\",\"2000-05-01T00:00:00\",\"2000-06-01T00:00:00\",\"2000-07-01T00:00:00\",\"2000-08-01T00:00:00\",\"2000-09-01T00:00:00\",\"2000-10-01T00:00:00\",\"2000-11-01T00:00:00\",\"2000-12-01T00:00:00\",\"2001-01-01T00:00:00\",\"2001-02-01T00:00:00\",\"2001-03-01T00:00:00\",\"2001-04-01T00:00:00\",\"2001-05-01T00:00:00\",\"2001-06-01T00:00:00\",\"2001-07-01T00:00:00\",\"2001-08-01T00:00:00\",\"2001-09-01T00:00:00\",\"2001-10-01T00:00:00\",\"2001-11-01T00:00:00\",\"2001-12-01T00:00:00\",\"2002-01-01T00:00:00\",\"2002-02-01T00:00:00\",\"2002-03-01T00:00:00\",\"2002-04-01T00:00:00\",\"2002-05-01T00:00:00\",\"2002-06-01T00:00:00\",\"2002-07-01T00:00:00\",\"2002-08-01T00:00:00\",\"2002-09-01T00:00:00\",\"2002-10-01T00:00:00\",\"2002-11-01T00:00:00\",\"2002-12-01T00:00:00\",\"2003-01-01T00:00:00\",\"2003-02-01T00:00:00\",\"2003-03-01T00:00:00\",\"2003-04-01T00:00:00\",\"2003-05-01T00:00:00\",\"2003-06-01T00:00:00\",\"2003-07-01T00:00:00\",\"2003-08-01T00:00:00\",\"2003-09-01T00:00:00\",\"2003-10-01T00:00:00\",\"2003-11-01T00:00:00\",\"2003-12-01T00:00:00\",\"2004-01-01T00:00:00\",\"2004-02-01T00:00:00\",\"2004-03-01T00:00:00\",\"2004-04-01T00:00:00\",\"2004-05-01T00:00:00\",\"2004-06-01T00:00:00\",\"2004-07-01T00:00:00\",\"2004-08-01T00:00:00\",\"2004-09-01T00:00:00\",\"2004-10-01T00:00:00\",\"2004-11-01T00:00:00\",\"2004-12-01T00:00:00\",\"2005-01-01T00:00:00\",\"2005-02-01T00:00:00\",\"2005-03-01T00:00:00\",\"2005-04-01T00:00:00\",\"2005-05-01T00:00:00\",\"2005-06-01T00:00:00\",\"2005-07-01T00:00:00\",\"2005-08-01T00:00:00\",\"2005-09-01T00:00:00\",\"2005-10-01T00:00:00\",\"2005-11-01T00:00:00\",\"2005-12-01T00:00:00\",\"2006-01-01T00:00:00\",\"2006-02-01T00:00:00\",\"2006-03-01T00:00:00\",\"2006-04-01T00:00:00\",\"2006-05-01T00:00:00\",\"2006-06-01T00:00:00\",\"2006-07-01T00:00:00\",\"2006-08-01T00:00:00\",\"2006-09-01T00:00:00\",\"2006-10-01T00:00:00\",\"2006-11-01T00:00:00\",\"2006-12-01T00:00:00\",\"2007-01-01T00:00:00\",\"2007-02-01T00:00:00\",\"2007-03-01T00:00:00\",\"2007-04-01T00:00:00\",\"2007-05-01T00:00:00\",\"2007-06-01T00:00:00\",\"2007-07-01T00:00:00\",\"2007-08-01T00:00:00\",\"2007-09-01T00:00:00\",\"2007-10-01T00:00:00\",\"2007-11-01T00:00:00\",\"2007-12-01T00:00:00\",\"2008-01-01T00:00:00\",\"2008-02-01T00:00:00\",\"2008-03-01T00:00:00\",\"2008-04-01T00:00:00\",\"2008-05-01T00:00:00\",\"2008-06-01T00:00:00\",\"2008-07-01T00:00:00\",\"2008-08-01T00:00:00\",\"2008-09-01T00:00:00\",\"2008-10-01T00:00:00\",\"2008-11-01T00:00:00\",\"2008-12-01T00:00:00\",\"2009-01-01T00:00:00\",\"2009-02-01T00:00:00\",\"2009-03-01T00:00:00\",\"2009-04-01T00:00:00\",\"2009-05-01T00:00:00\",\"2009-06-01T00:00:00\",\"2009-07-01T00:00:00\",\"2009-08-01T00:00:00\",\"2009-09-01T00:00:00\",\"2009-10-01T00:00:00\",\"2009-11-01T00:00:00\",\"2009-12-01T00:00:00\",\"2010-01-01T00:00:00\",\"2010-02-01T00:00:00\",\"2010-03-01T00:00:00\",\"2010-04-01T00:00:00\",\"2010-05-01T00:00:00\",\"2010-06-01T00:00:00\",\"2010-07-01T00:00:00\",\"2010-08-01T00:00:00\",\"2010-09-01T00:00:00\",\"2010-10-01T00:00:00\",\"2010-11-01T00:00:00\",\"2010-12-01T00:00:00\",\"2011-01-01T00:00:00\",\"2011-02-01T00:00:00\",\"2011-03-01T00:00:00\",\"2011-04-01T00:00:00\",\"2011-05-01T00:00:00\",\"2011-06-01T00:00:00\",\"2011-07-01T00:00:00\",\"2011-08-01T00:00:00\",\"2011-09-01T00:00:00\",\"2011-10-01T00:00:00\",\"2011-11-01T00:00:00\",\"2011-12-01T00:00:00\",\"2012-01-01T00:00:00\",\"2012-02-01T00:00:00\",\"2012-03-01T00:00:00\",\"2012-04-01T00:00:00\",\"2012-05-01T00:00:00\",\"2012-06-01T00:00:00\",\"2012-07-01T00:00:00\",\"2012-08-01T00:00:00\",\"2012-09-01T00:00:00\",\"2012-10-01T00:00:00\",\"2012-11-01T00:00:00\",\"2012-12-01T00:00:00\",\"2013-01-01T00:00:00\",\"2013-02-01T00:00:00\",\"2013-03-01T00:00:00\",\"2013-04-01T00:00:00\",\"2013-05-01T00:00:00\",\"2013-06-01T00:00:00\",\"2013-07-01T00:00:00\",\"2013-08-01T00:00:00\",\"2013-09-01T00:00:00\",\"2013-10-01T00:00:00\",\"2013-11-01T00:00:00\",\"2013-12-01T00:00:00\",\"2014-01-01T00:00:00\",\"2014-02-01T00:00:00\",\"2014-03-01T00:00:00\",\"2014-04-01T00:00:00\",\"2014-05-01T00:00:00\",\"2014-06-01T00:00:00\",\"2014-07-01T00:00:00\",\"2014-08-01T00:00:00\",\"2014-09-01T00:00:00\",\"2014-10-01T00:00:00\",\"2014-11-01T00:00:00\",\"2014-12-01T00:00:00\",\"2015-01-01T00:00:00\",\"2015-02-01T00:00:00\",\"2015-03-01T00:00:00\",\"2015-04-01T00:00:00\",\"2015-05-01T00:00:00\",\"2015-06-01T00:00:00\",\"2015-07-01T00:00:00\",\"2015-08-01T00:00:00\",\"2015-09-01T00:00:00\",\"2015-10-01T00:00:00\",\"2015-11-01T00:00:00\",\"2015-12-01T00:00:00\",\"2016-01-01T00:00:00\",\"2016-02-01T00:00:00\",\"2016-03-01T00:00:00\",\"2016-04-01T00:00:00\",\"2016-05-01T00:00:00\",\"2016-06-01T00:00:00\",\"2016-07-01T00:00:00\",\"2016-08-01T00:00:00\",\"2016-09-01T00:00:00\",\"2016-10-01T00:00:00\",\"2016-11-01T00:00:00\",\"2016-12-01T00:00:00\",\"2017-01-01T00:00:00\",\"2017-02-01T00:00:00\",\"2017-03-01T00:00:00\",\"2017-04-01T00:00:00\",\"2017-05-01T00:00:00\",\"2017-06-01T00:00:00\",\"2017-07-01T00:00:00\",\"2017-08-01T00:00:00\",\"2017-09-01T00:00:00\",\"2017-10-01T00:00:00\",\"2017-11-01T00:00:00\",\"2017-12-01T00:00:00\",\"2018-01-01T00:00:00\",\"2018-02-01T00:00:00\",\"2018-03-01T00:00:00\",\"2018-04-01T00:00:00\",\"2018-05-01T00:00:00\",\"2018-06-01T00:00:00\",\"2018-07-01T00:00:00\",\"2018-08-01T00:00:00\",\"2018-09-01T00:00:00\",\"2018-10-01T00:00:00\",\"2018-11-01T00:00:00\",\"2018-12-01T00:00:00\",\"2019-01-01T00:00:00\",\"2019-02-01T00:00:00\",\"2019-03-01T00:00:00\",\"2019-04-01T00:00:00\",\"2019-05-01T00:00:00\",\"2019-06-01T00:00:00\",\"2019-07-01T00:00:00\",\"2019-08-01T00:00:00\",\"2019-09-01T00:00:00\",\"2019-10-01T00:00:00\",\"2019-11-01T00:00:00\",\"2019-12-01T00:00:00\",\"2020-01-01T00:00:00\",\"2020-02-01T00:00:00\",\"2020-03-01T00:00:00\",\"2020-04-01T00:00:00\",\"2020-05-01T00:00:00\",\"2020-06-01T00:00:00\",\"2020-07-01T00:00:00\",\"2020-08-01T00:00:00\",\"2020-09-01T00:00:00\",\"2020-10-01T00:00:00\",\"2020-11-01T00:00:00\",\"2020-12-01T00:00:00\",\"2021-01-01T00:00:00\",\"2021-02-01T00:00:00\",\"2021-03-01T00:00:00\",\"2021-04-01T00:00:00\",\"2021-05-01T00:00:00\",\"2021-06-01T00:00:00\",\"2021-07-01T00:00:00\",\"2021-08-01T00:00:00\",\"2021-09-01T00:00:00\",\"2021-10-01T00:00:00\",\"2021-11-01T00:00:00\",\"2021-12-01T00:00:00\",\"2022-01-01T00:00:00\",\"2022-02-01T00:00:00\",\"2022-03-01T00:00:00\",\"2022-04-01T00:00:00\",\"2022-05-01T00:00:00\",\"2022-06-01T00:00:00\",\"2022-07-01T00:00:00\",\"2022-08-01T00:00:00\",\"2022-09-01T00:00:00\",\"2022-10-01T00:00:00\",\"2022-11-01T00:00:00\",\"2022-12-01T00:00:00\",\"2023-01-01T00:00:00\",\"2023-02-01T00:00:00\",\"2023-03-01T00:00:00\",\"2023-04-01T00:00:00\",\"2023-05-01T00:00:00\",\"2023-06-01T00:00:00\",\"2023-07-01T00:00:00\",\"2023-08-01T00:00:00\",\"2023-09-01T00:00:00\"],\"y\":[169.3,170.0,171.0,170.9,171.2,172.2,172.7,172.7,173.6,173.9,174.2,174.6,175.6,176.0,176.1,176.4,177.3,177.7,177.4,177.4,178.1,177.6,177.5,177.4,177.7,178.0,178.5,179.3,179.5,179.6,180.0,180.5,180.8,181.2,181.5,181.8,182.6,183.6,183.9,183.2,182.9,183.1,183.7,184.5,185.1,184.9,185.0,185.5,186.3,186.7,187.1,187.4,188.2,188.9,189.1,189.2,189.8,190.8,191.7,191.7,191.6,192.4,193.1,193.7,193.6,193.7,194.9,196.1,198.8,199.1,198.1,198.1,199.3,199.4,199.7,200.7,201.3,201.8,202.9,203.8,202.8,201.9,202.0,203.1,203.437,204.226,205.288,205.904,206.755,207.234,207.603,207.667,208.547,209.19,210.834,211.445,212.174,212.687,213.448,213.942,215.208,217.463,219.016,218.69,218.877,216.995,213.153,211.398,211.933,212.705,212.495,212.709,213.022,214.79,214.726,215.445,215.861,216.509,217.234,217.347,217.488,217.281,217.353,217.403,217.29,217.199,217.605,217.923,218.275,219.035,219.59,220.472,221.187,221.898,223.046,224.093,224.806,224.806,225.395,226.106,226.597,226.75,227.169,227.223,227.842,228.329,228.807,229.187,228.713,228.524,228.59,229.918,231.015,231.638,231.249,231.221,231.679,232.937,232.282,231.797,231.893,232.445,232.9,233.456,233.544,233.669,234.1,234.719,235.288,235.547,236.028,236.468,236.918,237.231,237.498,237.46,237.477,237.43,236.983,236.252,234.747,235.342,235.976,236.222,237.001,237.657,238.034,238.033,237.498,237.733,238.017,237.761,237.652,237.336,238.08,238.992,239.557,240.222,240.101,240.545,241.176,241.741,242.026,242.637,243.618,244.006,243.892,244.193,244.004,244.163,244.243,245.183,246.435,246.626,247.284,247.805,248.859,249.529,249.577,250.227,250.792,251.018,251.214,251.663,252.182,252.772,252.594,252.767,252.718,253.322,254.202,255.211,255.29,255.159,255.685,256.059,256.511,257.244,257.803,258.616,259.037,259.248,258.124,256.092,255.868,256.986,258.278,259.411,260.029,260.286,260.813,262.035,262.65,263.638,264.914,266.67,268.444,270.559,271.764,272.87,274.028,276.522,278.711,280.887,282.599,284.61,287.472,288.611,291.268,294.728,294.628,295.32,296.539,297.987,298.598,298.99,300.536,301.648,301.808,302.918,303.294,303.841,304.348,306.269,307.481],\"type\":\"scatter\"}],                        {\"template\":{\"data\":{\"barpolar\":[{\"marker\":{\"line\":{\"color\":\"#E5ECF6\",\"width\":0.5},\"pattern\":{\"fillmode\":\"overlay\",\"size\":10,\"solidity\":0.2}},\"type\":\"barpolar\"}],\"bar\":[{\"error_x\":{\"color\":\"#2a3f5f\"},\"error_y\":{\"color\":\"#2a3f5f\"},\"marker\":{\"line\":{\"color\":\"#E5ECF6\",\"width\":0.5},\"pattern\":{\"fillmode\":\"overlay\",\"size\":10,\"solidity\":0.2}},\"type\":\"bar\"}],\"carpet\":[{\"aaxis\":{\"endlinecolor\":\"#2a3f5f\",\"gridcolor\":\"white\",\"linecolor\":\"white\",\"minorgridcolor\":\"white\",\"startlinecolor\":\"#2a3f5f\"},\"baxis\":{\"endlinecolor\":\"#2a3f5f\",\"gridcolor\":\"white\",\"linecolor\":\"white\",\"minorgridcolor\":\"white\",\"startlinecolor\":\"#2a3f5f\"},\"type\":\"carpet\"}],\"choropleth\":[{\"colorbar\":{\"outlinewidth\":0,\"ticks\":\"\"},\"type\":\"choropleth\"}],\"contourcarpet\":[{\"colorbar\":{\"outlinewidth\":0,\"ticks\":\"\"},\"type\":\"contourcarpet\"}],\"contour\":[{\"colorbar\":{\"outlinewidth\":0,\"ticks\":\"\"},\"colorscale\":[[0.0,\"#0d0887\"],[0.1111111111111111,\"#46039f\"],[0.2222222222222222,\"#7201a8\"],[0.3333333333333333,\"#9c179e\"],[0.4444444444444444,\"#bd3786\"],[0.5555555555555556,\"#d8576b\"],[0.6666666666666666,\"#ed7953\"],[0.7777777777777778,\"#fb9f3a\"],[0.8888888888888888,\"#fdca26\"],[1.0,\"#f0f921\"]],\"type\":\"contour\"}],\"heatmapgl\":[{\"colorbar\":{\"outlinewidth\":0,\"ticks\":\"\"},\"colorscale\":[[0.0,\"#0d0887\"],[0.1111111111111111,\"#46039f\"],[0.2222222222222222,\"#7201a8\"],[0.3333333333333333,\"#9c179e\"],[0.4444444444444444,\"#bd3786\"],[0.5555555555555556,\"#d8576b\"],[0.6666666666666666,\"#ed7953\"],[0.7777777777777778,\"#fb9f3a\"],[0.8888888888888888,\"#fdca26\"],[1.0,\"#f0f921\"]],\"type\":\"heatmapgl\"}],\"heatmap\":[{\"colorbar\":{\"outlinewidth\":0,\"ticks\":\"\"},\"colorscale\":[[0.0,\"#0d0887\"],[0.1111111111111111,\"#46039f\"],[0.2222222222222222,\"#7201a8\"],[0.3333333333333333,\"#9c179e\"],[0.4444444444444444,\"#bd3786\"],[0.5555555555555556,\"#d8576b\"],[0.6666666666666666,\"#ed7953\"],[0.7777777777777778,\"#fb9f3a\"],[0.8888888888888888,\"#fdca26\"],[1.0,\"#f0f921\"]],\"type\":\"heatmap\"}],\"histogram2dcontour\":[{\"colorbar\":{\"outlinewidth\":0,\"ticks\":\"\"},\"colorscale\":[[0.0,\"#0d0887\"],[0.1111111111111111,\"#46039f\"],[0.2222222222222222,\"#7201a8\"],[0.3333333333333333,\"#9c179e\"],[0.4444444444444444,\"#bd3786\"],[0.5555555555555556,\"#d8576b\"],[0.6666666666666666,\"#ed7953\"],[0.7777777777777778,\"#fb9f3a\"],[0.8888888888888888,\"#fdca26\"],[1.0,\"#f0f921\"]],\"type\":\"histogram2dcontour\"}],\"histogram2d\":[{\"colorbar\":{\"outlinewidth\":0,\"ticks\":\"\"},\"colorscale\":[[0.0,\"#0d0887\"],[0.1111111111111111,\"#46039f\"],[0.2222222222222222,\"#7201a8\"],[0.3333333333333333,\"#9c179e\"],[0.4444444444444444,\"#bd3786\"],[0.5555555555555556,\"#d8576b\"],[0.6666666666666666,\"#ed7953\"],[0.7777777777777778,\"#fb9f3a\"],[0.8888888888888888,\"#fdca26\"],[1.0,\"#f0f921\"]],\"type\":\"histogram2d\"}],\"histogram\":[{\"marker\":{\"pattern\":{\"fillmode\":\"overlay\",\"size\":10,\"solidity\":0.2}},\"type\":\"histogram\"}],\"mesh3d\":[{\"colorbar\":{\"outlinewidth\":0,\"ticks\":\"\"},\"type\":\"mesh3d\"}],\"parcoords\":[{\"line\":{\"colorbar\":{\"outlinewidth\":0,\"ticks\":\"\"}},\"type\":\"parcoords\"}],\"pie\":[{\"automargin\":true,\"type\":\"pie\"}],\"scatter3d\":[{\"line\":{\"colorbar\":{\"outlinewidth\":0,\"ticks\":\"\"}},\"marker\":{\"colorbar\":{\"outlinewidth\":0,\"ticks\":\"\"}},\"type\":\"scatter3d\"}],\"scattercarpet\":[{\"marker\":{\"colorbar\":{\"outlinewidth\":0,\"ticks\":\"\"}},\"type\":\"scattercarpet\"}],\"scattergeo\":[{\"marker\":{\"colorbar\":{\"outlinewidth\":0,\"ticks\":\"\"}},\"type\":\"scattergeo\"}],\"scattergl\":[{\"marker\":{\"colorbar\":{\"outlinewidth\":0,\"ticks\":\"\"}},\"type\":\"scattergl\"}],\"scattermapbox\":[{\"marker\":{\"colorbar\":{\"outlinewidth\":0,\"ticks\":\"\"}},\"type\":\"scattermapbox\"}],\"scatterpolargl\":[{\"marker\":{\"colorbar\":{\"outlinewidth\":0,\"ticks\":\"\"}},\"type\":\"scatterpolargl\"}],\"scatterpolar\":[{\"marker\":{\"colorbar\":{\"outlinewidth\":0,\"ticks\":\"\"}},\"type\":\"scatterpolar\"}],\"scatter\":[{\"fillpattern\":{\"fillmode\":\"overlay\",\"size\":10,\"solidity\":0.2},\"type\":\"scatter\"}],\"scatterternary\":[{\"marker\":{\"colorbar\":{\"outlinewidth\":0,\"ticks\":\"\"}},\"type\":\"scatterternary\"}],\"surface\":[{\"colorbar\":{\"outlinewidth\":0,\"ticks\":\"\"},\"colorscale\":[[0.0,\"#0d0887\"],[0.1111111111111111,\"#46039f\"],[0.2222222222222222,\"#7201a8\"],[0.3333333333333333,\"#9c179e\"],[0.4444444444444444,\"#bd3786\"],[0.5555555555555556,\"#d8576b\"],[0.6666666666666666,\"#ed7953\"],[0.7777777777777778,\"#fb9f3a\"],[0.8888888888888888,\"#fdca26\"],[1.0,\"#f0f921\"]],\"type\":\"surface\"}],\"table\":[{\"cells\":{\"fill\":{\"color\":\"#EBF0F8\"},\"line\":{\"color\":\"white\"}},\"header\":{\"fill\":{\"color\":\"#C8D4E3\"},\"line\":{\"color\":\"white\"}},\"type\":\"table\"}]},\"layout\":{\"annotationdefaults\":{\"arrowcolor\":\"#2a3f5f\",\"arrowhead\":0,\"arrowwidth\":1},\"autotypenumbers\":\"strict\",\"coloraxis\":{\"colorbar\":{\"outlinewidth\":0,\"ticks\":\"\"}},\"colorscale\":{\"diverging\":[[0,\"#8e0152\"],[0.1,\"#c51b7d\"],[0.2,\"#de77ae\"],[0.3,\"#f1b6da\"],[0.4,\"#fde0ef\"],[0.5,\"#f7f7f7\"],[0.6,\"#e6f5d0\"],[0.7,\"#b8e186\"],[0.8,\"#7fbc41\"],[0.9,\"#4d9221\"],[1,\"#276419\"]],\"sequential\":[[0.0,\"#0d0887\"],[0.1111111111111111,\"#46039f\"],[0.2222222222222222,\"#7201a8\"],[0.3333333333333333,\"#9c179e\"],[0.4444444444444444,\"#bd3786\"],[0.5555555555555556,\"#d8576b\"],[0.6666666666666666,\"#ed7953\"],[0.7777777777777778,\"#fb9f3a\"],[0.8888888888888888,\"#fdca26\"],[1.0,\"#f0f921\"]],\"sequentialminus\":[[0.0,\"#0d0887\"],[0.1111111111111111,\"#46039f\"],[0.2222222222222222,\"#7201a8\"],[0.3333333333333333,\"#9c179e\"],[0.4444444444444444,\"#bd3786\"],[0.5555555555555556,\"#d8576b\"],[0.6666666666666666,\"#ed7953\"],[0.7777777777777778,\"#fb9f3a\"],[0.8888888888888888,\"#fdca26\"],[1.0,\"#f0f921\"]]},\"colorway\":[\"#636efa\",\"#EF553B\",\"#00cc96\",\"#ab63fa\",\"#FFA15A\",\"#19d3f3\",\"#FF6692\",\"#B6E880\",\"#FF97FF\",\"#FECB52\"],\"font\":{\"color\":\"#2a3f5f\"},\"geo\":{\"bgcolor\":\"white\",\"lakecolor\":\"white\",\"landcolor\":\"#E5ECF6\",\"showlakes\":true,\"showland\":true,\"subunitcolor\":\"white\"},\"hoverlabel\":{\"align\":\"left\"},\"hovermode\":\"closest\",\"mapbox\":{\"style\":\"light\"},\"paper_bgcolor\":\"white\",\"plot_bgcolor\":\"#E5ECF6\",\"polar\":{\"angularaxis\":{\"gridcolor\":\"white\",\"linecolor\":\"white\",\"ticks\":\"\"},\"bgcolor\":\"#E5ECF6\",\"radialaxis\":{\"gridcolor\":\"white\",\"linecolor\":\"white\",\"ticks\":\"\"}},\"scene\":{\"xaxis\":{\"backgroundcolor\":\"#E5ECF6\",\"gridcolor\":\"white\",\"gridwidth\":2,\"linecolor\":\"white\",\"showbackground\":true,\"ticks\":\"\",\"zerolinecolor\":\"white\"},\"yaxis\":{\"backgroundcolor\":\"#E5ECF6\",\"gridcolor\":\"white\",\"gridwidth\":2,\"linecolor\":\"white\",\"showbackground\":true,\"ticks\":\"\",\"zerolinecolor\":\"white\"},\"zaxis\":{\"backgroundcolor\":\"#E5ECF6\",\"gridcolor\":\"white\",\"gridwidth\":2,\"linecolor\":\"white\",\"showbackground\":true,\"ticks\":\"\",\"zerolinecolor\":\"white\"}},\"shapedefaults\":{\"line\":{\"color\":\"#2a3f5f\"}},\"ternary\":{\"aaxis\":{\"gridcolor\":\"white\",\"linecolor\":\"white\",\"ticks\":\"\"},\"baxis\":{\"gridcolor\":\"white\",\"linecolor\":\"white\",\"ticks\":\"\"},\"bgcolor\":\"#E5ECF6\",\"caxis\":{\"gridcolor\":\"white\",\"linecolor\":\"white\",\"ticks\":\"\"}},\"title\":{\"x\":0.05},\"xaxis\":{\"automargin\":true,\"gridcolor\":\"white\",\"linecolor\":\"white\",\"ticks\":\"\",\"title\":{\"standoff\":15},\"zerolinecolor\":\"white\",\"zerolinewidth\":2},\"yaxis\":{\"automargin\":true,\"gridcolor\":\"white\",\"linecolor\":\"white\",\"ticks\":\"\",\"title\":{\"standoff\":15},\"zerolinecolor\":\"white\",\"zerolinewidth\":2}}},\"title\":{\"text\":\"Consumer Price Index\"},\"xaxis\":{\"rangeselector\":{\"buttons\":[{\"count\":6,\"label\":\"6 months\",\"step\":\"month\",\"stepmode\":\"backward\"},{\"count\":1,\"label\":\"1 year\",\"step\":\"year\",\"stepmode\":\"backward\"},{\"count\":2,\"label\":\"2 years\",\"step\":\"year\",\"stepmode\":\"backward\"},{\"count\":5,\"label\":\"5 years\",\"step\":\"year\",\"stepmode\":\"backward\"},{\"count\":10,\"label\":\"10 years\",\"step\":\"year\",\"stepmode\":\"backward\"},{\"count\":15,\"label\":\"15 years\",\"step\":\"year\",\"stepmode\":\"backward\"},{\"step\":\"all\"}]},\"rangeslider\":{\"visible\":true},\"type\":\"date\"}},                        {\"responsive\": true}                    ).then(function(){\n",
       "                            \n",
       "var gd = document.getElementById('edee82ca-7912-40bc-b3a2-3123c09bafbb');\n",
       "var x = new MutationObserver(function (mutations, observer) {{\n",
       "        var display = window.getComputedStyle(gd).display;\n",
       "        if (!display || display === 'none') {{\n",
       "            console.log([gd, 'removed!']);\n",
       "            Plotly.purge(gd);\n",
       "            observer.disconnect();\n",
       "        }}\n",
       "}});\n",
       "\n",
       "// Listen for the removal of the full notebook cells\n",
       "var notebookContainer = gd.closest('#notebook-container');\n",
       "if (notebookContainer) {{\n",
       "    x.observe(notebookContainer, {childList: true});\n",
       "}}\n",
       "\n",
       "// Listen for the clearing of the current output cell\n",
       "var outputEl = gd.closest('.output');\n",
       "if (outputEl) {{\n",
       "    x.observe(outputEl, {childList: true});\n",
       "}}\n",
       "\n",
       "                        })                };                });            </script>        </div>"
      ]
     },
     "metadata": {},
     "output_type": "display_data"
    }
   ],
   "source": [
    "plot_line_chart(cpi_df, x='DATE', y='CPIAUCSL', title='Consumer Price Index')"
   ]
  },
  {
   "cell_type": "markdown",
   "id": "0e1f5381",
   "metadata": {
    "id": "hvDgCJ4W2yoa",
    "papermill": {
     "duration": 0.012376,
     "end_time": "2023-10-30T15:10:48.058850",
     "exception": false,
     "start_time": "2023-10-30T15:10:48.046474",
     "status": "completed"
    },
    "tags": []
   },
   "source": [
    "\n",
    "### Consumer Price Index (CPI) Effects on the US Home prices\n",
    "\n",
    "*   **Central Bank Response**: When inflation becomes a concern, central banks may respond by raising interest rates to cool down the economy and combat inflationary pressures.\n",
    "*   **Consumer Confidence**:  A lack of confidence can lead to delayed home purchases, reduced housing demand, and potentially, downward pressure on home prices.\n",
    "\n"
   ]
  },
  {
   "cell_type": "markdown",
   "id": "feccd336",
   "metadata": {
    "papermill": {
     "duration": 0.012149,
     "end_time": "2023-10-30T15:10:48.083543",
     "exception": false,
     "start_time": "2023-10-30T15:10:48.071394",
     "status": "completed"
    },
    "tags": []
   },
   "source": [
    "<a id=\"3.1\"></a>\n",
    "<h3 style=\"font-size:25px; text-align: left;background-color:royalblue; font-family:Helvetica; color: #ffffff; padding: 16px; line-height: 1; border-radius:10px; border: 3px solid #3f484b;\"> Fixed Rate Mortgage Average in the United States</h3>"
   ]
  },
  {
   "cell_type": "code",
   "execution_count": 14,
   "id": "4837d254",
   "metadata": {
    "execution": {
     "iopub.execute_input": "2023-10-30T15:10:48.111575Z",
     "iopub.status.busy": "2023-10-30T15:10:48.111136Z",
     "iopub.status.idle": "2023-10-30T15:10:48.191998Z",
     "shell.execute_reply": "2023-10-30T15:10:48.190914Z"
    },
    "id": "ban4R0HJeUeD",
    "outputId": "0fd1abba-d21d-4bda-d2f1-989b5449772b",
    "papermill": {
     "duration": 0.097483,
     "end_time": "2023-10-30T15:10:48.194154",
     "exception": false,
     "start_time": "2023-10-30T15:10:48.096671",
     "status": "completed"
    },
    "tags": []
   },
   "outputs": [
    {
     "data": {
      "text/html": [
       "<div>                            <div id=\"ec8e16f7-f067-4153-91e3-32efd011a533\" class=\"plotly-graph-div\" style=\"height:525px; width:100%;\"></div>            <script type=\"text/javascript\">                require([\"plotly\"], function(Plotly) {                    window.PLOTLYENV=window.PLOTLYENV || {};                                    if (document.getElementById(\"ec8e16f7-f067-4153-91e3-32efd011a533\")) {                    Plotly.newPlot(                        \"ec8e16f7-f067-4153-91e3-32efd011a533\",                        [{\"line\":{\"color\":\"#0047AB\",\"width\":3},\"name\":\"Fixed Rate Mortgage Average in the United States\",\"opacity\":0.8,\"x\":[\"2000-01-07T00:00:00\",\"2000-01-14T00:00:00\",\"2000-01-21T00:00:00\",\"2000-01-28T00:00:00\",\"2000-02-04T00:00:00\",\"2000-02-11T00:00:00\",\"2000-02-18T00:00:00\",\"2000-02-25T00:00:00\",\"2000-03-03T00:00:00\",\"2000-03-10T00:00:00\",\"2000-03-17T00:00:00\",\"2000-03-24T00:00:00\",\"2000-03-31T00:00:00\",\"2000-04-07T00:00:00\",\"2000-04-14T00:00:00\",\"2000-04-21T00:00:00\",\"2000-04-28T00:00:00\",\"2000-05-05T00:00:00\",\"2000-05-12T00:00:00\",\"2000-05-19T00:00:00\",\"2000-05-26T00:00:00\",\"2000-06-02T00:00:00\",\"2000-06-09T00:00:00\",\"2000-06-16T00:00:00\",\"2000-06-23T00:00:00\",\"2000-06-30T00:00:00\",\"2000-07-07T00:00:00\",\"2000-07-14T00:00:00\",\"2000-07-21T00:00:00\",\"2000-07-28T00:00:00\",\"2000-08-04T00:00:00\",\"2000-08-11T00:00:00\",\"2000-08-18T00:00:00\",\"2000-08-25T00:00:00\",\"2000-09-01T00:00:00\",\"2000-09-08T00:00:00\",\"2000-09-15T00:00:00\",\"2000-09-22T00:00:00\",\"2000-09-29T00:00:00\",\"2000-10-06T00:00:00\",\"2000-10-13T00:00:00\",\"2000-10-20T00:00:00\",\"2000-10-27T00:00:00\",\"2000-11-03T00:00:00\",\"2000-11-10T00:00:00\",\"2000-11-17T00:00:00\",\"2000-11-24T00:00:00\",\"2000-12-01T00:00:00\",\"2000-12-08T00:00:00\",\"2000-12-15T00:00:00\",\"2000-12-22T00:00:00\",\"2000-12-29T00:00:00\",\"2001-01-05T00:00:00\",\"2001-01-12T00:00:00\",\"2001-01-19T00:00:00\",\"2001-01-26T00:00:00\",\"2001-02-02T00:00:00\",\"2001-02-09T00:00:00\",\"2001-02-16T00:00:00\",\"2001-02-23T00:00:00\",\"2001-03-02T00:00:00\",\"2001-03-09T00:00:00\",\"2001-03-16T00:00:00\",\"2001-03-23T00:00:00\",\"2001-03-30T00:00:00\",\"2001-04-06T00:00:00\",\"2001-04-13T00:00:00\",\"2001-04-20T00:00:00\",\"2001-04-27T00:00:00\",\"2001-05-04T00:00:00\",\"2001-05-11T00:00:00\",\"2001-05-18T00:00:00\",\"2001-05-25T00:00:00\",\"2001-06-01T00:00:00\",\"2001-06-08T00:00:00\",\"2001-06-15T00:00:00\",\"2001-06-22T00:00:00\",\"2001-06-29T00:00:00\",\"2001-07-06T00:00:00\",\"2001-07-13T00:00:00\",\"2001-07-20T00:00:00\",\"2001-07-27T00:00:00\",\"2001-08-03T00:00:00\",\"2001-08-10T00:00:00\",\"2001-08-17T00:00:00\",\"2001-08-24T00:00:00\",\"2001-08-31T00:00:00\",\"2001-09-07T00:00:00\",\"2001-09-14T00:00:00\",\"2001-09-21T00:00:00\",\"2001-09-28T00:00:00\",\"2001-10-05T00:00:00\",\"2001-10-12T00:00:00\",\"2001-10-19T00:00:00\",\"2001-10-26T00:00:00\",\"2001-11-02T00:00:00\",\"2001-11-09T00:00:00\",\"2001-11-16T00:00:00\",\"2001-11-23T00:00:00\",\"2001-11-30T00:00:00\",\"2001-12-07T00:00:00\",\"2001-12-14T00:00:00\",\"2001-12-21T00:00:00\",\"2001-12-28T00:00:00\",\"2002-01-04T00:00:00\",\"2002-01-11T00:00:00\",\"2002-01-18T00:00:00\",\"2002-01-25T00:00:00\",\"2002-02-01T00:00:00\",\"2002-02-08T00:00:00\",\"2002-02-15T00:00:00\",\"2002-02-22T00:00:00\",\"2002-03-01T00:00:00\",\"2002-03-08T00:00:00\",\"2002-03-15T00:00:00\",\"2002-03-22T00:00:00\",\"2002-03-29T00:00:00\",\"2002-04-05T00:00:00\",\"2002-04-12T00:00:00\",\"2002-04-19T00:00:00\",\"2002-04-26T00:00:00\",\"2002-05-03T00:00:00\",\"2002-05-10T00:00:00\",\"2002-05-17T00:00:00\",\"2002-05-24T00:00:00\",\"2002-05-31T00:00:00\",\"2002-06-07T00:00:00\",\"2002-06-14T00:00:00\",\"2002-06-21T00:00:00\",\"2002-06-28T00:00:00\",\"2002-07-05T00:00:00\",\"2002-07-12T00:00:00\",\"2002-07-19T00:00:00\",\"2002-07-26T00:00:00\",\"2002-08-02T00:00:00\",\"2002-08-09T00:00:00\",\"2002-08-16T00:00:00\",\"2002-08-23T00:00:00\",\"2002-08-30T00:00:00\",\"2002-09-06T00:00:00\",\"2002-09-13T00:00:00\",\"2002-09-20T00:00:00\",\"2002-09-27T00:00:00\",\"2002-10-04T00:00:00\",\"2002-10-11T00:00:00\",\"2002-10-18T00:00:00\",\"2002-10-25T00:00:00\",\"2002-11-01T00:00:00\",\"2002-11-08T00:00:00\",\"2002-11-15T00:00:00\",\"2002-11-22T00:00:00\",\"2002-11-29T00:00:00\",\"2002-12-06T00:00:00\",\"2002-12-13T00:00:00\",\"2002-12-20T00:00:00\",\"2002-12-27T00:00:00\",\"2003-01-03T00:00:00\",\"2003-01-10T00:00:00\",\"2003-01-17T00:00:00\",\"2003-01-24T00:00:00\",\"2003-01-31T00:00:00\",\"2003-02-07T00:00:00\",\"2003-02-14T00:00:00\",\"2003-02-21T00:00:00\",\"2003-02-28T00:00:00\",\"2003-03-07T00:00:00\",\"2003-03-14T00:00:00\",\"2003-03-21T00:00:00\",\"2003-03-28T00:00:00\",\"2003-04-04T00:00:00\",\"2003-04-11T00:00:00\",\"2003-04-18T00:00:00\",\"2003-04-25T00:00:00\",\"2003-05-02T00:00:00\",\"2003-05-09T00:00:00\",\"2003-05-16T00:00:00\",\"2003-05-23T00:00:00\",\"2003-05-30T00:00:00\",\"2003-06-06T00:00:00\",\"2003-06-13T00:00:00\",\"2003-06-20T00:00:00\",\"2003-06-27T00:00:00\",\"2003-07-04T00:00:00\",\"2003-07-11T00:00:00\",\"2003-07-18T00:00:00\",\"2003-07-25T00:00:00\",\"2003-08-01T00:00:00\",\"2003-08-08T00:00:00\",\"2003-08-15T00:00:00\",\"2003-08-22T00:00:00\",\"2003-08-29T00:00:00\",\"2003-09-05T00:00:00\",\"2003-09-12T00:00:00\",\"2003-09-19T00:00:00\",\"2003-09-26T00:00:00\",\"2003-10-03T00:00:00\",\"2003-10-10T00:00:00\",\"2003-10-17T00:00:00\",\"2003-10-24T00:00:00\",\"2003-10-31T00:00:00\",\"2003-11-07T00:00:00\",\"2003-11-14T00:00:00\",\"2003-11-21T00:00:00\",\"2003-11-28T00:00:00\",\"2003-12-05T00:00:00\",\"2003-12-12T00:00:00\",\"2003-12-19T00:00:00\",\"2003-12-26T00:00:00\",\"2003-12-31T00:00:00\",\"2004-01-08T00:00:00\",\"2004-01-15T00:00:00\",\"2004-01-22T00:00:00\",\"2004-01-29T00:00:00\",\"2004-02-05T00:00:00\",\"2004-02-12T00:00:00\",\"2004-02-19T00:00:00\",\"2004-02-26T00:00:00\",\"2004-03-04T00:00:00\",\"2004-03-11T00:00:00\",\"2004-03-18T00:00:00\",\"2004-03-25T00:00:00\",\"2004-04-01T00:00:00\",\"2004-04-08T00:00:00\",\"2004-04-15T00:00:00\",\"2004-04-22T00:00:00\",\"2004-04-29T00:00:00\",\"2004-05-06T00:00:00\",\"2004-05-13T00:00:00\",\"2004-05-20T00:00:00\",\"2004-05-27T00:00:00\",\"2004-06-03T00:00:00\",\"2004-06-10T00:00:00\",\"2004-06-17T00:00:00\",\"2004-06-24T00:00:00\",\"2004-07-01T00:00:00\",\"2004-07-08T00:00:00\",\"2004-07-15T00:00:00\",\"2004-07-22T00:00:00\",\"2004-07-29T00:00:00\",\"2004-08-05T00:00:00\",\"2004-08-12T00:00:00\",\"2004-08-19T00:00:00\",\"2004-08-26T00:00:00\",\"2004-09-02T00:00:00\",\"2004-09-09T00:00:00\",\"2004-09-16T00:00:00\",\"2004-09-23T00:00:00\",\"2004-09-30T00:00:00\",\"2004-10-07T00:00:00\",\"2004-10-14T00:00:00\",\"2004-10-21T00:00:00\",\"2004-10-28T00:00:00\",\"2004-11-04T00:00:00\",\"2004-11-11T00:00:00\",\"2004-11-18T00:00:00\",\"2004-11-24T00:00:00\",\"2004-12-02T00:00:00\",\"2004-12-09T00:00:00\",\"2004-12-16T00:00:00\",\"2004-12-22T00:00:00\",\"2004-12-29T00:00:00\",\"2005-01-06T00:00:00\",\"2005-01-13T00:00:00\",\"2005-01-20T00:00:00\",\"2005-01-27T00:00:00\",\"2005-02-03T00:00:00\",\"2005-02-10T00:00:00\",\"2005-02-17T00:00:00\",\"2005-02-24T00:00:00\",\"2005-03-03T00:00:00\",\"2005-03-10T00:00:00\",\"2005-03-17T00:00:00\",\"2005-03-24T00:00:00\",\"2005-03-31T00:00:00\",\"2005-04-07T00:00:00\",\"2005-04-14T00:00:00\",\"2005-04-21T00:00:00\",\"2005-04-28T00:00:00\",\"2005-05-05T00:00:00\",\"2005-05-12T00:00:00\",\"2005-05-19T00:00:00\",\"2005-05-26T00:00:00\",\"2005-06-02T00:00:00\",\"2005-06-09T00:00:00\",\"2005-06-16T00:00:00\",\"2005-06-23T00:00:00\",\"2005-06-30T00:00:00\",\"2005-07-07T00:00:00\",\"2005-07-14T00:00:00\",\"2005-07-21T00:00:00\",\"2005-07-28T00:00:00\",\"2005-08-04T00:00:00\",\"2005-08-11T00:00:00\",\"2005-08-18T00:00:00\",\"2005-08-25T00:00:00\",\"2005-09-01T00:00:00\",\"2005-09-08T00:00:00\",\"2005-09-15T00:00:00\",\"2005-09-22T00:00:00\",\"2005-09-29T00:00:00\",\"2005-10-06T00:00:00\",\"2005-10-13T00:00:00\",\"2005-10-20T00:00:00\",\"2005-10-27T00:00:00\",\"2005-11-03T00:00:00\",\"2005-11-10T00:00:00\",\"2005-11-17T00:00:00\",\"2005-11-23T00:00:00\",\"2005-12-01T00:00:00\",\"2005-12-08T00:00:00\",\"2005-12-15T00:00:00\",\"2005-12-22T00:00:00\",\"2005-12-29T00:00:00\",\"2006-01-05T00:00:00\",\"2006-01-12T00:00:00\",\"2006-01-19T00:00:00\",\"2006-01-26T00:00:00\",\"2006-02-02T00:00:00\",\"2006-02-09T00:00:00\",\"2006-02-16T00:00:00\",\"2006-02-23T00:00:00\",\"2006-03-02T00:00:00\",\"2006-03-09T00:00:00\",\"2006-03-16T00:00:00\",\"2006-03-23T00:00:00\",\"2006-03-30T00:00:00\",\"2006-04-06T00:00:00\",\"2006-04-13T00:00:00\",\"2006-04-20T00:00:00\",\"2006-04-27T00:00:00\",\"2006-05-04T00:00:00\",\"2006-05-11T00:00:00\",\"2006-05-18T00:00:00\",\"2006-05-25T00:00:00\",\"2006-06-01T00:00:00\",\"2006-06-08T00:00:00\",\"2006-06-15T00:00:00\",\"2006-06-22T00:00:00\",\"2006-06-29T00:00:00\",\"2006-07-06T00:00:00\",\"2006-07-13T00:00:00\",\"2006-07-20T00:00:00\",\"2006-07-27T00:00:00\",\"2006-08-03T00:00:00\",\"2006-08-10T00:00:00\",\"2006-08-17T00:00:00\",\"2006-08-24T00:00:00\",\"2006-08-31T00:00:00\",\"2006-09-07T00:00:00\",\"2006-09-14T00:00:00\",\"2006-09-21T00:00:00\",\"2006-09-28T00:00:00\",\"2006-10-05T00:00:00\",\"2006-10-12T00:00:00\",\"2006-10-19T00:00:00\",\"2006-10-26T00:00:00\",\"2006-11-02T00:00:00\",\"2006-11-09T00:00:00\",\"2006-11-16T00:00:00\",\"2006-11-22T00:00:00\",\"2006-11-30T00:00:00\",\"2006-12-07T00:00:00\",\"2006-12-14T00:00:00\",\"2006-12-21T00:00:00\",\"2006-12-28T00:00:00\",\"2007-01-04T00:00:00\",\"2007-01-11T00:00:00\",\"2007-01-18T00:00:00\",\"2007-01-25T00:00:00\",\"2007-02-01T00:00:00\",\"2007-02-08T00:00:00\",\"2007-02-15T00:00:00\",\"2007-02-22T00:00:00\",\"2007-03-01T00:00:00\",\"2007-03-08T00:00:00\",\"2007-03-15T00:00:00\",\"2007-03-22T00:00:00\",\"2007-03-29T00:00:00\",\"2007-04-05T00:00:00\",\"2007-04-12T00:00:00\",\"2007-04-19T00:00:00\",\"2007-04-26T00:00:00\",\"2007-05-03T00:00:00\",\"2007-05-10T00:00:00\",\"2007-05-17T00:00:00\",\"2007-05-24T00:00:00\",\"2007-05-31T00:00:00\",\"2007-06-07T00:00:00\",\"2007-06-14T00:00:00\",\"2007-06-21T00:00:00\",\"2007-06-28T00:00:00\",\"2007-07-05T00:00:00\",\"2007-07-12T00:00:00\",\"2007-07-19T00:00:00\",\"2007-07-26T00:00:00\",\"2007-08-02T00:00:00\",\"2007-08-09T00:00:00\",\"2007-08-16T00:00:00\",\"2007-08-23T00:00:00\",\"2007-08-30T00:00:00\",\"2007-09-06T00:00:00\",\"2007-09-13T00:00:00\",\"2007-09-20T00:00:00\",\"2007-09-27T00:00:00\",\"2007-10-04T00:00:00\",\"2007-10-11T00:00:00\",\"2007-10-18T00:00:00\",\"2007-10-25T00:00:00\",\"2007-11-01T00:00:00\",\"2007-11-08T00:00:00\",\"2007-11-15T00:00:00\",\"2007-11-21T00:00:00\",\"2007-11-29T00:00:00\",\"2007-12-06T00:00:00\",\"2007-12-13T00:00:00\",\"2007-12-20T00:00:00\",\"2007-12-27T00:00:00\",\"2008-01-03T00:00:00\",\"2008-01-10T00:00:00\",\"2008-01-17T00:00:00\",\"2008-01-24T00:00:00\",\"2008-01-31T00:00:00\",\"2008-02-07T00:00:00\",\"2008-02-14T00:00:00\",\"2008-02-21T00:00:00\",\"2008-02-28T00:00:00\",\"2008-03-06T00:00:00\",\"2008-03-13T00:00:00\",\"2008-03-20T00:00:00\",\"2008-03-27T00:00:00\",\"2008-04-03T00:00:00\",\"2008-04-10T00:00:00\",\"2008-04-17T00:00:00\",\"2008-04-24T00:00:00\",\"2008-05-01T00:00:00\",\"2008-05-08T00:00:00\",\"2008-05-15T00:00:00\",\"2008-05-22T00:00:00\",\"2008-05-29T00:00:00\",\"2008-06-05T00:00:00\",\"2008-06-12T00:00:00\",\"2008-06-19T00:00:00\",\"2008-06-26T00:00:00\",\"2008-07-03T00:00:00\",\"2008-07-10T00:00:00\",\"2008-07-17T00:00:00\",\"2008-07-24T00:00:00\",\"2008-07-31T00:00:00\",\"2008-08-07T00:00:00\",\"2008-08-14T00:00:00\",\"2008-08-21T00:00:00\",\"2008-08-28T00:00:00\",\"2008-09-04T00:00:00\",\"2008-09-11T00:00:00\",\"2008-09-18T00:00:00\",\"2008-09-25T00:00:00\",\"2008-10-02T00:00:00\",\"2008-10-09T00:00:00\",\"2008-10-16T00:00:00\",\"2008-10-23T00:00:00\",\"2008-10-30T00:00:00\",\"2008-11-06T00:00:00\",\"2008-11-13T00:00:00\",\"2008-11-20T00:00:00\",\"2008-11-26T00:00:00\",\"2008-12-04T00:00:00\",\"2008-12-11T00:00:00\",\"2008-12-18T00:00:00\",\"2008-12-24T00:00:00\",\"2008-12-31T00:00:00\",\"2009-01-08T00:00:00\",\"2009-01-15T00:00:00\",\"2009-01-22T00:00:00\",\"2009-01-29T00:00:00\",\"2009-02-05T00:00:00\",\"2009-02-12T00:00:00\",\"2009-02-19T00:00:00\",\"2009-02-26T00:00:00\",\"2009-03-05T00:00:00\",\"2009-03-12T00:00:00\",\"2009-03-19T00:00:00\",\"2009-03-26T00:00:00\",\"2009-04-02T00:00:00\",\"2009-04-09T00:00:00\",\"2009-04-16T00:00:00\",\"2009-04-23T00:00:00\",\"2009-04-30T00:00:00\",\"2009-05-07T00:00:00\",\"2009-05-14T00:00:00\",\"2009-05-21T00:00:00\",\"2009-05-28T00:00:00\",\"2009-06-04T00:00:00\",\"2009-06-11T00:00:00\",\"2009-06-18T00:00:00\",\"2009-06-25T00:00:00\",\"2009-07-02T00:00:00\",\"2009-07-09T00:00:00\",\"2009-07-16T00:00:00\",\"2009-07-23T00:00:00\",\"2009-07-30T00:00:00\",\"2009-08-06T00:00:00\",\"2009-08-13T00:00:00\",\"2009-08-20T00:00:00\",\"2009-08-27T00:00:00\",\"2009-09-03T00:00:00\",\"2009-09-10T00:00:00\",\"2009-09-17T00:00:00\",\"2009-09-24T00:00:00\",\"2009-10-01T00:00:00\",\"2009-10-08T00:00:00\",\"2009-10-15T00:00:00\",\"2009-10-22T00:00:00\",\"2009-10-29T00:00:00\",\"2009-11-05T00:00:00\",\"2009-11-12T00:00:00\",\"2009-11-19T00:00:00\",\"2009-11-25T00:00:00\",\"2009-12-03T00:00:00\",\"2009-12-10T00:00:00\",\"2009-12-17T00:00:00\",\"2009-12-24T00:00:00\",\"2009-12-31T00:00:00\",\"2010-01-07T00:00:00\",\"2010-01-14T00:00:00\",\"2010-01-21T00:00:00\",\"2010-01-28T00:00:00\",\"2010-02-04T00:00:00\",\"2010-02-11T00:00:00\",\"2010-02-18T00:00:00\",\"2010-02-25T00:00:00\",\"2010-03-04T00:00:00\",\"2010-03-11T00:00:00\",\"2010-03-18T00:00:00\",\"2010-03-25T00:00:00\",\"2010-04-01T00:00:00\",\"2010-04-08T00:00:00\",\"2010-04-15T00:00:00\",\"2010-04-22T00:00:00\",\"2010-04-29T00:00:00\",\"2010-05-06T00:00:00\",\"2010-05-13T00:00:00\",\"2010-05-20T00:00:00\",\"2010-05-27T00:00:00\",\"2010-06-03T00:00:00\",\"2010-06-10T00:00:00\",\"2010-06-17T00:00:00\",\"2010-06-24T00:00:00\",\"2010-07-01T00:00:00\",\"2010-07-08T00:00:00\",\"2010-07-15T00:00:00\",\"2010-07-22T00:00:00\",\"2010-07-29T00:00:00\",\"2010-08-05T00:00:00\",\"2010-08-12T00:00:00\",\"2010-08-19T00:00:00\",\"2010-08-26T00:00:00\",\"2010-09-02T00:00:00\",\"2010-09-09T00:00:00\",\"2010-09-16T00:00:00\",\"2010-09-23T00:00:00\",\"2010-09-30T00:00:00\",\"2010-10-07T00:00:00\",\"2010-10-14T00:00:00\",\"2010-10-21T00:00:00\",\"2010-10-28T00:00:00\",\"2010-11-04T00:00:00\",\"2010-11-11T00:00:00\",\"2010-11-18T00:00:00\",\"2010-11-24T00:00:00\",\"2010-12-02T00:00:00\",\"2010-12-09T00:00:00\",\"2010-12-16T00:00:00\",\"2010-12-23T00:00:00\",\"2010-12-30T00:00:00\",\"2011-01-06T00:00:00\",\"2011-01-13T00:00:00\",\"2011-01-20T00:00:00\",\"2011-01-27T00:00:00\",\"2011-02-03T00:00:00\",\"2011-02-10T00:00:00\",\"2011-02-17T00:00:00\",\"2011-02-24T00:00:00\",\"2011-03-03T00:00:00\",\"2011-03-10T00:00:00\",\"2011-03-17T00:00:00\",\"2011-03-24T00:00:00\",\"2011-03-31T00:00:00\",\"2011-04-07T00:00:00\",\"2011-04-14T00:00:00\",\"2011-04-21T00:00:00\",\"2011-04-28T00:00:00\",\"2011-05-05T00:00:00\",\"2011-05-12T00:00:00\",\"2011-05-19T00:00:00\",\"2011-05-26T00:00:00\",\"2011-06-02T00:00:00\",\"2011-06-09T00:00:00\",\"2011-06-16T00:00:00\",\"2011-06-23T00:00:00\",\"2011-06-30T00:00:00\",\"2011-07-07T00:00:00\",\"2011-07-14T00:00:00\",\"2011-07-21T00:00:00\",\"2011-07-28T00:00:00\",\"2011-08-04T00:00:00\",\"2011-08-11T00:00:00\",\"2011-08-18T00:00:00\",\"2011-08-25T00:00:00\",\"2011-09-01T00:00:00\",\"2011-09-08T00:00:00\",\"2011-09-15T00:00:00\",\"2011-09-22T00:00:00\",\"2011-09-29T00:00:00\",\"2011-10-06T00:00:00\",\"2011-10-13T00:00:00\",\"2011-10-20T00:00:00\",\"2011-10-27T00:00:00\",\"2011-11-03T00:00:00\",\"2011-11-10T00:00:00\",\"2011-11-17T00:00:00\",\"2011-11-23T00:00:00\",\"2011-12-01T00:00:00\",\"2011-12-08T00:00:00\",\"2011-12-15T00:00:00\",\"2011-12-22T00:00:00\",\"2011-12-29T00:00:00\",\"2012-01-05T00:00:00\",\"2012-01-12T00:00:00\",\"2012-01-19T00:00:00\",\"2012-01-26T00:00:00\",\"2012-02-02T00:00:00\",\"2012-02-09T00:00:00\",\"2012-02-16T00:00:00\",\"2012-02-23T00:00:00\",\"2012-03-01T00:00:00\",\"2012-03-08T00:00:00\",\"2012-03-15T00:00:00\",\"2012-03-22T00:00:00\",\"2012-03-29T00:00:00\",\"2012-04-05T00:00:00\",\"2012-04-12T00:00:00\",\"2012-04-19T00:00:00\",\"2012-04-26T00:00:00\",\"2012-05-03T00:00:00\",\"2012-05-10T00:00:00\",\"2012-05-17T00:00:00\",\"2012-05-24T00:00:00\",\"2012-05-31T00:00:00\",\"2012-06-07T00:00:00\",\"2012-06-14T00:00:00\",\"2012-06-21T00:00:00\",\"2012-06-28T00:00:00\",\"2012-07-05T00:00:00\",\"2012-07-12T00:00:00\",\"2012-07-19T00:00:00\",\"2012-07-26T00:00:00\",\"2012-08-02T00:00:00\",\"2012-08-09T00:00:00\",\"2012-08-16T00:00:00\",\"2012-08-23T00:00:00\",\"2012-08-30T00:00:00\",\"2012-09-06T00:00:00\",\"2012-09-13T00:00:00\",\"2012-09-20T00:00:00\",\"2012-09-27T00:00:00\",\"2012-10-04T00:00:00\",\"2012-10-11T00:00:00\",\"2012-10-18T00:00:00\",\"2012-10-25T00:00:00\",\"2012-11-01T00:00:00\",\"2012-11-08T00:00:00\",\"2012-11-15T00:00:00\",\"2012-11-21T00:00:00\",\"2012-11-29T00:00:00\",\"2012-12-06T00:00:00\",\"2012-12-13T00:00:00\",\"2012-12-20T00:00:00\",\"2012-12-27T00:00:00\",\"2013-01-03T00:00:00\",\"2013-01-10T00:00:00\",\"2013-01-17T00:00:00\",\"2013-01-24T00:00:00\",\"2013-01-31T00:00:00\",\"2013-02-07T00:00:00\",\"2013-02-14T00:00:00\",\"2013-02-21T00:00:00\",\"2013-02-28T00:00:00\",\"2013-03-07T00:00:00\",\"2013-03-14T00:00:00\",\"2013-03-21T00:00:00\",\"2013-03-28T00:00:00\",\"2013-04-04T00:00:00\",\"2013-04-11T00:00:00\",\"2013-04-18T00:00:00\",\"2013-04-25T00:00:00\",\"2013-05-02T00:00:00\",\"2013-05-09T00:00:00\",\"2013-05-16T00:00:00\",\"2013-05-23T00:00:00\",\"2013-05-30T00:00:00\",\"2013-06-06T00:00:00\",\"2013-06-13T00:00:00\",\"2013-06-20T00:00:00\",\"2013-06-27T00:00:00\",\"2013-07-03T00:00:00\",\"2013-07-11T00:00:00\",\"2013-07-18T00:00:00\",\"2013-07-25T00:00:00\",\"2013-08-01T00:00:00\",\"2013-08-08T00:00:00\",\"2013-08-15T00:00:00\",\"2013-08-22T00:00:00\",\"2013-08-29T00:00:00\",\"2013-09-05T00:00:00\",\"2013-09-12T00:00:00\",\"2013-09-19T00:00:00\",\"2013-09-26T00:00:00\",\"2013-10-03T00:00:00\",\"2013-10-10T00:00:00\",\"2013-10-17T00:00:00\",\"2013-10-24T00:00:00\",\"2013-10-31T00:00:00\",\"2013-11-07T00:00:00\",\"2013-11-14T00:00:00\",\"2013-11-21T00:00:00\",\"2013-11-27T00:00:00\",\"2013-12-05T00:00:00\",\"2013-12-12T00:00:00\",\"2013-12-19T00:00:00\",\"2013-12-26T00:00:00\",\"2014-01-02T00:00:00\",\"2014-01-09T00:00:00\",\"2014-01-16T00:00:00\",\"2014-01-23T00:00:00\",\"2014-01-30T00:00:00\",\"2014-02-06T00:00:00\",\"2014-02-13T00:00:00\",\"2014-02-20T00:00:00\",\"2014-02-27T00:00:00\",\"2014-03-06T00:00:00\",\"2014-03-13T00:00:00\",\"2014-03-20T00:00:00\",\"2014-03-27T00:00:00\",\"2014-04-03T00:00:00\",\"2014-04-10T00:00:00\",\"2014-04-17T00:00:00\",\"2014-04-24T00:00:00\",\"2014-05-01T00:00:00\",\"2014-05-08T00:00:00\",\"2014-05-15T00:00:00\",\"2014-05-22T00:00:00\",\"2014-05-29T00:00:00\",\"2014-06-05T00:00:00\",\"2014-06-12T00:00:00\",\"2014-06-19T00:00:00\",\"2014-06-26T00:00:00\",\"2014-07-03T00:00:00\",\"2014-07-10T00:00:00\",\"2014-07-17T00:00:00\",\"2014-07-24T00:00:00\",\"2014-07-31T00:00:00\",\"2014-08-07T00:00:00\",\"2014-08-14T00:00:00\",\"2014-08-21T00:00:00\",\"2014-08-28T00:00:00\",\"2014-09-04T00:00:00\",\"2014-09-11T00:00:00\",\"2014-09-18T00:00:00\",\"2014-09-25T00:00:00\",\"2014-10-02T00:00:00\",\"2014-10-09T00:00:00\",\"2014-10-16T00:00:00\",\"2014-10-23T00:00:00\",\"2014-10-30T00:00:00\",\"2014-11-06T00:00:00\",\"2014-11-13T00:00:00\",\"2014-11-20T00:00:00\",\"2014-11-26T00:00:00\",\"2014-12-04T00:00:00\",\"2014-12-11T00:00:00\",\"2014-12-18T00:00:00\",\"2014-12-24T00:00:00\",\"2014-12-31T00:00:00\",\"2015-01-08T00:00:00\",\"2015-01-15T00:00:00\",\"2015-01-22T00:00:00\",\"2015-01-29T00:00:00\",\"2015-02-05T00:00:00\",\"2015-02-12T00:00:00\",\"2015-02-19T00:00:00\",\"2015-02-26T00:00:00\",\"2015-03-05T00:00:00\",\"2015-03-12T00:00:00\",\"2015-03-19T00:00:00\",\"2015-03-26T00:00:00\",\"2015-04-02T00:00:00\",\"2015-04-09T00:00:00\",\"2015-04-16T00:00:00\",\"2015-04-23T00:00:00\",\"2015-04-30T00:00:00\",\"2015-05-07T00:00:00\",\"2015-05-14T00:00:00\",\"2015-05-21T00:00:00\",\"2015-05-28T00:00:00\",\"2015-06-04T00:00:00\",\"2015-06-11T00:00:00\",\"2015-06-18T00:00:00\",\"2015-06-25T00:00:00\",\"2015-07-02T00:00:00\",\"2015-07-09T00:00:00\",\"2015-07-16T00:00:00\",\"2015-07-23T00:00:00\",\"2015-07-30T00:00:00\",\"2015-08-06T00:00:00\",\"2015-08-13T00:00:00\",\"2015-08-20T00:00:00\",\"2015-08-27T00:00:00\",\"2015-09-03T00:00:00\",\"2015-09-10T00:00:00\",\"2015-09-17T00:00:00\",\"2015-09-24T00:00:00\",\"2015-10-01T00:00:00\",\"2015-10-08T00:00:00\",\"2015-10-15T00:00:00\",\"2015-10-22T00:00:00\",\"2015-10-29T00:00:00\",\"2015-11-05T00:00:00\",\"2015-11-12T00:00:00\",\"2015-11-19T00:00:00\",\"2015-11-25T00:00:00\",\"2015-12-03T00:00:00\",\"2015-12-10T00:00:00\",\"2015-12-17T00:00:00\",\"2015-12-24T00:00:00\",\"2015-12-31T00:00:00\",\"2016-01-07T00:00:00\",\"2016-01-14T00:00:00\",\"2016-01-21T00:00:00\",\"2016-01-28T00:00:00\",\"2016-02-04T00:00:00\",\"2016-02-11T00:00:00\",\"2016-02-18T00:00:00\",\"2016-02-25T00:00:00\",\"2016-03-03T00:00:00\",\"2016-03-10T00:00:00\",\"2016-03-17T00:00:00\",\"2016-03-24T00:00:00\",\"2016-03-31T00:00:00\",\"2016-04-07T00:00:00\",\"2016-04-14T00:00:00\",\"2016-04-21T00:00:00\",\"2016-04-28T00:00:00\",\"2016-05-05T00:00:00\",\"2016-05-12T00:00:00\",\"2016-05-19T00:00:00\",\"2016-05-26T00:00:00\",\"2016-06-02T00:00:00\",\"2016-06-09T00:00:00\",\"2016-06-16T00:00:00\",\"2016-06-23T00:00:00\",\"2016-06-30T00:00:00\",\"2016-07-07T00:00:00\",\"2016-07-14T00:00:00\",\"2016-07-21T00:00:00\",\"2016-07-28T00:00:00\",\"2016-08-04T00:00:00\",\"2016-08-11T00:00:00\",\"2016-08-18T00:00:00\",\"2016-08-25T00:00:00\",\"2016-09-01T00:00:00\",\"2016-09-08T00:00:00\",\"2016-09-15T00:00:00\",\"2016-09-22T00:00:00\",\"2016-09-29T00:00:00\",\"2016-10-06T00:00:00\",\"2016-10-13T00:00:00\",\"2016-10-20T00:00:00\",\"2016-10-27T00:00:00\",\"2016-11-03T00:00:00\",\"2016-11-10T00:00:00\",\"2016-11-17T00:00:00\",\"2016-11-23T00:00:00\",\"2016-12-01T00:00:00\",\"2016-12-08T00:00:00\",\"2016-12-15T00:00:00\",\"2016-12-22T00:00:00\",\"2016-12-29T00:00:00\",\"2017-01-05T00:00:00\",\"2017-01-12T00:00:00\",\"2017-01-19T00:00:00\",\"2017-01-26T00:00:00\",\"2017-02-02T00:00:00\",\"2017-02-09T00:00:00\",\"2017-02-16T00:00:00\",\"2017-02-23T00:00:00\",\"2017-03-02T00:00:00\",\"2017-03-09T00:00:00\",\"2017-03-16T00:00:00\",\"2017-03-23T00:00:00\",\"2017-03-30T00:00:00\",\"2017-04-06T00:00:00\",\"2017-04-13T00:00:00\",\"2017-04-20T00:00:00\",\"2017-04-27T00:00:00\",\"2017-05-04T00:00:00\",\"2017-05-11T00:00:00\",\"2017-05-18T00:00:00\",\"2017-05-25T00:00:00\",\"2017-06-01T00:00:00\",\"2017-06-08T00:00:00\",\"2017-06-15T00:00:00\",\"2017-06-22T00:00:00\",\"2017-06-29T00:00:00\",\"2017-07-06T00:00:00\",\"2017-07-13T00:00:00\",\"2017-07-20T00:00:00\",\"2017-07-27T00:00:00\",\"2017-08-03T00:00:00\",\"2017-08-10T00:00:00\",\"2017-08-17T00:00:00\",\"2017-08-24T00:00:00\",\"2017-08-31T00:00:00\",\"2017-09-07T00:00:00\",\"2017-09-14T00:00:00\",\"2017-09-21T00:00:00\",\"2017-09-28T00:00:00\",\"2017-10-05T00:00:00\",\"2017-10-12T00:00:00\",\"2017-10-19T00:00:00\",\"2017-10-26T00:00:00\",\"2017-11-02T00:00:00\",\"2017-11-09T00:00:00\",\"2017-11-16T00:00:00\",\"2017-11-22T00:00:00\",\"2017-11-30T00:00:00\",\"2017-12-07T00:00:00\",\"2017-12-14T00:00:00\",\"2017-12-21T00:00:00\",\"2017-12-28T00:00:00\",\"2018-01-04T00:00:00\",\"2018-01-11T00:00:00\",\"2018-01-18T00:00:00\",\"2018-01-25T00:00:00\",\"2018-02-01T00:00:00\",\"2018-02-08T00:00:00\",\"2018-02-15T00:00:00\",\"2018-02-22T00:00:00\",\"2018-03-01T00:00:00\",\"2018-03-08T00:00:00\",\"2018-03-15T00:00:00\",\"2018-03-22T00:00:00\",\"2018-03-29T00:00:00\",\"2018-04-05T00:00:00\",\"2018-04-12T00:00:00\",\"2018-04-19T00:00:00\",\"2018-04-26T00:00:00\",\"2018-05-03T00:00:00\",\"2018-05-10T00:00:00\",\"2018-05-17T00:00:00\",\"2018-05-24T00:00:00\",\"2018-05-31T00:00:00\",\"2018-06-07T00:00:00\",\"2018-06-14T00:00:00\",\"2018-06-21T00:00:00\",\"2018-06-28T00:00:00\",\"2018-07-05T00:00:00\",\"2018-07-12T00:00:00\",\"2018-07-19T00:00:00\",\"2018-07-26T00:00:00\",\"2018-08-02T00:00:00\",\"2018-08-09T00:00:00\",\"2018-08-16T00:00:00\",\"2018-08-23T00:00:00\",\"2018-08-30T00:00:00\",\"2018-09-06T00:00:00\",\"2018-09-13T00:00:00\",\"2018-09-20T00:00:00\",\"2018-09-27T00:00:00\",\"2018-10-04T00:00:00\",\"2018-10-11T00:00:00\",\"2018-10-18T00:00:00\",\"2018-10-25T00:00:00\",\"2018-11-01T00:00:00\",\"2018-11-08T00:00:00\",\"2018-11-15T00:00:00\",\"2018-11-21T00:00:00\",\"2018-11-29T00:00:00\",\"2018-12-06T00:00:00\",\"2018-12-13T00:00:00\",\"2018-12-20T00:00:00\",\"2018-12-27T00:00:00\",\"2019-01-03T00:00:00\",\"2019-01-10T00:00:00\",\"2019-01-17T00:00:00\",\"2019-01-24T00:00:00\",\"2019-01-31T00:00:00\",\"2019-02-07T00:00:00\",\"2019-02-14T00:00:00\",\"2019-02-21T00:00:00\",\"2019-02-28T00:00:00\",\"2019-03-07T00:00:00\",\"2019-03-14T00:00:00\",\"2019-03-21T00:00:00\",\"2019-03-28T00:00:00\",\"2019-04-04T00:00:00\",\"2019-04-11T00:00:00\",\"2019-04-18T00:00:00\",\"2019-04-25T00:00:00\",\"2019-05-02T00:00:00\",\"2019-05-09T00:00:00\",\"2019-05-16T00:00:00\",\"2019-05-23T00:00:00\",\"2019-05-30T00:00:00\",\"2019-06-06T00:00:00\",\"2019-06-13T00:00:00\",\"2019-06-20T00:00:00\",\"2019-06-27T00:00:00\",\"2019-07-03T00:00:00\",\"2019-07-11T00:00:00\",\"2019-07-18T00:00:00\",\"2019-07-25T00:00:00\",\"2019-08-01T00:00:00\",\"2019-08-08T00:00:00\",\"2019-08-15T00:00:00\",\"2019-08-22T00:00:00\",\"2019-08-29T00:00:00\",\"2019-09-05T00:00:00\",\"2019-09-12T00:00:00\",\"2019-09-19T00:00:00\",\"2019-09-26T00:00:00\",\"2019-10-03T00:00:00\",\"2019-10-10T00:00:00\",\"2019-10-17T00:00:00\",\"2019-10-24T00:00:00\",\"2019-10-31T00:00:00\",\"2019-11-07T00:00:00\",\"2019-11-14T00:00:00\",\"2019-11-21T00:00:00\",\"2019-11-27T00:00:00\",\"2019-12-05T00:00:00\",\"2019-12-12T00:00:00\",\"2019-12-19T00:00:00\",\"2019-12-26T00:00:00\",\"2020-01-02T00:00:00\",\"2020-01-09T00:00:00\",\"2020-01-16T00:00:00\",\"2020-01-23T00:00:00\",\"2020-01-30T00:00:00\",\"2020-02-06T00:00:00\",\"2020-02-13T00:00:00\",\"2020-02-20T00:00:00\",\"2020-02-27T00:00:00\",\"2020-03-05T00:00:00\",\"2020-03-12T00:00:00\",\"2020-03-19T00:00:00\",\"2020-03-26T00:00:00\",\"2020-04-02T00:00:00\",\"2020-04-09T00:00:00\",\"2020-04-16T00:00:00\",\"2020-04-23T00:00:00\",\"2020-04-30T00:00:00\",\"2020-05-07T00:00:00\",\"2020-05-14T00:00:00\",\"2020-05-21T00:00:00\",\"2020-05-28T00:00:00\",\"2020-06-04T00:00:00\",\"2020-06-11T00:00:00\",\"2020-06-18T00:00:00\",\"2020-06-25T00:00:00\",\"2020-07-02T00:00:00\",\"2020-07-09T00:00:00\",\"2020-07-16T00:00:00\",\"2020-07-23T00:00:00\",\"2020-07-30T00:00:00\",\"2020-08-06T00:00:00\",\"2020-08-13T00:00:00\",\"2020-08-20T00:00:00\",\"2020-08-27T00:00:00\",\"2020-09-03T00:00:00\",\"2020-09-10T00:00:00\",\"2020-09-17T00:00:00\",\"2020-09-24T00:00:00\",\"2020-10-01T00:00:00\",\"2020-10-08T00:00:00\",\"2020-10-15T00:00:00\",\"2020-10-22T00:00:00\",\"2020-10-29T00:00:00\",\"2020-11-05T00:00:00\",\"2020-11-12T00:00:00\",\"2020-11-19T00:00:00\",\"2020-11-25T00:00:00\",\"2020-12-03T00:00:00\",\"2020-12-10T00:00:00\",\"2020-12-17T00:00:00\",\"2020-12-24T00:00:00\",\"2020-12-31T00:00:00\",\"2021-01-07T00:00:00\",\"2021-01-14T00:00:00\",\"2021-01-21T00:00:00\",\"2021-01-28T00:00:00\",\"2021-02-04T00:00:00\",\"2021-02-11T00:00:00\",\"2021-02-18T00:00:00\",\"2021-02-25T00:00:00\",\"2021-03-04T00:00:00\",\"2021-03-11T00:00:00\",\"2021-03-18T00:00:00\",\"2021-03-25T00:00:00\",\"2021-04-01T00:00:00\",\"2021-04-08T00:00:00\",\"2021-04-15T00:00:00\",\"2021-04-22T00:00:00\",\"2021-04-29T00:00:00\",\"2021-05-06T00:00:00\",\"2021-05-13T00:00:00\",\"2021-05-20T00:00:00\",\"2021-05-27T00:00:00\",\"2021-06-03T00:00:00\",\"2021-06-10T00:00:00\",\"2021-06-17T00:00:00\",\"2021-06-24T00:00:00\",\"2021-07-01T00:00:00\",\"2021-07-08T00:00:00\",\"2021-07-15T00:00:00\",\"2021-07-22T00:00:00\",\"2021-07-29T00:00:00\",\"2021-08-05T00:00:00\",\"2021-08-12T00:00:00\",\"2021-08-19T00:00:00\",\"2021-08-26T00:00:00\",\"2021-09-02T00:00:00\",\"2021-09-09T00:00:00\",\"2021-09-16T00:00:00\",\"2021-09-23T00:00:00\",\"2021-09-30T00:00:00\",\"2021-10-07T00:00:00\",\"2021-10-14T00:00:00\",\"2021-10-21T00:00:00\",\"2021-10-28T00:00:00\",\"2021-11-04T00:00:00\",\"2021-11-10T00:00:00\",\"2021-11-18T00:00:00\",\"2021-11-24T00:00:00\",\"2021-12-02T00:00:00\",\"2021-12-09T00:00:00\",\"2021-12-16T00:00:00\",\"2021-12-23T00:00:00\",\"2021-12-30T00:00:00\",\"2022-01-06T00:00:00\",\"2022-01-13T00:00:00\",\"2022-01-20T00:00:00\",\"2022-01-27T00:00:00\",\"2022-02-03T00:00:00\",\"2022-02-10T00:00:00\",\"2022-02-17T00:00:00\",\"2022-02-24T00:00:00\",\"2022-03-03T00:00:00\",\"2022-03-10T00:00:00\",\"2022-03-17T00:00:00\",\"2022-03-24T00:00:00\",\"2022-03-31T00:00:00\",\"2022-04-07T00:00:00\",\"2022-04-14T00:00:00\",\"2022-04-21T00:00:00\",\"2022-04-28T00:00:00\",\"2022-05-05T00:00:00\",\"2022-05-12T00:00:00\",\"2022-05-19T00:00:00\",\"2022-05-26T00:00:00\",\"2022-06-02T00:00:00\",\"2022-06-09T00:00:00\",\"2022-06-16T00:00:00\",\"2022-06-23T00:00:00\",\"2022-06-30T00:00:00\",\"2022-07-07T00:00:00\",\"2022-07-14T00:00:00\",\"2022-07-21T00:00:00\",\"2022-07-28T00:00:00\",\"2022-08-04T00:00:00\",\"2022-08-11T00:00:00\",\"2022-08-18T00:00:00\",\"2022-08-25T00:00:00\",\"2022-09-01T00:00:00\",\"2022-09-08T00:00:00\",\"2022-09-15T00:00:00\",\"2022-09-22T00:00:00\",\"2022-09-29T00:00:00\",\"2022-10-06T00:00:00\",\"2022-10-13T00:00:00\",\"2022-10-20T00:00:00\",\"2022-10-27T00:00:00\",\"2022-11-03T00:00:00\",\"2022-11-10T00:00:00\",\"2022-11-17T00:00:00\",\"2022-11-23T00:00:00\",\"2022-12-01T00:00:00\",\"2022-12-08T00:00:00\",\"2022-12-15T00:00:00\",\"2022-12-22T00:00:00\",\"2022-12-29T00:00:00\",\"2023-01-05T00:00:00\",\"2023-01-12T00:00:00\",\"2023-01-19T00:00:00\",\"2023-01-26T00:00:00\",\"2023-02-02T00:00:00\",\"2023-02-09T00:00:00\",\"2023-02-16T00:00:00\",\"2023-02-23T00:00:00\",\"2023-03-02T00:00:00\",\"2023-03-09T00:00:00\",\"2023-03-16T00:00:00\",\"2023-03-23T00:00:00\",\"2023-03-30T00:00:00\",\"2023-04-06T00:00:00\",\"2023-04-13T00:00:00\",\"2023-04-20T00:00:00\",\"2023-04-27T00:00:00\",\"2023-05-04T00:00:00\",\"2023-05-11T00:00:00\",\"2023-05-18T00:00:00\",\"2023-05-25T00:00:00\",\"2023-06-01T00:00:00\",\"2023-06-08T00:00:00\",\"2023-06-15T00:00:00\",\"2023-06-22T00:00:00\",\"2023-06-29T00:00:00\",\"2023-07-06T00:00:00\",\"2023-07-13T00:00:00\",\"2023-07-20T00:00:00\",\"2023-07-27T00:00:00\",\"2023-08-03T00:00:00\",\"2023-08-10T00:00:00\",\"2023-08-17T00:00:00\",\"2023-08-24T00:00:00\",\"2023-08-31T00:00:00\",\"2023-09-07T00:00:00\",\"2023-09-14T00:00:00\",\"2023-09-21T00:00:00\",\"2023-09-28T00:00:00\",\"2023-10-05T00:00:00\",\"2023-10-12T00:00:00\",\"2023-10-19T00:00:00\",\"2023-10-26T00:00:00\"],\"y\":[8.15,8.18,8.26,8.25,8.25,8.36,8.38,8.31,8.27,8.23,8.24,8.23,8.23,8.2,8.12,8.16,8.13,8.28,8.52,8.64,8.62,8.54,8.32,8.22,8.14,8.22,8.16,8.09,8.21,8.13,8.12,8.04,7.96,7.99,7.96,7.94,7.88,7.9,7.88,7.83,7.84,7.83,7.68,7.73,7.79,7.73,7.73,7.65,7.54,7.42,7.17,7.13,7.07,6.89,7.02,7.15,7.09,6.98,7.01,7.12,7.03,6.97,6.96,6.89,6.91,7.01,7.04,7.14,7.12,7.14,7.1,7.14,7.2,7.24,7.2,7.14,7.11,7.11,7.19,7.21,7.08,7.03,7.0,7.0,6.92,6.91,6.92,6.89,6.86,6.8,6.72,6.64,6.58,6.61,6.64,6.56,6.45,6.51,6.75,7.02,6.84,7.09,7.17,7.16,7.14,7.06,6.83,6.96,7.02,6.88,6.86,6.81,6.8,6.87,7.08,7.14,7.18,7.13,6.99,6.94,6.88,6.78,6.79,6.89,6.81,6.76,6.71,6.71,6.63,6.55,6.57,6.54,6.49,6.34,6.43,6.31,6.22,6.27,6.22,6.15,6.18,6.05,5.99,6.01,5.98,6.15,6.31,6.13,6.11,5.94,6.03,6.13,6.19,6.04,6.03,5.93,5.85,5.95,5.97,5.91,5.9,5.88,5.86,5.84,5.79,5.67,5.61,5.79,5.91,5.79,5.85,5.82,5.79,5.7,5.62,5.45,5.34,5.31,5.26,5.21,5.21,5.24,5.4,5.52,5.67,5.94,6.14,6.34,6.24,6.28,6.32,6.44,6.16,6.01,5.98,5.77,5.95,6.05,6.05,5.94,5.98,6.03,5.83,5.89,6.02,5.88,5.82,5.81,5.85,5.87,5.66,5.64,5.68,5.72,5.66,5.58,5.58,5.59,5.41,5.38,5.4,5.52,5.79,5.89,5.94,6.01,6.12,6.34,6.3,6.32,6.28,6.3,6.32,6.25,6.21,6.01,6.0,5.98,6.08,5.99,5.85,5.81,5.82,5.77,5.83,5.75,5.7,5.72,5.82,5.74,5.69,5.64,5.7,5.76,5.74,5.72,5.81,5.71,5.68,5.75,5.81,5.77,5.74,5.67,5.66,5.63,5.57,5.62,5.69,5.79,5.85,5.95,6.01,6.04,5.93,5.91,5.8,5.78,5.75,5.77,5.71,5.65,5.62,5.56,5.63,5.57,5.53,5.62,5.66,5.73,5.77,5.82,5.89,5.8,5.77,5.71,5.71,5.74,5.8,5.91,5.98,6.03,6.1,6.15,6.31,6.36,6.37,6.28,6.26,6.32,6.3,6.26,6.22,6.21,6.15,6.1,6.12,6.23,6.24,6.28,6.26,6.24,6.37,6.34,6.32,6.35,6.43,6.49,6.53,6.58,6.59,6.58,6.6,6.62,6.67,6.62,6.63,6.71,6.78,6.79,6.74,6.8,6.72,6.63,6.55,6.52,6.48,6.44,6.47,6.43,6.4,6.31,6.3,6.37,6.36,6.4,6.31,6.33,6.24,6.18,6.14,6.11,6.12,6.13,6.18,6.18,6.21,6.23,6.25,6.34,6.28,6.3,6.22,6.18,6.14,6.14,6.16,6.16,6.17,6.22,6.17,6.16,6.16,6.15,6.21,6.37,6.42,6.53,6.74,6.69,6.67,6.63,6.73,6.73,6.69,6.68,6.59,6.62,6.52,6.45,6.46,6.31,6.34,6.42,6.37,6.4,6.4,6.33,6.26,6.24,6.24,6.2,6.1,5.96,6.11,6.14,6.17,6.07,5.87,5.69,5.48,5.68,5.67,5.72,6.04,6.24,6.03,6.13,5.87,5.85,5.88,5.88,5.88,6.03,6.06,6.05,6.01,5.98,6.08,6.09,6.32,6.42,6.45,6.35,6.37,6.26,6.63,6.52,6.52,6.52,6.47,6.4,6.35,5.93,5.78,6.09,6.1,5.94,6.46,6.04,6.46,6.2,6.14,6.04,5.97,5.53,5.47,5.19,5.14,5.1,5.01,4.96,5.12,5.1,5.25,5.16,5.04,5.07,5.15,5.03,4.98,4.85,4.78,4.87,4.82,4.8,4.78,4.84,4.86,4.82,4.91,5.29,5.59,5.38,5.42,5.32,5.2,5.14,5.2,5.25,5.22,5.29,5.12,5.14,5.08,5.07,5.04,5.04,4.94,4.87,4.92,5.0,5.03,4.98,4.91,4.83,4.78,4.71,4.81,4.94,5.05,5.14,5.09,5.06,4.99,4.98,5.01,4.97,4.93,5.05,4.97,4.95,4.96,4.99,5.08,5.21,5.07,5.07,5.06,5.0,4.93,4.84,4.78,4.79,4.72,4.75,4.69,4.58,4.57,4.57,4.56,4.54,4.49,4.44,4.42,4.36,4.32,4.35,4.37,4.37,4.32,4.27,4.19,4.21,4.23,4.24,4.17,4.39,4.4,4.46,4.61,4.83,4.81,4.86,4.77,4.71,4.74,4.8,4.81,5.05,5.0,4.95,4.87,4.88,4.76,4.81,4.86,4.87,4.91,4.8,4.78,4.71,4.63,4.61,4.6,4.55,4.49,4.5,4.5,4.51,4.6,4.51,4.52,4.55,4.39,4.32,4.15,4.22,4.22,4.12,4.09,4.09,4.01,3.94,4.12,4.11,4.1,4.0,3.99,4.0,3.98,4.0,3.99,3.94,3.91,3.95,3.91,3.89,3.88,3.98,3.87,3.87,3.87,3.95,3.9,3.88,3.92,4.08,3.99,3.98,3.88,3.9,3.88,3.84,3.83,3.79,3.78,3.75,3.67,3.71,3.66,3.66,3.62,3.56,3.53,3.49,3.55,3.59,3.62,3.66,3.59,3.55,3.55,3.49,3.4,3.36,3.39,3.37,3.41,3.39,3.4,3.34,3.31,3.32,3.34,3.32,3.37,3.35,3.34,3.4,3.38,3.42,3.53,3.53,3.53,3.56,3.51,3.52,3.63,3.54,3.57,3.54,3.43,3.41,3.4,3.35,3.42,3.51,3.59,3.81,3.91,3.98,3.93,4.46,4.29,4.51,4.37,4.31,4.39,4.4,4.4,4.58,4.51,4.57,4.57,4.5,4.32,4.22,4.23,4.28,4.13,4.1,4.16,4.35,4.22,4.29,4.46,4.42,4.47,4.48,4.53,4.51,4.41,4.39,4.32,4.23,4.28,4.33,4.37,4.28,4.37,4.32,4.4,4.41,4.34,4.27,4.33,4.29,4.21,4.2,4.14,4.12,4.14,4.2,4.17,4.14,4.12,4.15,4.13,4.13,4.12,4.14,4.12,4.1,4.1,4.1,4.12,4.23,4.2,4.19,4.12,3.97,3.92,3.98,4.02,4.01,3.99,3.97,3.89,3.93,3.8,3.83,3.87,3.73,3.66,3.63,3.66,3.59,3.69,3.76,3.8,3.75,3.86,3.78,3.69,3.7,3.66,3.67,3.65,3.68,3.8,3.85,3.84,3.87,3.87,4.04,4.0,4.02,4.08,4.04,4.09,4.04,3.98,3.91,3.94,3.93,3.84,3.89,3.9,3.91,3.86,3.85,3.76,3.82,3.79,3.76,3.87,3.98,3.97,3.95,3.93,3.95,3.97,3.96,4.01,3.97,3.92,3.81,3.79,3.72,3.65,3.65,3.62,3.64,3.68,3.73,3.71,3.71,3.59,3.58,3.59,3.66,3.61,3.57,3.58,3.64,3.66,3.6,3.54,3.56,3.48,3.41,3.42,3.45,3.48,3.43,3.45,3.43,3.43,3.46,3.44,3.5,3.48,3.42,3.42,3.47,3.52,3.47,3.54,3.57,3.94,4.03,4.08,4.13,4.16,4.3,4.32,4.2,4.12,4.09,4.19,4.19,4.17,4.15,4.16,4.1,4.21,4.3,4.23,4.14,4.1,4.08,3.97,4.03,4.02,4.05,4.02,3.95,3.94,3.89,3.91,3.9,3.88,3.96,4.03,3.96,3.92,3.93,3.9,3.89,3.86,3.82,3.78,3.78,3.83,3.83,3.85,3.91,3.88,3.94,3.94,3.9,3.95,3.92,3.9,3.94,3.93,3.94,3.99,3.95,3.99,4.04,4.15,4.22,4.32,4.38,4.4,4.43,4.46,4.44,4.45,4.44,4.4,4.42,4.47,4.58,4.55,4.55,4.61,4.66,4.56,4.54,4.62,4.57,4.55,4.52,4.53,4.52,4.54,4.6,4.59,4.53,4.51,4.52,4.54,4.6,4.65,4.72,4.71,4.9,4.85,4.86,4.83,4.94,4.94,4.81,4.81,4.75,4.63,4.62,4.55,4.51,4.45,4.45,4.45,4.46,4.41,4.37,4.35,4.35,4.41,4.31,4.28,4.06,4.08,4.12,4.17,4.2,4.14,4.1,4.07,4.06,3.99,3.82,3.82,3.84,3.73,3.75,3.75,3.81,3.75,3.75,3.6,3.6,3.55,3.58,3.49,3.56,3.73,3.64,3.65,3.57,3.69,3.75,3.78,3.69,3.75,3.66,3.68,3.68,3.73,3.73,3.74,3.72,3.64,3.65,3.6,3.51,3.45,3.47,3.49,3.45,3.29,3.36,3.65,3.5,3.33,3.33,3.31,3.33,3.23,3.26,3.28,3.24,3.15,3.18,3.21,3.13,3.13,3.07,3.03,2.98,3.01,2.99,2.88,2.96,2.99,2.91,2.93,2.86,2.87,2.9,2.88,2.87,2.81,2.8,2.81,2.78,2.84,2.72,2.72,2.71,2.71,2.67,2.66,2.67,2.65,2.79,2.77,2.73,2.73,2.73,2.81,2.97,3.02,3.05,3.09,3.17,3.18,3.13,3.04,2.97,2.98,2.96,2.94,3.0,2.95,2.99,2.96,2.93,3.02,2.98,2.9,2.88,2.78,2.8,2.77,2.87,2.86,2.87,2.87,2.88,2.86,2.88,3.01,2.99,3.05,3.09,3.14,3.09,2.98,3.1,3.1,3.11,3.1,3.12,3.05,3.11,3.22,3.45,3.56,3.55,3.55,3.69,3.92,3.89,3.76,3.85,4.16,4.42,4.67,4.72,5.0,5.11,5.1,5.27,5.3,5.25,5.1,5.09,5.23,5.78,5.81,5.7,5.3,5.51,5.54,5.3,4.99,5.22,5.13,5.55,5.66,5.89,6.02,6.29,6.7,6.66,6.92,6.94,7.08,6.95,7.08,6.61,6.58,6.49,6.33,6.31,6.27,6.42,6.48,6.33,6.15,6.13,6.09,6.12,6.32,6.5,6.65,6.73,6.6,6.42,6.32,6.28,6.27,6.39,6.43,6.39,6.35,6.39,6.57,6.79,6.71,6.69,6.67,6.71,6.81,6.96,6.78,6.81,6.9,6.96,7.09,7.23,7.18,7.12,7.18,7.19,7.31,7.49,7.57,7.63,7.79],\"type\":\"scatter\"}],                        {\"template\":{\"data\":{\"barpolar\":[{\"marker\":{\"line\":{\"color\":\"#E5ECF6\",\"width\":0.5},\"pattern\":{\"fillmode\":\"overlay\",\"size\":10,\"solidity\":0.2}},\"type\":\"barpolar\"}],\"bar\":[{\"error_x\":{\"color\":\"#2a3f5f\"},\"error_y\":{\"color\":\"#2a3f5f\"},\"marker\":{\"line\":{\"color\":\"#E5ECF6\",\"width\":0.5},\"pattern\":{\"fillmode\":\"overlay\",\"size\":10,\"solidity\":0.2}},\"type\":\"bar\"}],\"carpet\":[{\"aaxis\":{\"endlinecolor\":\"#2a3f5f\",\"gridcolor\":\"white\",\"linecolor\":\"white\",\"minorgridcolor\":\"white\",\"startlinecolor\":\"#2a3f5f\"},\"baxis\":{\"endlinecolor\":\"#2a3f5f\",\"gridcolor\":\"white\",\"linecolor\":\"white\",\"minorgridcolor\":\"white\",\"startlinecolor\":\"#2a3f5f\"},\"type\":\"carpet\"}],\"choropleth\":[{\"colorbar\":{\"outlinewidth\":0,\"ticks\":\"\"},\"type\":\"choropleth\"}],\"contourcarpet\":[{\"colorbar\":{\"outlinewidth\":0,\"ticks\":\"\"},\"type\":\"contourcarpet\"}],\"contour\":[{\"colorbar\":{\"outlinewidth\":0,\"ticks\":\"\"},\"colorscale\":[[0.0,\"#0d0887\"],[0.1111111111111111,\"#46039f\"],[0.2222222222222222,\"#7201a8\"],[0.3333333333333333,\"#9c179e\"],[0.4444444444444444,\"#bd3786\"],[0.5555555555555556,\"#d8576b\"],[0.6666666666666666,\"#ed7953\"],[0.7777777777777778,\"#fb9f3a\"],[0.8888888888888888,\"#fdca26\"],[1.0,\"#f0f921\"]],\"type\":\"contour\"}],\"heatmapgl\":[{\"colorbar\":{\"outlinewidth\":0,\"ticks\":\"\"},\"colorscale\":[[0.0,\"#0d0887\"],[0.1111111111111111,\"#46039f\"],[0.2222222222222222,\"#7201a8\"],[0.3333333333333333,\"#9c179e\"],[0.4444444444444444,\"#bd3786\"],[0.5555555555555556,\"#d8576b\"],[0.6666666666666666,\"#ed7953\"],[0.7777777777777778,\"#fb9f3a\"],[0.8888888888888888,\"#fdca26\"],[1.0,\"#f0f921\"]],\"type\":\"heatmapgl\"}],\"heatmap\":[{\"colorbar\":{\"outlinewidth\":0,\"ticks\":\"\"},\"colorscale\":[[0.0,\"#0d0887\"],[0.1111111111111111,\"#46039f\"],[0.2222222222222222,\"#7201a8\"],[0.3333333333333333,\"#9c179e\"],[0.4444444444444444,\"#bd3786\"],[0.5555555555555556,\"#d8576b\"],[0.6666666666666666,\"#ed7953\"],[0.7777777777777778,\"#fb9f3a\"],[0.8888888888888888,\"#fdca26\"],[1.0,\"#f0f921\"]],\"type\":\"heatmap\"}],\"histogram2dcontour\":[{\"colorbar\":{\"outlinewidth\":0,\"ticks\":\"\"},\"colorscale\":[[0.0,\"#0d0887\"],[0.1111111111111111,\"#46039f\"],[0.2222222222222222,\"#7201a8\"],[0.3333333333333333,\"#9c179e\"],[0.4444444444444444,\"#bd3786\"],[0.5555555555555556,\"#d8576b\"],[0.6666666666666666,\"#ed7953\"],[0.7777777777777778,\"#fb9f3a\"],[0.8888888888888888,\"#fdca26\"],[1.0,\"#f0f921\"]],\"type\":\"histogram2dcontour\"}],\"histogram2d\":[{\"colorbar\":{\"outlinewidth\":0,\"ticks\":\"\"},\"colorscale\":[[0.0,\"#0d0887\"],[0.1111111111111111,\"#46039f\"],[0.2222222222222222,\"#7201a8\"],[0.3333333333333333,\"#9c179e\"],[0.4444444444444444,\"#bd3786\"],[0.5555555555555556,\"#d8576b\"],[0.6666666666666666,\"#ed7953\"],[0.7777777777777778,\"#fb9f3a\"],[0.8888888888888888,\"#fdca26\"],[1.0,\"#f0f921\"]],\"type\":\"histogram2d\"}],\"histogram\":[{\"marker\":{\"pattern\":{\"fillmode\":\"overlay\",\"size\":10,\"solidity\":0.2}},\"type\":\"histogram\"}],\"mesh3d\":[{\"colorbar\":{\"outlinewidth\":0,\"ticks\":\"\"},\"type\":\"mesh3d\"}],\"parcoords\":[{\"line\":{\"colorbar\":{\"outlinewidth\":0,\"ticks\":\"\"}},\"type\":\"parcoords\"}],\"pie\":[{\"automargin\":true,\"type\":\"pie\"}],\"scatter3d\":[{\"line\":{\"colorbar\":{\"outlinewidth\":0,\"ticks\":\"\"}},\"marker\":{\"colorbar\":{\"outlinewidth\":0,\"ticks\":\"\"}},\"type\":\"scatter3d\"}],\"scattercarpet\":[{\"marker\":{\"colorbar\":{\"outlinewidth\":0,\"ticks\":\"\"}},\"type\":\"scattercarpet\"}],\"scattergeo\":[{\"marker\":{\"colorbar\":{\"outlinewidth\":0,\"ticks\":\"\"}},\"type\":\"scattergeo\"}],\"scattergl\":[{\"marker\":{\"colorbar\":{\"outlinewidth\":0,\"ticks\":\"\"}},\"type\":\"scattergl\"}],\"scattermapbox\":[{\"marker\":{\"colorbar\":{\"outlinewidth\":0,\"ticks\":\"\"}},\"type\":\"scattermapbox\"}],\"scatterpolargl\":[{\"marker\":{\"colorbar\":{\"outlinewidth\":0,\"ticks\":\"\"}},\"type\":\"scatterpolargl\"}],\"scatterpolar\":[{\"marker\":{\"colorbar\":{\"outlinewidth\":0,\"ticks\":\"\"}},\"type\":\"scatterpolar\"}],\"scatter\":[{\"fillpattern\":{\"fillmode\":\"overlay\",\"size\":10,\"solidity\":0.2},\"type\":\"scatter\"}],\"scatterternary\":[{\"marker\":{\"colorbar\":{\"outlinewidth\":0,\"ticks\":\"\"}},\"type\":\"scatterternary\"}],\"surface\":[{\"colorbar\":{\"outlinewidth\":0,\"ticks\":\"\"},\"colorscale\":[[0.0,\"#0d0887\"],[0.1111111111111111,\"#46039f\"],[0.2222222222222222,\"#7201a8\"],[0.3333333333333333,\"#9c179e\"],[0.4444444444444444,\"#bd3786\"],[0.5555555555555556,\"#d8576b\"],[0.6666666666666666,\"#ed7953\"],[0.7777777777777778,\"#fb9f3a\"],[0.8888888888888888,\"#fdca26\"],[1.0,\"#f0f921\"]],\"type\":\"surface\"}],\"table\":[{\"cells\":{\"fill\":{\"color\":\"#EBF0F8\"},\"line\":{\"color\":\"white\"}},\"header\":{\"fill\":{\"color\":\"#C8D4E3\"},\"line\":{\"color\":\"white\"}},\"type\":\"table\"}]},\"layout\":{\"annotationdefaults\":{\"arrowcolor\":\"#2a3f5f\",\"arrowhead\":0,\"arrowwidth\":1},\"autotypenumbers\":\"strict\",\"coloraxis\":{\"colorbar\":{\"outlinewidth\":0,\"ticks\":\"\"}},\"colorscale\":{\"diverging\":[[0,\"#8e0152\"],[0.1,\"#c51b7d\"],[0.2,\"#de77ae\"],[0.3,\"#f1b6da\"],[0.4,\"#fde0ef\"],[0.5,\"#f7f7f7\"],[0.6,\"#e6f5d0\"],[0.7,\"#b8e186\"],[0.8,\"#7fbc41\"],[0.9,\"#4d9221\"],[1,\"#276419\"]],\"sequential\":[[0.0,\"#0d0887\"],[0.1111111111111111,\"#46039f\"],[0.2222222222222222,\"#7201a8\"],[0.3333333333333333,\"#9c179e\"],[0.4444444444444444,\"#bd3786\"],[0.5555555555555556,\"#d8576b\"],[0.6666666666666666,\"#ed7953\"],[0.7777777777777778,\"#fb9f3a\"],[0.8888888888888888,\"#fdca26\"],[1.0,\"#f0f921\"]],\"sequentialminus\":[[0.0,\"#0d0887\"],[0.1111111111111111,\"#46039f\"],[0.2222222222222222,\"#7201a8\"],[0.3333333333333333,\"#9c179e\"],[0.4444444444444444,\"#bd3786\"],[0.5555555555555556,\"#d8576b\"],[0.6666666666666666,\"#ed7953\"],[0.7777777777777778,\"#fb9f3a\"],[0.8888888888888888,\"#fdca26\"],[1.0,\"#f0f921\"]]},\"colorway\":[\"#636efa\",\"#EF553B\",\"#00cc96\",\"#ab63fa\",\"#FFA15A\",\"#19d3f3\",\"#FF6692\",\"#B6E880\",\"#FF97FF\",\"#FECB52\"],\"font\":{\"color\":\"#2a3f5f\"},\"geo\":{\"bgcolor\":\"white\",\"lakecolor\":\"white\",\"landcolor\":\"#E5ECF6\",\"showlakes\":true,\"showland\":true,\"subunitcolor\":\"white\"},\"hoverlabel\":{\"align\":\"left\"},\"hovermode\":\"closest\",\"mapbox\":{\"style\":\"light\"},\"paper_bgcolor\":\"white\",\"plot_bgcolor\":\"#E5ECF6\",\"polar\":{\"angularaxis\":{\"gridcolor\":\"white\",\"linecolor\":\"white\",\"ticks\":\"\"},\"bgcolor\":\"#E5ECF6\",\"radialaxis\":{\"gridcolor\":\"white\",\"linecolor\":\"white\",\"ticks\":\"\"}},\"scene\":{\"xaxis\":{\"backgroundcolor\":\"#E5ECF6\",\"gridcolor\":\"white\",\"gridwidth\":2,\"linecolor\":\"white\",\"showbackground\":true,\"ticks\":\"\",\"zerolinecolor\":\"white\"},\"yaxis\":{\"backgroundcolor\":\"#E5ECF6\",\"gridcolor\":\"white\",\"gridwidth\":2,\"linecolor\":\"white\",\"showbackground\":true,\"ticks\":\"\",\"zerolinecolor\":\"white\"},\"zaxis\":{\"backgroundcolor\":\"#E5ECF6\",\"gridcolor\":\"white\",\"gridwidth\":2,\"linecolor\":\"white\",\"showbackground\":true,\"ticks\":\"\",\"zerolinecolor\":\"white\"}},\"shapedefaults\":{\"line\":{\"color\":\"#2a3f5f\"}},\"ternary\":{\"aaxis\":{\"gridcolor\":\"white\",\"linecolor\":\"white\",\"ticks\":\"\"},\"baxis\":{\"gridcolor\":\"white\",\"linecolor\":\"white\",\"ticks\":\"\"},\"bgcolor\":\"#E5ECF6\",\"caxis\":{\"gridcolor\":\"white\",\"linecolor\":\"white\",\"ticks\":\"\"}},\"title\":{\"x\":0.05},\"xaxis\":{\"automargin\":true,\"gridcolor\":\"white\",\"linecolor\":\"white\",\"ticks\":\"\",\"title\":{\"standoff\":15},\"zerolinecolor\":\"white\",\"zerolinewidth\":2},\"yaxis\":{\"automargin\":true,\"gridcolor\":\"white\",\"linecolor\":\"white\",\"ticks\":\"\",\"title\":{\"standoff\":15},\"zerolinecolor\":\"white\",\"zerolinewidth\":2}}},\"title\":{\"text\":\"Fixed Rate Mortgage Average in the United States\"},\"xaxis\":{\"rangeselector\":{\"buttons\":[{\"count\":6,\"label\":\"6 months\",\"step\":\"month\",\"stepmode\":\"backward\"},{\"count\":1,\"label\":\"1 year\",\"step\":\"year\",\"stepmode\":\"backward\"},{\"count\":2,\"label\":\"2 years\",\"step\":\"year\",\"stepmode\":\"backward\"},{\"count\":5,\"label\":\"5 years\",\"step\":\"year\",\"stepmode\":\"backward\"},{\"count\":10,\"label\":\"10 years\",\"step\":\"year\",\"stepmode\":\"backward\"},{\"count\":15,\"label\":\"15 years\",\"step\":\"year\",\"stepmode\":\"backward\"},{\"step\":\"all\"}]},\"rangeslider\":{\"visible\":true},\"type\":\"date\"}},                        {\"responsive\": true}                    ).then(function(){\n",
       "                            \n",
       "var gd = document.getElementById('ec8e16f7-f067-4153-91e3-32efd011a533');\n",
       "var x = new MutationObserver(function (mutations, observer) {{\n",
       "        var display = window.getComputedStyle(gd).display;\n",
       "        if (!display || display === 'none') {{\n",
       "            console.log([gd, 'removed!']);\n",
       "            Plotly.purge(gd);\n",
       "            observer.disconnect();\n",
       "        }}\n",
       "}});\n",
       "\n",
       "// Listen for the removal of the full notebook cells\n",
       "var notebookContainer = gd.closest('#notebook-container');\n",
       "if (notebookContainer) {{\n",
       "    x.observe(notebookContainer, {childList: true});\n",
       "}}\n",
       "\n",
       "// Listen for the clearing of the current output cell\n",
       "var outputEl = gd.closest('.output');\n",
       "if (outputEl) {{\n",
       "    x.observe(outputEl, {childList: true});\n",
       "}}\n",
       "\n",
       "                        })                };                });            </script>        </div>"
      ]
     },
     "metadata": {},
     "output_type": "display_data"
    }
   ],
   "source": [
    "plot_line_chart(mortgage_df, x='DATE', y='MORTGAGE30US', title='Fixed Rate Mortgage Average in the United States')"
   ]
  },
  {
   "cell_type": "markdown",
   "id": "778b362c",
   "metadata": {
    "id": "e1X1gt9R5lrY",
    "papermill": {
     "duration": 0.013012,
     "end_time": "2023-10-30T15:10:48.220391",
     "exception": false,
     "start_time": "2023-10-30T15:10:48.207379",
     "status": "completed"
    },
    "tags": []
   },
   "source": [
    "### Mortgage Rates effects on the US Home prices\n",
    "\n",
    "\n",
    "*   **Inverse Relationship**: Mortgage rates and home prices have an inverse relationship. When mortgage rates are low, homebuyers can afford more expensive homes because lower rates result in lower monthly mortgage payments for a given loan amount.\n",
    "\n",
    "*   **Investor Sentiment**: Lower mortgage rates can make real estate investments more attractive due to potentially higher cash flow and returns.\n",
    "\n"
   ]
  },
  {
   "cell_type": "markdown",
   "id": "9b9dd0e0",
   "metadata": {
    "id": "JNvnR4n7nXA-",
    "papermill": {
     "duration": 0.012709,
     "end_time": "2023-10-30T15:10:48.246485",
     "exception": false,
     "start_time": "2023-10-30T15:10:48.233776",
     "status": "completed"
    },
    "tags": []
   },
   "source": [
    "### Correlation with Housing Price Index\n",
    "\n",
    "#### **Positive Correlations**:\n",
    "\n",
    "  1. **Population**: Strong Positive Correlation of **0.77**\n",
    "  2. **Producer Price Index**: Strong Positive Correlation of **0.82**\n",
    "  3. **House Supply**: Mild Positive Correlation of **0.16**\n",
    "\n",
    "#### **Negative Correlations**:\n",
    "\n",
    "  1. **Mortgage Rate**: Strong Negative Correlation of **-0.64**\n",
    "  2. **Housing Credit Association Index(hcai)**: Strong Negative Correlation of **-0.43**\n",
    "  3. **Delinquency Rate**(Amount of debt that is past due): Mild Negative Correlation of **-0.25**\n",
    "\n"
   ]
  },
  {
   "cell_type": "markdown",
   "id": "c158b8a8",
   "metadata": {
    "papermill": {
     "duration": 0.013111,
     "end_time": "2023-10-30T15:10:48.332028",
     "exception": false,
     "start_time": "2023-10-30T15:10:48.318917",
     "status": "completed"
    },
    "tags": []
   },
   "source": [
    "<h3 style=\"font-size:30px; text-align: left;background-color:royalblue; font-family:Helvetica; color: #ffffff; padding: 16px; line-height: 1; border-radius:10px; border: 3px solid #3f484b;\"> Other Notebooks</h3>\n",
    "\n",
    "<a id=\"\"></a>\n",
    "<div class=\"list-group\" id=\"list-tab\" role=\"tablist\"\n",
    "     style=\"font-family:Rubik; font-size:150%;background-color: #ededed;\n",
    "            border-radius:10px; color: royalblue; border-style: solid;border-color:#0a3a6f;\">\n",
    "    \n",
    "   * [<i> India on the Rise </i>](https://www.kaggle.com/code/madhurpant/india-on-the-rise)\n",
    "   * [<i>Heart Disease EDA</i>](https://www.kaggle.com/code/madhurpant/heart-disease-eda)\n",
    "   * [<i>KNN Visualization and Optimization\n",
    "</i>](https://www.kaggle.com/code/madhurpant/knn-visualization-and-optimization)"
   ]
  },
  {
   "cell_type": "markdown",
   "id": "b28bfd12",
   "metadata": {
    "id": "IcJdA2gFjR82",
    "papermill": {
     "duration": 0.01285,
     "end_time": "2023-10-30T15:10:48.358139",
     "exception": false,
     "start_time": "2023-10-30T15:10:48.345289",
     "status": "completed"
    },
    "tags": []
   },
   "source": [
    "<a id=\"11\"></a>\n",
    "# <div style=\"font-size:40px; text-align: center; background-color: royalblue; font-family:Helvetica; color: #ffffff; padding: 14px; line-height: 1;border-radius:20px; border: 4px solid #3f484b;\"><b>The End</b></div>"
   ]
  }
 ],
 "metadata": {
  "kernelspec": {
   "display_name": "Python 3 (ipykernel)",
   "language": "python",
   "name": "python3"
  },
  "language_info": {
   "codemirror_mode": {
    "name": "ipython",
    "version": 3
   },
   "file_extension": ".py",
   "mimetype": "text/x-python",
   "name": "python",
   "nbconvert_exporter": "python",
   "pygments_lexer": "ipython3",
   "version": "3.11.5"
  },
  "papermill": {
   "default_parameters": {},
   "duration": 10.020862,
   "end_time": "2023-10-30T15:10:49.092901",
   "environment_variables": {},
   "exception": null,
   "input_path": "__notebook__.ipynb",
   "output_path": "__notebook__.ipynb",
   "parameters": {},
   "start_time": "2023-10-30T15:10:39.072039",
   "version": "2.4.0"
  }
 },
 "nbformat": 4,
 "nbformat_minor": 5
}
